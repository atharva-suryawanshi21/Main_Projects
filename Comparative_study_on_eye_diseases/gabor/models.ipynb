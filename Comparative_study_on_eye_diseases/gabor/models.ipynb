{
 "cells": [
  {
   "cell_type": "markdown",
   "metadata": {},
   "source": [
    "# Import relevant libraries"
   ]
  },
  {
   "cell_type": "code",
   "execution_count": 1,
   "metadata": {},
   "outputs": [],
   "source": [
    "import numpy as np\n",
    "import os\n",
    "\n",
    "import matplotlib.pyplot as plt\n",
    "\n",
    "import tensorflow as tf\n",
    "import pickle\n",
    "from model_architecture import get_model\n",
    "from keras.callbacks import ModelCheckpoint\n",
    "from keras.optimizers import Adam\n",
    "from sklearn.svm import SVC\n",
    "from keras.models import Model\n",
    "from sklearn.metrics import accuracy_score\n",
    "from sklearn.preprocessing import StandardScaler\n",
    "import cv2\n",
    "from sklearn.metrics import classification_report\n",
    "from sklearn.ensemble import AdaBoostClassifier, RandomForestClassifier\n",
    "import xgboost as xgb\n",
    "from sklearn.neighbors import KNeighborsClassifier\n",
    "from sklearn.preprocessing import StandardScaler"
   ]
  },
  {
   "cell_type": "markdown",
   "metadata": {},
   "source": [
    "# Preprocessing"
   ]
  },
  {
   "cell_type": "markdown",
   "metadata": {},
   "source": [
    "#### take latest model"
   ]
  },
  {
   "cell_type": "code",
   "execution_count": 2,
   "metadata": {},
   "outputs": [],
   "source": [
    "import joblib\n",
    "model = get_model()\n",
    "model.load_weights('./weights/final.weights.h5')\n",
    "\n",
    "model.compile(\n",
    "    optimizer='adam',\n",
    "    loss='sparse_categorical_crossentropy',\n",
    "    metrics=['accuracy']\n",
    ")\n"
   ]
  },
  {
   "cell_type": "markdown",
   "metadata": {},
   "source": [
    "#### Take data"
   ]
  },
  {
   "cell_type": "code",
   "execution_count": 3,
   "metadata": {},
   "outputs": [],
   "source": [
    "save_path = './'\n",
    "\n",
    "with open(os.path.join(save_path, \"train_fifth.pickle\"), 'rb') as f:\n",
    "    (train_data, train_labels) = pickle.load(f)\n",
    "\n",
    "with open(os.path.join(save_path, \"test_fifth.pickle\"), 'rb') as f:\n",
    "    (test_data, test_labels) = pickle.load(f)"
   ]
  },
  {
   "cell_type": "markdown",
   "metadata": {},
   "source": [
    "#### Normalize"
   ]
  },
  {
   "cell_type": "code",
   "execution_count": 4,
   "metadata": {},
   "outputs": [],
   "source": [
    "def normalize_image_numpy(image):\n",
    "    # Convert the pixel values to floats between 0 and 1\n",
    "    image = image.astype(np.float32) / 255.0\n",
    "    return image\n",
    "\n",
    "train_data_normalized = normalize_image_numpy(train_data)\n",
    "test_data_normalized = normalize_image_numpy(test_data)"
   ]
  },
  {
   "cell_type": "markdown",
   "metadata": {},
   "source": [
    "#### CNN feature extraction"
   ]
  },
  {
   "cell_type": "code",
   "execution_count": 5,
   "metadata": {},
   "outputs": [
    {
     "name": "stdout",
     "output_type": "stream",
     "text": [
      "\u001b[1m100/100\u001b[0m \u001b[32m━━━━━━━━━━━━━━━━━━━━\u001b[0m\u001b[37m\u001b[0m \u001b[1m497s\u001b[0m 5s/step\n",
      "\u001b[1m32/32\u001b[0m \u001b[32m━━━━━━━━━━━━━━━━━━━━\u001b[0m\u001b[37m\u001b[0m \u001b[1m97s\u001b[0m 3s/step\n"
     ]
    }
   ],
   "source": [
    "# Function to extract features from the CNN model\n",
    "def extract_features(model, X):\n",
    "    feature_extractor = Model(inputs=model.input, outputs=model.layers[-2].output)\n",
    "    features = feature_extractor.predict(X)\n",
    "    return features\n",
    "\n",
    "X_train_features = extract_features(model, train_data_normalized)\n",
    "X_test_features = extract_features(model, test_data_normalized)"
   ]
  },
  {
   "cell_type": "markdown",
   "metadata": {},
   "source": [
    "# Methods"
   ]
  },
  {
   "cell_type": "markdown",
   "metadata": {},
   "source": [
    "### 1. CNN"
   ]
  },
  {
   "cell_type": "code",
   "execution_count": 6,
   "metadata": {},
   "outputs": [],
   "source": [
    "# y_pred_1_f = model.predict(test_data_normalized)\n",
    "\n",
    "# y_pred_1 = np.argmax(y_pred_1_f, axis=1)"
   ]
  },
  {
   "cell_type": "code",
   "execution_count": 7,
   "metadata": {},
   "outputs": [],
   "source": [
    "# classification_rep_1 = classification_report(test_labels, y_pred_1)\n",
    "# print(\"Classification Report:\")\n",
    "# print(classification_rep_1)"
   ]
  },
  {
   "cell_type": "code",
   "execution_count": 8,
   "metadata": {},
   "outputs": [],
   "source": [
    "# from tabulate import tabulate\n",
    "\n",
    "# def print_colorful_classification_report(classification_report):\n",
    "#     report_lines = classification_report.split('\\n')\n",
    "#     headers = report_lines[0].split()\n",
    "#     data = []\n",
    "\n",
    "#     for line in report_lines[2:-5]:  # Exclude header and footer lines\n",
    "#         row_data = line.split()\n",
    "#         class_name = row_data[0]\n",
    "#         row_data = [float(val) if val != 'accuracy' else val for val in row_data[1:]]\n",
    "#         data.append([class_name] + row_data)\n",
    "\n",
    "#     print(tabulate(data, headers=headers, tablefmt='fancy_grid', numalign='center'))\n",
    "\n",
    "\n",
    "# print_colorful_classification_report(classification_rep_1)\n"
   ]
  },
  {
   "cell_type": "markdown",
   "metadata": {},
   "source": [
    "### 2. KNN"
   ]
  },
  {
   "cell_type": "code",
   "execution_count": 9,
   "metadata": {},
   "outputs": [
    {
     "name": "stdout",
     "output_type": "stream",
     "text": [
      "Accuracy: 0.838\n"
     ]
    }
   ],
   "source": [
    "def train_knn(features, y):\n",
    "    knn_clf = KNeighborsClassifier(n_neighbors=4)  # You can adjust the number of neighbors as needed\n",
    "    knn_clf.fit(features, y)\n",
    "    return knn_clf\n",
    "\n",
    "knn_classifier = train_knn(X_train_features, train_labels)\n",
    "\n",
    "y_pred_6 = knn_classifier.predict(X_test_features)\n",
    "\n",
    "accuracy_6 = accuracy_score(test_labels, y_pred_6)\n",
    "\n",
    "print(\"Accuracy:\", accuracy_6)"
   ]
  },
  {
   "cell_type": "code",
   "execution_count": 21,
   "metadata": {},
   "outputs": [
    {
     "name": "stdout",
     "output_type": "stream",
     "text": [
      "KNN Accuracy: 0.838\n"
     ]
    }
   ],
   "source": [
    "joblib.dump(knn_classifier, 'knn_model.pkl')\n",
    "\n",
    "# Load the KNN model from the file\n",
    "loaded_knn_model = joblib.load('knn_model.pkl')\n",
    "\n",
    "# Use the loaded model for prediction\n",
    "y_pred_knn = loaded_knn_model.predict(X_test_features)\n",
    "\n",
    "# Calculate accuracy\n",
    "accuracy_knn = accuracy_score(test_labels, y_pred_knn)\n",
    "print(\"KNN Accuracy:\", accuracy_knn)"
   ]
  },
  {
   "cell_type": "code",
   "execution_count": 10,
   "metadata": {},
   "outputs": [
    {
     "name": "stdout",
     "output_type": "stream",
     "text": [
      "Classification Report:\n",
      "              precision    recall  f1-score   support\n",
      "\n",
      "           0       0.82      0.89      0.85       250\n",
      "           1       0.89      0.89      0.89       250\n",
      "           2       0.76      0.74      0.75       250\n",
      "           3       0.88      0.84      0.86       250\n",
      "\n",
      "    accuracy                           0.84      1000\n",
      "   macro avg       0.84      0.84      0.84      1000\n",
      "weighted avg       0.84      0.84      0.84      1000\n",
      "\n"
     ]
    }
   ],
   "source": [
    "classification_rep_6 = classification_report(test_labels, y_pred_6)\n",
    "print(\"Classification Report:\")\n",
    "print(classification_rep_6)"
   ]
  },
  {
   "cell_type": "markdown",
   "metadata": {},
   "source": [
    "### 3. SVM"
   ]
  },
  {
   "cell_type": "markdown",
   "metadata": {},
   "source": [
    "#### SVM{'gamma'='auto', 'kernel': 'rbf'}"
   ]
  },
  {
   "cell_type": "code",
   "execution_count": 11,
   "metadata": {},
   "outputs": [
    {
     "name": "stdout",
     "output_type": "stream",
     "text": [
      "Accuracy: 0.867\n"
     ]
    }
   ],
   "source": [
    "def train_svm(features, y):\n",
    "    svm_clf = SVC(kernel='rbf', gamma='auto')\n",
    "    svm_clf.fit(features, y)\n",
    "    return svm_clf\n",
    "\n",
    "svm_classifier_1 = train_svm(X_train_features, train_labels)\n",
    "\n",
    "y_pred_1 = svm_classifier_1.predict(X_test_features)\n",
    "\n",
    "accuracy_1 = accuracy_score(test_labels, y_pred_1)\n",
    "print(\"Accuracy:\", accuracy_1)"
   ]
  },
  {
   "cell_type": "code",
   "execution_count": 12,
   "metadata": {},
   "outputs": [
    {
     "name": "stdout",
     "output_type": "stream",
     "text": [
      "Classification Report:\n",
      "              precision    recall  f1-score   support\n",
      "\n",
      "           0       0.86      0.88      0.87       250\n",
      "           1       0.93      0.90      0.91       250\n",
      "           2       0.82      0.79      0.80       250\n",
      "           3       0.86      0.90      0.88       250\n",
      "\n",
      "    accuracy                           0.87      1000\n",
      "   macro avg       0.87      0.87      0.87      1000\n",
      "weighted avg       0.87      0.87      0.87      1000\n",
      "\n"
     ]
    }
   ],
   "source": [
    "classification_rep_1 = classification_report(test_labels, y_pred_1)\n",
    "print(\"Classification Report:\")\n",
    "print(classification_rep_1)"
   ]
  },
  {
   "cell_type": "markdown",
   "metadata": {},
   "source": [
    "#### SVM{'C': 0.1, 'kernel': 'linear'}"
   ]
  },
  {
   "cell_type": "code",
   "execution_count": 13,
   "metadata": {},
   "outputs": [
    {
     "name": "stdout",
     "output_type": "stream",
     "text": [
      "Accuracy: 0.873\n"
     ]
    }
   ],
   "source": [
    "def train_svm(features, y):\n",
    "    svm_clf = SVC(C = 0.1, kernel = 'linear')\n",
    "    svm_clf.fit(features, y)\n",
    "    return svm_clf\n",
    "\n",
    "svm_classifier_2 = train_svm(X_train_features, train_labels)\n",
    "\n",
    "y_pred_2 = svm_classifier_2.predict(X_test_features)\n",
    "\n",
    "accuracy_2 = accuracy_score(test_labels, y_pred_2)\n",
    "print(\"Accuracy:\", accuracy_2)"
   ]
  },
  {
   "cell_type": "code",
   "execution_count": 14,
   "metadata": {},
   "outputs": [
    {
     "name": "stdout",
     "output_type": "stream",
     "text": [
      "Classification Report:\n",
      "              precision    recall  f1-score   support\n",
      "\n",
      "           0       0.84      0.89      0.87       250\n",
      "           1       0.93      0.90      0.91       250\n",
      "           2       0.84      0.80      0.82       250\n",
      "           3       0.88      0.91      0.89       250\n",
      "\n",
      "    accuracy                           0.87      1000\n",
      "   macro avg       0.87      0.87      0.87      1000\n",
      "weighted avg       0.87      0.87      0.87      1000\n",
      "\n"
     ]
    }
   ],
   "source": [
    "classification_rep_2 = classification_report(test_labels, y_pred_2)\n",
    "print(\"Classification Report:\")\n",
    "print(classification_rep_2)"
   ]
  },
  {
   "cell_type": "markdown",
   "metadata": {},
   "source": [
    "#### SVM{'C': 100, 'degree': 2, 'kernel': 'poly'}"
   ]
  },
  {
   "cell_type": "code",
   "execution_count": 15,
   "metadata": {},
   "outputs": [
    {
     "name": "stdout",
     "output_type": "stream",
     "text": [
      "Accuracy: 0.878\n"
     ]
    }
   ],
   "source": [
    "def train_svm(features, y):\n",
    "    svm_clf = SVC(C = 100, kernel = 'poly', degree=2)\n",
    "    svm_clf.fit(features, y)\n",
    "    return svm_clf\n",
    "\n",
    "svm_classifier_3 = train_svm(X_train_features, train_labels)\n",
    "\n",
    "y_pred_3 = svm_classifier_3.predict(X_test_features)\n",
    "\n",
    "accuracy_3 = accuracy_score(test_labels, y_pred_3)\n",
    "print(\"Accuracy:\", accuracy_3)"
   ]
  },
  {
   "cell_type": "code",
   "execution_count": 22,
   "metadata": {},
   "outputs": [
    {
     "name": "stdout",
     "output_type": "stream",
     "text": [
      "Accuracy: 0.867\n"
     ]
    }
   ],
   "source": [
    "import joblib\n",
    "joblib.dump(svm_classifier_1, 'svm_model.pkl')\n",
    "\n",
    "# Load the SVM model from the file\n",
    "loaded_svm_model = joblib.load('svm_model.pkl')\n",
    "\n",
    "# Use the loaded model for prediction\n",
    "y_pred_3 = loaded_svm_model.predict(X_test_features)\n",
    "\n",
    "# Calculate accuracy\n",
    "accuracy_3 = accuracy_score(test_labels, y_pred_3)\n",
    "print(\"Accuracy:\", accuracy_3)"
   ]
  },
  {
   "cell_type": "code",
   "execution_count": 16,
   "metadata": {},
   "outputs": [
    {
     "name": "stdout",
     "output_type": "stream",
     "text": [
      "Classification Report:\n",
      "              precision    recall  f1-score   support\n",
      "\n",
      "           0       0.85      0.89      0.87       250\n",
      "           1       0.94      0.90      0.92       250\n",
      "           2       0.84      0.81      0.82       250\n",
      "           3       0.89      0.92      0.90       250\n",
      "\n",
      "    accuracy                           0.88      1000\n",
      "   macro avg       0.88      0.88      0.88      1000\n",
      "weighted avg       0.88      0.88      0.88      1000\n",
      "\n"
     ]
    }
   ],
   "source": [
    "classification_rep_3 = classification_report(test_labels, y_pred_3)\n",
    "print(\"Classification Report:\")\n",
    "print(classification_rep_3)"
   ]
  },
  {
   "cell_type": "markdown",
   "metadata": {},
   "source": [
    "### 4. Adaboost {base classifier= random forest, n_estimators = 50}"
   ]
  },
  {
   "cell_type": "code",
   "execution_count": 17,
   "metadata": {},
   "outputs": [
    {
     "name": "stdout",
     "output_type": "stream",
     "text": [
      "Accuracy: 0.863\n"
     ]
    }
   ],
   "source": [
    "def train_adaboost(features, y, n_estimators=10):\n",
    "    base_classifier = RandomForestClassifier(n_estimators=100)\n",
    "    ada_boost_clf = AdaBoostClassifier(estimator=base_classifier, n_estimators=n_estimators)\n",
    "    ada_boost_clf.fit(features, y)\n",
    "    return ada_boost_clf\n",
    "\n",
    "\n",
    "ada_boost_classifier = train_adaboost(X_train_features, train_labels)\n",
    "\n",
    "y_pred_4 = ada_boost_classifier.predict(X_test_features)\n",
    "\n",
    "accuracy_4 = accuracy_score(test_labels, y_pred_4)\n",
    "print(\"Accuracy:\", accuracy_4)"
   ]
  },
  {
   "cell_type": "code",
   "execution_count": 23,
   "metadata": {},
   "outputs": [
    {
     "name": "stdout",
     "output_type": "stream",
     "text": [
      "AdaBoost Accuracy: 0.863\n"
     ]
    }
   ],
   "source": [
    "joblib.dump(ada_boost_classifier, 'adaboost_model.pkl')\n",
    "\n",
    "# Load the AdaBoost model from the file\n",
    "loaded_adaboost_model = joblib.load('adaboost_model.pkl')\n",
    "\n",
    "# Use the loaded model for prediction\n",
    "y_pred_adaboost = loaded_adaboost_model.predict(X_test_features)\n",
    "\n",
    "# Calculate accuracy\n",
    "accuracy_adaboost = accuracy_score(test_labels, y_pred_adaboost)\n",
    "print(\"AdaBoost Accuracy:\", accuracy_adaboost)"
   ]
  },
  {
   "cell_type": "code",
   "execution_count": 18,
   "metadata": {},
   "outputs": [
    {
     "name": "stdout",
     "output_type": "stream",
     "text": [
      "Classification Report:\n",
      "              precision    recall  f1-score   support\n",
      "\n",
      "           0       0.86      0.87      0.87       250\n",
      "           1       0.91      0.90      0.91       250\n",
      "           2       0.81      0.80      0.80       250\n",
      "           3       0.87      0.88      0.87       250\n",
      "\n",
      "    accuracy                           0.86      1000\n",
      "   macro avg       0.86      0.86      0.86      1000\n",
      "weighted avg       0.86      0.86      0.86      1000\n",
      "\n"
     ]
    }
   ],
   "source": [
    "classification_rep_4 = classification_report(test_labels, y_pred_4)\n",
    "print(\"Classification Report:\")\n",
    "print(classification_rep_4)"
   ]
  },
  {
   "cell_type": "markdown",
   "metadata": {},
   "source": [
    "### 5. XGBOOST"
   ]
  },
  {
   "cell_type": "code",
   "execution_count": 19,
   "metadata": {},
   "outputs": [
    {
     "name": "stdout",
     "output_type": "stream",
     "text": [
      "Accuracy: 0.867\n"
     ]
    }
   ],
   "source": [
    "# Define XGBoost parameters\n",
    "params = {\n",
    "    'objective': 'multi:softmax',  # Multi-class classification\n",
    "    'num_class': 4,  # Number of classes\n",
    "    'max_depth': 3,  # Maximum depth of each tree\n",
    "    'eta': 0.1,  # Learning rate\n",
    "    'subsample': 0.5,  # Subsample ratio of the training instance\n",
    "    'colsample_bytree': 0.5,  # Subsample ratio of columns when constructing each tree\n",
    "    'eval_metric': 'merror'  # Evaluation metric (multiclass error rate)\n",
    "}\n",
    "\n",
    "# Convert the dataset into DMatrix format, which is optimized for XGBoost\n",
    "dtrain = xgb.DMatrix(X_train_features, label=train_labels)\n",
    "dtest = xgb.DMatrix(X_test_features)\n",
    "\n",
    "# Train the XGBoost model\n",
    "num_rounds = 500  # Number of boosting rounds\n",
    "xgb_model = xgb.train(params, dtrain, num_rounds)\n",
    "\n",
    "# Make predictions\n",
    "y_pred_5 = xgb_model.predict(dtest)\n",
    "\n",
    "# Calculate accuracy\n",
    "accuracy_5 = accuracy_score(test_labels, y_pred_5)\n",
    "print(\"Accuracy:\", accuracy_5)"
   ]
  },
  {
   "cell_type": "code",
   "execution_count": 24,
   "metadata": {},
   "outputs": [
    {
     "name": "stdout",
     "output_type": "stream",
     "text": [
      "XGBoost Accuracy: 0.867\n"
     ]
    }
   ],
   "source": [
    "# Save the trained XGBoost model to a file\n",
    "joblib.dump(xgb_model, 'xgboost_model.pkl')\n",
    "\n",
    "# Load the XGBoost model from the file\n",
    "loaded_xgboost_model = joblib.load('xgboost_model.pkl')\n",
    "\n",
    "# Use the loaded model for prediction\n",
    "dtest = xgb.DMatrix(X_test_features)\n",
    "y_pred_xgboost = loaded_xgboost_model.predict(dtest)\n",
    "\n",
    "# Calculate accuracy\n",
    "accuracy_xgboost = accuracy_score(test_labels, y_pred_xgboost)\n",
    "print(\"XGBoost Accuracy:\", accuracy_xgboost)"
   ]
  },
  {
   "cell_type": "code",
   "execution_count": 20,
   "metadata": {},
   "outputs": [
    {
     "name": "stdout",
     "output_type": "stream",
     "text": [
      "Classification Report:\n",
      "              precision    recall  f1-score   support\n",
      "\n",
      "           0       0.84      0.89      0.87       250\n",
      "           1       0.92      0.89      0.91       250\n",
      "           2       0.82      0.80      0.81       250\n",
      "           3       0.89      0.89      0.89       250\n",
      "\n",
      "    accuracy                           0.87      1000\n",
      "   macro avg       0.87      0.87      0.87      1000\n",
      "weighted avg       0.87      0.87      0.87      1000\n",
      "\n"
     ]
    }
   ],
   "source": [
    "classification_rep_5 = classification_report(test_labels, y_pred_5)\n",
    "print(\"Classification Report:\")\n",
    "print(classification_rep_5)"
   ]
  },
  {
   "cell_type": "code",
   "execution_count": null,
   "metadata": {},
   "outputs": [],
   "source": []
  }
 ],
 "metadata": {
  "kernelspec": {
   "display_name": "Python 3",
   "language": "python",
   "name": "python3"
  },
  "language_info": {
   "codemirror_mode": {
    "name": "ipython",
    "version": 3
   },
   "file_extension": ".py",
   "mimetype": "text/x-python",
   "name": "python",
   "nbconvert_exporter": "python",
   "pygments_lexer": "ipython3",
   "version": "3.11.3"
  }
 },
 "nbformat": 4,
 "nbformat_minor": 2
}
