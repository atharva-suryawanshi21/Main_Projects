{
 "cells": [
  {
   "cell_type": "code",
   "execution_count": 9,
   "metadata": {},
   "outputs": [
    {
     "name": "stdout",
     "output_type": "stream",
     "text": [
      "Extracting EDF parameters from c:\\Users\\Atharva\\Desktop\\main_project_EEG\\eeg-during-mental-arithmetic-tasks-1.0.0\\Subject00_1.edf...\n",
      "EDF file detected\n",
      "Setting channel info structure...\n",
      "Creating raw.info structure...\n",
      "Reading 0 ... 90999  =      0.000 ...   181.998 secs...\n"
     ]
    }
   ],
   "source": [
    "import mne\n",
    "import numpy as np\n",
    "\n",
    "# Load the EEG data\n",
    "raw = mne.io.read_raw_edf('.\\eeg-during-mental-arithmetic-tasks-1.0.0\\Subject00_1.edf', preload=True)"
   ]
  },
  {
   "cell_type": "code",
   "execution_count": 18,
   "metadata": {},
   "outputs": [
    {
     "data": {
      "text/plain": [
       "array([[-3.64793763e-06, -4.23648168e-06, -4.95421832e-06, ...,\n",
       "         1.35446677e-09,  1.35446677e-09,  1.35446677e-09],\n",
       "       [-3.58186632e-06, -4.27938829e-06, -5.02084864e-06, ...,\n",
       "        -8.87424125e-10, -8.87424125e-10, -8.87424125e-10],\n",
       "       [-4.08124663e-06, -4.76621934e-06, -5.78345493e-06, ...,\n",
       "         4.75066606e-10,  4.75066606e-10,  4.75066606e-10],\n",
       "       ...,\n",
       "       [ 2.82213640e-06,  5.31172705e-06,  8.36727827e-06, ...,\n",
       "         2.82381323e-10,  2.82381323e-10,  2.82381323e-10],\n",
       "       [ 1.29154198e-06,  9.73218582e-07,  5.79025363e-07, ...,\n",
       "         1.05613794e-10,  1.05613794e-10,  1.05613794e-10],\n",
       "       [ 5.41307623e-06,  1.98814371e-06, -3.12957156e-06, ...,\n",
       "         6.66933700e-09,  6.66933700e-09,  6.66933700e-09]])"
      ]
     },
     "execution_count": 18,
     "metadata": {},
     "output_type": "execute_result"
    }
   ],
   "source": [
    "raw.get_data()"
   ]
  },
  {
   "cell_type": "code",
   "execution_count": 12,
   "metadata": {},
   "outputs": [
    {
     "data": {
      "text/html": [
       "<details open>\n",
       "    <summary><strong>General</strong></summary>\n",
       "    <table class=\"table table-hover table-striped table-sm table-responsive small\">\n",
       "        <tr>\n",
       "            <th>Measurement date</th>\n",
       "            \n",
       "            <td>January 01, 2011  00:00:00 GMT</td>\n",
       "            \n",
       "        </tr>\n",
       "        <tr>\n",
       "            <th>Experimenter</th>\n",
       "            \n",
       "            <td>Unknown</td>\n",
       "            \n",
       "        </tr>\n",
       "        <tr>\n",
       "            <th>Participant</th>\n",
       "            \n",
       "            \n",
       "            <td>0</td>\n",
       "            \n",
       "            \n",
       "        </tr>\n",
       "    </table>\n",
       "    </details>\n",
       "    <details open>\n",
       "        <summary><strong>Channels</strong></summary>\n",
       "        <table class=\"table table-hover table-striped table-sm table-responsive small\">\n",
       "            <tr>\n",
       "                <th>Digitized points</th>\n",
       "                \n",
       "                <td>Not available</td>\n",
       "                \n",
       "            </tr>\n",
       "            <tr>\n",
       "                <th>Good channels</th>\n",
       "                <td>21 EEG</td>\n",
       "            </tr>\n",
       "            <tr>\n",
       "                <th>Bad channels</th>\n",
       "                <td>None</td>\n",
       "            </tr>\n",
       "            <tr>\n",
       "                <th>EOG channels</th>\n",
       "                <td>Not available</td>\n",
       "            </tr>\n",
       "            <tr>\n",
       "                <th>ECG channels</th>\n",
       "                <td>Not available</td>\n",
       "            </tr>\n",
       "        </table>\n",
       "        </details>\n",
       "        <details open>\n",
       "            <summary><strong>Data</strong></summary>\n",
       "            <table class=\"table table-hover table-striped table-sm table-responsive small\">\n",
       "                \n",
       "                <tr>\n",
       "                    <th>Sampling frequency</th>\n",
       "                    <td>500.00 Hz</td>\n",
       "                </tr>\n",
       "                \n",
       "                \n",
       "                <tr>\n",
       "                    <th>Highpass</th>\n",
       "                    <td>0.50 Hz</td>\n",
       "                </tr>\n",
       "                \n",
       "                \n",
       "                <tr>\n",
       "                    <th>Lowpass</th>\n",
       "                    <td>45.00 Hz</td>\n",
       "                </tr>\n",
       "                \n",
       "                \n",
       "                \n",
       "                \n",
       "            </table>\n",
       "            </details>"
      ],
      "text/plain": [
       "<Info | 8 non-empty values\n",
       " bads: []\n",
       " ch_names: EEG Fp1, EEG Fp2, EEG F3, EEG F4, EEG F7, EEG F8, EEG T3, EEG ...\n",
       " chs: 21 EEG\n",
       " custom_ref_applied: False\n",
       " highpass: 0.5 Hz\n",
       " lowpass: 45.0 Hz\n",
       " meas_date: 2011-01-01 00:00:00 UTC\n",
       " nchan: 21\n",
       " projs: []\n",
       " sfreq: 500.0 Hz\n",
       " subject_info: 4 items (dict)\n",
       ">"
      ]
     },
     "execution_count": 12,
     "metadata": {},
     "output_type": "execute_result"
    }
   ],
   "source": [
    "raw.info\n"
   ]
  },
  {
   "cell_type": "code",
   "execution_count": 16,
   "metadata": {},
   "outputs": [
    {
     "name": "stdout",
     "output_type": "stream",
     "text": [
      "Reading <RawEDF | Subject00_1.edf, 21 x 91000 (182.0 s), ~14.6 MB, data loaded> ...\n"
     ]
    },
    {
     "ename": "OSError",
     "evalue": "[Errno 22] Invalid argument: '<RawEDF | Subject00_1.edf, 21 x 91000 (182.0 s), ~14.6 MB, data loaded>'",
     "output_type": "error",
     "traceback": [
      "\u001b[1;31m---------------------------------------------------------------------------\u001b[0m",
      "\u001b[1;31mOSError\u001b[0m                                   Traceback (most recent call last)",
      "Cell \u001b[1;32mIn[16], line 1\u001b[0m\n\u001b[1;32m----> 1\u001b[0m epochs \u001b[38;5;241m=\u001b[39m \u001b[43mmne\u001b[49m\u001b[38;5;241;43m.\u001b[39;49m\u001b[43mread_epochs\u001b[49m\u001b[43m(\u001b[49m\u001b[43mraw\u001b[49m\u001b[43m)\u001b[49m\n",
      "File \u001b[1;32m<decorator-gen-250>:12\u001b[0m, in \u001b[0;36mread_epochs\u001b[1;34m(fname, proj, preload, verbose)\u001b[0m\n",
      "File \u001b[1;32mc:\\Users\\Atharva\\Anaconda3\\envs\\py_tf\\Lib\\site-packages\\mne\\epochs.py:4219\u001b[0m, in \u001b[0;36mread_epochs\u001b[1;34m(fname, proj, preload, verbose)\u001b[0m\n\u001b[0;32m   4201\u001b[0m \u001b[38;5;129m@verbose\u001b[39m\n\u001b[0;32m   4202\u001b[0m \u001b[38;5;28;01mdef\u001b[39;00m \u001b[38;5;21mread_epochs\u001b[39m(fname, proj\u001b[38;5;241m=\u001b[39m\u001b[38;5;28;01mTrue\u001b[39;00m, preload\u001b[38;5;241m=\u001b[39m\u001b[38;5;28;01mTrue\u001b[39;00m, verbose\u001b[38;5;241m=\u001b[39m\u001b[38;5;28;01mNone\u001b[39;00m) \u001b[38;5;241m-\u001b[39m\u001b[38;5;241m>\u001b[39m \u001b[38;5;124m\"\u001b[39m\u001b[38;5;124mEpochsFIF\u001b[39m\u001b[38;5;124m\"\u001b[39m:\n\u001b[0;32m   4203\u001b[0m \u001b[38;5;250m    \u001b[39m\u001b[38;5;124;03m\"\"\"Read epochs from a fif file.\u001b[39;00m\n\u001b[0;32m   4204\u001b[0m \n\u001b[0;32m   4205\u001b[0m \u001b[38;5;124;03m    Parameters\u001b[39;00m\n\u001b[1;32m   (...)\u001b[0m\n\u001b[0;32m   4217\u001b[0m \u001b[38;5;124;03m        The epochs.\u001b[39;00m\n\u001b[0;32m   4218\u001b[0m \u001b[38;5;124;03m    \"\"\"\u001b[39;00m\n\u001b[1;32m-> 4219\u001b[0m     \u001b[38;5;28;01mreturn\u001b[39;00m \u001b[43mEpochsFIF\u001b[49m\u001b[43m(\u001b[49m\u001b[43mfname\u001b[49m\u001b[43m,\u001b[49m\u001b[43m \u001b[49m\u001b[43mproj\u001b[49m\u001b[43m,\u001b[49m\u001b[43m \u001b[49m\u001b[43mpreload\u001b[49m\u001b[43m,\u001b[49m\u001b[43m \u001b[49m\u001b[43mverbose\u001b[49m\u001b[43m)\u001b[49m\n",
      "File \u001b[1;32m<decorator-gen-251>:12\u001b[0m, in \u001b[0;36m__init__\u001b[1;34m(self, fname, proj, preload, verbose)\u001b[0m\n",
      "File \u001b[1;32mc:\\Users\\Atharva\\Anaconda3\\envs\\py_tf\\Lib\\site-packages\\mne\\epochs.py:4278\u001b[0m, in \u001b[0;36mEpochsFIF.__init__\u001b[1;34m(self, fname, proj, preload, verbose)\u001b[0m\n\u001b[0;32m   4276\u001b[0m fname_rep \u001b[38;5;241m=\u001b[39m _get_fname_rep(fname)\n\u001b[0;32m   4277\u001b[0m logger\u001b[38;5;241m.\u001b[39minfo(\u001b[38;5;124m\"\u001b[39m\u001b[38;5;124mReading \u001b[39m\u001b[38;5;132;01m%s\u001b[39;00m\u001b[38;5;124m ...\u001b[39m\u001b[38;5;124m\"\u001b[39m \u001b[38;5;241m%\u001b[39m fname_rep)\n\u001b[1;32m-> 4278\u001b[0m fid, tree, _ \u001b[38;5;241m=\u001b[39m \u001b[43mfiff_open\u001b[49m\u001b[43m(\u001b[49m\u001b[43mfname\u001b[49m\u001b[43m,\u001b[49m\u001b[43m \u001b[49m\u001b[43mpreload\u001b[49m\u001b[38;5;241;43m=\u001b[39;49m\u001b[43mpreload\u001b[49m\u001b[43m)\u001b[49m\n\u001b[0;32m   4279\u001b[0m next_fname \u001b[38;5;241m=\u001b[39m _get_next_fname(fid, fname, tree)\n\u001b[0;32m   4280\u001b[0m (\n\u001b[0;32m   4281\u001b[0m     info,\n\u001b[0;32m   4282\u001b[0m     data,\n\u001b[1;32m   (...)\u001b[0m\n\u001b[0;32m   4297\u001b[0m     raw_sfreq,\n\u001b[0;32m   4298\u001b[0m ) \u001b[38;5;241m=\u001b[39m _read_one_epoch_file(fid, tree, preload)\n",
      "File \u001b[1;32m<decorator-gen-7>:12\u001b[0m, in \u001b[0;36mfiff_open\u001b[1;34m(fname, preload, verbose)\u001b[0m\n",
      "File \u001b[1;32mc:\\Users\\Atharva\\Anaconda3\\envs\\py_tf\\Lib\\site-packages\\mne\\_fiff\\open.py:132\u001b[0m, in \u001b[0;36mfiff_open\u001b[1;34m(fname, preload, verbose)\u001b[0m\n\u001b[0;32m    108\u001b[0m \u001b[38;5;129m@verbose\u001b[39m\n\u001b[0;32m    109\u001b[0m \u001b[38;5;28;01mdef\u001b[39;00m \u001b[38;5;21mfiff_open\u001b[39m(fname, preload\u001b[38;5;241m=\u001b[39m\u001b[38;5;28;01mFalse\u001b[39;00m, verbose\u001b[38;5;241m=\u001b[39m\u001b[38;5;28;01mNone\u001b[39;00m):\n\u001b[0;32m    110\u001b[0m \u001b[38;5;250m    \u001b[39m\u001b[38;5;124;03m\"\"\"Open a FIF file.\u001b[39;00m\n\u001b[0;32m    111\u001b[0m \n\u001b[0;32m    112\u001b[0m \u001b[38;5;124;03m    Parameters\u001b[39;00m\n\u001b[1;32m   (...)\u001b[0m\n\u001b[0;32m    130\u001b[0m \u001b[38;5;124;03m        A list of tags.\u001b[39;00m\n\u001b[0;32m    131\u001b[0m \u001b[38;5;124;03m    \"\"\"\u001b[39;00m\n\u001b[1;32m--> 132\u001b[0m     fid \u001b[38;5;241m=\u001b[39m \u001b[43m_fiff_get_fid\u001b[49m\u001b[43m(\u001b[49m\u001b[43mfname\u001b[49m\u001b[43m)\u001b[49m\n\u001b[0;32m    133\u001b[0m     \u001b[38;5;28;01mtry\u001b[39;00m:\n\u001b[0;32m    134\u001b[0m         \u001b[38;5;28;01mreturn\u001b[39;00m _fiff_open(fname, fid, preload)\n",
      "File \u001b[1;32mc:\\Users\\Atharva\\Anaconda3\\envs\\py_tf\\Lib\\site-packages\\mne\\_fiff\\open.py:60\u001b[0m, in \u001b[0;36m_fiff_get_fid\u001b[1;34m(fname)\u001b[0m\n\u001b[0;32m     58\u001b[0m     \u001b[38;5;28;01melse\u001b[39;00m:\n\u001b[0;32m     59\u001b[0m         logger\u001b[38;5;241m.\u001b[39mdebug(\u001b[38;5;124m\"\u001b[39m\u001b[38;5;124mUsing normal I/O\u001b[39m\u001b[38;5;124m\"\u001b[39m)\n\u001b[1;32m---> 60\u001b[0m         fid \u001b[38;5;241m=\u001b[39m \u001b[38;5;28;43mopen\u001b[39;49m\u001b[43m(\u001b[49m\u001b[43mfname\u001b[49m\u001b[43m,\u001b[49m\u001b[43m \u001b[49m\u001b[38;5;124;43m\"\u001b[39;49m\u001b[38;5;124;43mrb\u001b[39;49m\u001b[38;5;124;43m\"\u001b[39;49m\u001b[43m)\u001b[49m  \u001b[38;5;66;03m# Open in binary mode\u001b[39;00m\n\u001b[0;32m     61\u001b[0m \u001b[38;5;28;01mreturn\u001b[39;00m fid\n",
      "\u001b[1;31mOSError\u001b[0m: [Errno 22] Invalid argument: '<RawEDF | Subject00_1.edf, 21 x 91000 (182.0 s), ~14.6 MB, data loaded>'"
     ]
    }
   ],
   "source": [
    "epochs = mne.read_epochs(raw)"
   ]
  },
  {
   "cell_type": "code",
   "execution_count": null,
   "metadata": {},
   "outputs": [],
   "source": []
  }
 ],
 "metadata": {
  "kernelspec": {
   "display_name": "py_tf",
   "language": "python",
   "name": "python3"
  },
  "language_info": {
   "codemirror_mode": {
    "name": "ipython",
    "version": 3
   },
   "file_extension": ".py",
   "mimetype": "text/x-python",
   "name": "python",
   "nbconvert_exporter": "python",
   "pygments_lexer": "ipython3",
   "version": "3.11.9"
  }
 },
 "nbformat": 4,
 "nbformat_minor": 2
}
