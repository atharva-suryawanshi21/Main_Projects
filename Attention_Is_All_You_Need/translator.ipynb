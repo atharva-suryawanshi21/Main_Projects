{
 "cells": [
  {
   "cell_type": "markdown",
   "metadata": {},
   "source": [
    "### Relevant Imports\n"
   ]
  },
  {
   "cell_type": "code",
   "execution_count": 4,
   "metadata": {},
   "outputs": [],
   "source": [
    "import torch \n",
    "import torch.nn as nn\n",
    "import torch.optim as optim\n",
    "from torch.utils.data import DataLoader, random_split\n",
    "\n",
    "import os\n",
    "import numpy as np\n",
    "import matplotlib.pyplot as plt\n",
    "from tqdm import tqdm\n",
    "from torch.utils.tensorboard import SummaryWriter\n",
    "writer = SummaryWriter(log_dir = 'logs')\n",
    "import re\n",
    "\n",
    "from structure.transformer import Transformer\n",
    "from structure.Dataset import English_Hindi_Dataset\n",
    "\n",
    "from sub_modules.embedding import Language_Embedding\n",
    "from sub_modules.masks import get_masks"
   ]
  },
  {
   "cell_type": "markdown",
   "metadata": {},
   "source": [
    "### Initializations\n"
   ]
  },
  {
   "cell_type": "code",
   "execution_count": 5,
   "metadata": {},
   "outputs": [],
   "source": [
    "# Read data\n",
    "read_max = 7_00_000 ######\n",
    "\n",
    "# basics\n",
    "batch_size = 512\n",
    "sequence_length = 100\n",
    "d_model = 512\n",
    "num_of_sentences = 3_00_000\n",
    "# transfomer\n",
    "num_encoder_decoder_layers = 6\n",
    "num_heads = 8\n",
    "hidden_layers = 2048\n",
    "\n",
    "dropout_ff = 0.3\n",
    "dropout_attn = 0.2\n"
   ]
  },
  {
   "cell_type": "markdown",
   "metadata": {},
   "source": [
    "### Dataset\n"
   ]
  },
  {
   "cell_type": "code",
   "execution_count": 6,
   "metadata": {},
   "outputs": [
    {
     "name": "stdout",
     "output_type": "stream",
     "text": [
      "Total unique characters: English-> 97 Hindi-> 174\n",
      "\tDataset Cleaned\n",
      "\tDataset Tokenized and Pading is Done\n"
     ]
    }
   ],
   "source": [
    "dataset = English_Hindi_Dataset('Dataset/train.en/train.en', \n",
    "                                    'Dataset/train.hi/train.hi',\n",
    "                                    num_of_sentences = num_of_sentences,\n",
    "                                    max_sequence_length = sequence_length,\n",
    "                                    read_max = read_max)\n",
    "\n",
    "en_vocab_size = len(set(dataset.en_vocab))\n",
    "hi_vocab_size = len(set(dataset.hi_vocab))\n",
    "\n",
    "assert len(dataset) == num_of_sentences, f\"Dataset is of length: {len(dataset)} but required sample :{num_of_sentences}\"\n"
   ]
  },
  {
   "cell_type": "markdown",
   "metadata": {},
   "source": [
    "### Embeddings\n"
   ]
  },
  {
   "cell_type": "code",
   "execution_count": 7,
   "metadata": {},
   "outputs": [],
   "source": [
    "# embeddings\n",
    "embeddings = Language_Embedding(en_vocab_size, hi_vocab_size, d_model)"
   ]
  },
  {
   "cell_type": "markdown",
   "metadata": {},
   "source": [
    "### Model Initializations\n"
   ]
  },
  {
   "cell_type": "code",
   "execution_count": 8,
   "metadata": {},
   "outputs": [
    {
     "name": "stdout",
     "output_type": "stream",
     "text": [
      " Using: cuda\n"
     ]
    }
   ],
   "source": [
    "# GPU for training\n",
    "device = torch.device('cuda') if torch.cuda.is_available() else torch.device('cpu')\n",
    "print(f\" Using: {device}\")\n",
    "\n",
    "model = Transformer(\n",
    "    num_encoder_decoder_layers=num_encoder_decoder_layers,\n",
    "    d_model=d_model,\n",
    "    sequence_length=sequence_length,\n",
    "    hidden_layers=hidden_layers,\n",
    "    num_heads=num_heads,\n",
    "    hi_voab_size=hi_vocab_size,\n",
    "    dropout_ff=dropout_ff,\n",
    "    dropout_attn=dropout_attn\n",
    ").to(device)"
   ]
  },
  {
   "cell_type": "markdown",
   "metadata": {},
   "source": [
    "### Load Model\n"
   ]
  },
  {
   "cell_type": "code",
   "execution_count": 9,
   "metadata": {},
   "outputs": [
    {
     "name": "stdout",
     "output_type": "stream",
     "text": [
      "Loading model from saved_models\\model_epoch_100.pt\n"
     ]
    },
    {
     "name": "stderr",
     "output_type": "stream",
     "text": [
      "C:\\Users\\Atharva\\AppData\\Local\\Temp\\ipykernel_36064\\827564847.py:20: FutureWarning: You are using `torch.load` with `weights_only=False` (the current default value), which uses the default pickle module implicitly. It is possible to construct malicious pickle data which will execute arbitrary code during unpickling (See https://github.com/pytorch/pytorch/blob/main/SECURITY.md#untrusted-models for more details). In a future release, the default value for `weights_only` will be flipped to `True`. This limits the functions that could be executed during unpickling. Arbitrary objects will no longer be allowed to be loaded via this mode unless they are explicitly allowlisted by the user via `torch.serialization.add_safe_globals`. We recommend you start setting `weights_only=True` for any use case where you don't have full control of the loaded file. Please open an issue on GitHub for any issues related to this experimental feature.\n",
      "  model.load_state_dict(torch.load(model_save_file))\n"
     ]
    }
   ],
   "source": [
    "model_save_path = \"saved_models\"  # Specify your directory to save models\n",
    "os.makedirs(model_save_path, exist_ok=True)  # Create directory if it doesn't exist\n",
    "\n",
    "\n",
    "def get_latest_model_checkpoint(model_save_path):\n",
    "    model_files = os.listdir(model_save_path)\n",
    "    model_epochs = [int(re.findall(r'model_epoch_(\\d+).pt', file)[0]) for file in model_files if file.endswith('.pt')]\n",
    "    \n",
    "    if len(model_epochs)>0:\n",
    "        latest_epoch = max(model_epochs)\n",
    "        model_save_file = os.path.join(model_save_path, f\"model_epoch_{latest_epoch}.pt\")\n",
    "        return latest_epoch, model_save_file\n",
    "    else:\n",
    "        return None, None\n",
    "    \n",
    "latest_epoch, model_save_file = get_latest_model_checkpoint(model_save_path)\n",
    "\n",
    "if model_save_file:\n",
    "    print(f\"Loading model from {model_save_file}\")\n",
    "    model.load_state_dict(torch.load(model_save_file))\n",
    "    current_epoch = latest_epoch + 1\n",
    "else:\n",
    "    print(\"No saved model found. Training from scratch.\")\n",
    "    current_epoch = 0"
   ]
  },
  {
   "cell_type": "code",
   "execution_count": 11,
   "metadata": {},
   "outputs": [],
   "source": [
    "### Dictionaries\n",
    "import json\n",
    "\n",
    "with open('dicts.json', 'r') as file:\n",
    "    data = json.load(file)\n",
    "    \n",
    "data.keys()\n",
    "\n",
    "en_vocab = data['en_vocab']\n",
    "hi_vocab = data['hi_vocab']\n",
    "en_to_index = data['en_to_index']\n",
    "index_to_en = data['index_to_en']\n",
    "hi_to_index = data['hi_to_index']\n",
    "index_to_hi = data['index_to_hi']\n"
   ]
  },
  {
   "cell_type": "markdown",
   "metadata": {},
   "source": [
    "##### Evaluation\n"
   ]
  },
  {
   "cell_type": "code",
   "execution_count": 12,
   "metadata": {},
   "outputs": [],
   "source": [
    "def tokenize(sentence, language_to_index, start_token=False, end_token=False):\n",
    "        sentence_indices = [language_to_index[token] for token in list(sentence)]\n",
    "        \n",
    "        if start_token:\n",
    "            sentence_indices.insert(0, language_to_index['<START>'])\n",
    "        if end_token:\n",
    "            sentence_indices.append(language_to_index['<END>'])\n",
    "            \n",
    "        while len(sentence_indices) < 100:\n",
    "            sentence_indices.append(language_to_index['<PADDING>'])\n",
    "                \n",
    "        return torch.tensor(sentence_indices) "
   ]
  },
  {
   "cell_type": "code",
   "execution_count": 21,
   "metadata": {},
   "outputs": [],
   "source": [
    "def get_masks(en_batch, hi_batch):\n",
    "    max_sequence_length = 100  # For testing, set max length to match the batch size\n",
    "    num_of_sentences = len(en_batch)\n",
    "    \n",
    "    nil = -1e9\n",
    "\n",
    "    # Initialize masks\n",
    "    decoder_self_attention_mask = torch.full([num_of_sentences, max_sequence_length, max_sequence_length], nil)\n",
    "    decoder_self_attention_mask = torch.triu(decoder_self_attention_mask, diagonal=1)\n",
    "    \n",
    "    encoder_self_attention_mask = torch.full([num_of_sentences, max_sequence_length, max_sequence_length], 0.0)\n",
    "    encoder_decoder_attention_mask = torch.full([num_of_sentences, max_sequence_length, max_sequence_length], 0.0)\n",
    "    \n",
    "    for index in range(num_of_sentences):\n",
    "        # Boolean tensor check for padding tokens\n",
    "        num_of_en_tokens = (en_batch[index] != en_to_index['<PADDING>']).sum().item()\n",
    "        num_of_hi_tokens = (hi_batch[index] != hi_to_index['<PADDING>']).sum().item()\n",
    "\n",
    "        # Update the masks based on number of valid tokens\n",
    "        encoder_self_attention_mask[index, num_of_en_tokens:, :] = nil\n",
    "        encoder_self_attention_mask[index, :, num_of_en_tokens:] = nil\n",
    "        \n",
    "        encoder_decoder_attention_mask[index, num_of_hi_tokens:, :] = nil\n",
    "        encoder_decoder_attention_mask[index, :, num_of_en_tokens:] = nil\n",
    "        \n",
    "        # Optional: Modify decoder self-attention mask\n",
    "        decoder_self_attention_mask[index, num_of_hi_tokens:, :] = nil\n",
    "    \n",
    "    return decoder_self_attention_mask, encoder_self_attention_mask, encoder_decoder_attention_mask\n"
   ]
  },
  {
   "cell_type": "code",
   "execution_count": 26,
   "metadata": {},
   "outputs": [],
   "source": [
    "def translate(model, en_sentence):\n",
    "    model.eval()\n",
    "    en_sentence = (en_sentence,)\n",
    "    hi_sentence = (\"\",)\n",
    "\n",
    "    en_token = tokenize(en_sentence[0], en_to_index, start_token=False, end_token=False).unsqueeze(0).to(device)\n",
    "    hi_token = tokenize(hi_sentence[0], hi_to_index, start_token=True, end_token=False).unsqueeze(0).to(device)\n",
    "\n",
    "    for word_counter in range(dataset.max_sequence_length):\n",
    "        print(f\"Processing for {word_counter + 1} token\")\n",
    "    \n",
    "        ds_mask, es_mask, edc_mask = get_masks( en_token, hi_token)\n",
    "        ds_mask, es_mask, edc_mask = ds_mask.to(device), es_mask.to(device), edc_mask.to(device)\n",
    "        \n",
    "        en_embedded, hi_embedded = embeddings(en_token, hi_token)\n",
    "        en_embedded, hi_embedded =  en_embedded.to(device), hi_embedded.to(device)\n",
    "        \n",
    "        predictions = model(en_embedded,\n",
    "                            hi_embedded,\n",
    "                            ds_mask, es_mask, edc_mask)\n",
    "        next_token_prob_distribution = predictions[0][word_counter]\n",
    "        next_token_index = torch.argmax(next_token_prob_distribution).item()\n",
    "        next_token = index_to_hi[next_token_index]\n",
    "        \n",
    "        if next_token == '<END>':\n",
    "            break\n",
    "        hi_sentence = (hi_sentence[0] + next_token, )\n",
    "        hi_token = tokenize(hi_sentence[0], hi_to_index, start_token=True, end_token=False).unsqueeze(0).to(device)\n",
    "        print(f\"\\t\\t\\t Predicted till now: {hi_sentence[0]}\")\n",
    "    \n",
    "    return hi_sentence[0]"
   ]
  },
  {
   "cell_type": "code",
   "execution_count": 27,
   "metadata": {},
   "outputs": [
    {
     "name": "stdout",
     "output_type": "stream",
     "text": [
      "Processing for 1 token\n",
      "\t\t\t Predicted till now: \n",
      "Processing for 2 token\n",
      "\t\t\t Predicted till now: =\n"
     ]
    },
    {
     "data": {
      "text/plain": [
       "'='"
      ]
     },
     "execution_count": 27,
     "metadata": {},
     "output_type": "execute_result"
    }
   ],
   "source": [
    "line1 = \"Hello, How are you?\"\n",
    "translate(model,line1 )"
   ]
  },
  {
   "cell_type": "code",
   "execution_count": null,
   "metadata": {},
   "outputs": [],
   "source": [
    "d"
   ]
  },
  {
   "cell_type": "code",
   "execution_count": null,
   "metadata": {},
   "outputs": [],
   "source": []
  },
  {
   "cell_type": "code",
   "execution_count": null,
   "metadata": {},
   "outputs": [],
   "source": []
  },
  {
   "cell_type": "code",
   "execution_count": 27,
   "metadata": {},
   "outputs": [
    {
     "name": "stdout",
     "output_type": "stream",
     "text": [
      "en sentence : In reply, Pakistan got off to a solid start.\n",
      "actual translation : जिसके जवाब में पाक ने अच्छी शुरुआत की थी.\n",
      "predicted translation : ----------------------------------------------------------------------------------------------------\n"
     ]
    }
   ],
   "source": [
    "print(f\"en sentence : {en}\")\n",
    "print(f\"actual translation : {hi}\")\n",
    "print(f\"predicted translation : {translation}\")"
   ]
  },
  {
   "cell_type": "code",
   "execution_count": 28,
   "metadata": {},
   "outputs": [],
   "source": [
    "line1 = \"Hello, How are you?\"\n",
    "line2 = \"This is a beautiful day to go out.\"\n",
    "line3 = \"India is situated on the right side of pakistan\"\n",
    "lines = [line1, line2, line3]"
   ]
  },
  {
   "cell_type": "code",
   "execution_count": 29,
   "metadata": {},
   "outputs": [],
   "source": [
    "translations = []\n",
    "for line in lines:\n",
    "    translations.append(translate(line))"
   ]
  },
  {
   "cell_type": "code",
   "execution_count": 30,
   "metadata": {},
   "outputs": [
    {
     "name": "stdout",
     "output_type": "stream",
     "text": [
      "Hello, How are you? -> :\n",
      "This is a beautiful day to go out. -> :\n",
      "India is situated on the right side of pakistan -> :\n"
     ]
    }
   ],
   "source": [
    "for index, (en, hi) in enumerate(zip(lines, translations)):\n",
    "    print(f\"{en} -> {hi}\")"
   ]
  },
  {
   "cell_type": "markdown",
   "metadata": {},
   "source": [
    "#### Save dictionaries\n"
   ]
  },
  {
   "cell_type": "code",
   "execution_count": null,
   "metadata": {},
   "outputs": [],
   "source": []
  }
 ],
 "metadata": {
  "kernelspec": {
   "display_name": "attention",
   "language": "python",
   "name": "python3"
  },
  "language_info": {
   "codemirror_mode": {
    "name": "ipython",
    "version": 3
   },
   "file_extension": ".py",
   "mimetype": "text/x-python",
   "name": "python",
   "nbconvert_exporter": "python",
   "pygments_lexer": "ipython3",
   "version": "3.9.19"
  }
 },
 "nbformat": 4,
 "nbformat_minor": 2
}
