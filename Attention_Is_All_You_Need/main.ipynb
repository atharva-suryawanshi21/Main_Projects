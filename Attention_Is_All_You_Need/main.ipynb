{
 "cells": [
  {
   "cell_type": "markdown",
   "metadata": {},
   "source": [
    "### Relevant Imports\n"
   ]
  },
  {
   "cell_type": "code",
   "execution_count": 3,
   "metadata": {},
   "outputs": [],
   "source": [
    "import torch \n",
    "import torch.nn as nn\n",
    "import torch.optim as optim\n",
    "from torch.utils.data import DataLoader, random_split\n",
    "\n",
    "import os\n",
    "import numpy as np\n",
    "import matplotlib.pyplot as plt\n",
    "from tqdm import tqdm\n",
    "from torch.utils.tensorboard import SummaryWriter\n",
    "writer = SummaryWriter(log_dir = 'logs')\n",
    "import re\n",
    "\n",
    "from structure.transformer import Transformer\n",
    "from structure.Dataset import English_Hindi_Dataset\n",
    "\n",
    "from sub_modules.embedding import Language_Embedding\n",
    "from sub_modules.masks import get_masks"
   ]
  },
  {
   "cell_type": "markdown",
   "metadata": {},
   "source": [
    "### Initializations\n"
   ]
  },
  {
   "cell_type": "code",
   "execution_count": 4,
   "metadata": {},
   "outputs": [],
   "source": [
    "# Read data\n",
    "read_max = 6_00_000 ######\n",
    "\n",
    "# basics\n",
    "batch_size = 3000\n",
    "sequence_length = 100\n",
    "d_model = 512\n",
    "num_of_sentences = 3_00_000\n",
    "# transfomer\n",
    "# num_encoder_decoder_layers = 6\n",
    "num_heads = 8\n",
    "hidden_layers = 2048\n",
    "#################################################\n",
    "num_encoder_decoder_layers = 1\n",
    "#########################\n",
    "dropout_ff = 0.3\n",
    "dropout_attn = 0.2\n"
   ]
  },
  {
   "cell_type": "markdown",
   "metadata": {},
   "source": [
    "### Dataset\n"
   ]
  },
  {
   "cell_type": "code",
   "execution_count": 5,
   "metadata": {},
   "outputs": [
    {
     "name": "stdout",
     "output_type": "stream",
     "text": [
      "Total unique characters: English-> 97 Hindi-> 174\n",
      "\tDataset Cleaned\n",
      "\tDataset Tokenized and Pading is Done\n"
     ]
    }
   ],
   "source": [
    "dataset = English_Hindi_Dataset('Dataset/train.en/train.en', \n",
    "                                    'Dataset/train.hi/train.hi',\n",
    "                                    num_of_sentences = num_of_sentences,\n",
    "                                    max_sequence_length = sequence_length,\n",
    "                                    read_max = read_max)\n",
    "\n",
    "en_vocab_size = len(set(dataset.en_vocab))\n",
    "hi_vocab_size = len(set(dataset.hi_vocab))\n"
   ]
  },
  {
   "cell_type": "markdown",
   "metadata": {},
   "source": [
    "### Embeddings\n"
   ]
  },
  {
   "cell_type": "code",
   "execution_count": 6,
   "metadata": {},
   "outputs": [],
   "source": [
    "# embeddings\n",
    "embeddings = Language_Embedding(en_vocab_size, hi_vocab_size, d_model)"
   ]
  },
  {
   "cell_type": "markdown",
   "metadata": {},
   "source": [
    "### Data Loader\n"
   ]
  },
  {
   "cell_type": "code",
   "execution_count": 7,
   "metadata": {},
   "outputs": [],
   "source": [
    "dataset_size = len(dataset)\n",
    "train_size = int(0.8 * dataset_size)\n",
    "val_size = dataset_size - int(0.8 * dataset_size)\n",
    "\n",
    "train_dataset, val_dataset = random_split(dataset, [train_size,val_size])\n",
    "\n",
    "\n"
   ]
  },
  {
   "cell_type": "markdown",
   "metadata": {},
   "source": [
    "### Model Initializations\n"
   ]
  },
  {
   "cell_type": "code",
   "execution_count": 8,
   "metadata": {},
   "outputs": [
    {
     "name": "stdout",
     "output_type": "stream",
     "text": [
      " Using: cuda\n"
     ]
    }
   ],
   "source": [
    "# GPU for training\n",
    "device = torch.device('cuda') if torch.cuda.is_available() else torch.device('cpu')\n",
    "print(f\" Using: {device}\")\n",
    "\n",
    "model = Transformer(\n",
    "    num_encoder_decoder_layers=num_encoder_decoder_layers,\n",
    "    d_model=d_model,\n",
    "    sequence_length=sequence_length,\n",
    "    hidden_layers=hidden_layers,\n",
    "    num_heads=num_heads,\n",
    "    hi_voab_size=hi_vocab_size,\n",
    "    dropout_ff=dropout_ff,\n",
    "    dropout_attn=dropout_attn\n",
    ").to(device)\n",
    "\n",
    "\n",
    "# Loss\n",
    "criterian = nn.CrossEntropyLoss(ignore_index= dataset.hindi_to_index[dataset.PADDING_TOKEN], reduction ='none')\n",
    "\n",
    "# Parameter Initialization\n",
    "for param in model.parameters():\n",
    "    if param.dim()>1:\n",
    "        nn.init.xavier_uniform_(param)\n",
    "        \n",
    "# optimizer \n",
    "optim = torch.optim.Adam(model.parameters(), lr= 1e-4)\n"
   ]
  },
  {
   "cell_type": "markdown",
   "metadata": {},
   "source": [
    "### Model Training and Evaluation\n"
   ]
  },
  {
   "cell_type": "code",
   "execution_count": 9,
   "metadata": {},
   "outputs": [
    {
     "name": "stdout",
     "output_type": "stream",
     "text": [
      "Loading model from saved_models\\model_epoch_20.pt\n"
     ]
    },
    {
     "name": "stderr",
     "output_type": "stream",
     "text": [
      "C:\\Users\\Atharva\\AppData\\Local\\Temp\\ipykernel_18688\\827564847.py:20: FutureWarning: You are using `torch.load` with `weights_only=False` (the current default value), which uses the default pickle module implicitly. It is possible to construct malicious pickle data which will execute arbitrary code during unpickling (See https://github.com/pytorch/pytorch/blob/main/SECURITY.md#untrusted-models for more details). In a future release, the default value for `weights_only` will be flipped to `True`. This limits the functions that could be executed during unpickling. Arbitrary objects will no longer be allowed to be loaded via this mode unless they are explicitly allowlisted by the user via `torch.serialization.add_safe_globals`. We recommend you start setting `weights_only=True` for any use case where you don't have full control of the loaded file. Please open an issue on GitHub for any issues related to this experimental feature.\n",
      "  model.load_state_dict(torch.load(model_save_file))\n"
     ]
    }
   ],
   "source": [
    "model_save_path = \"saved_models\"  # Specify your directory to save models\n",
    "os.makedirs(model_save_path, exist_ok=True)  # Create directory if it doesn't exist\n",
    "\n",
    "\n",
    "def get_latest_model_checkpoint(model_save_path):\n",
    "    model_files = os.listdir(model_save_path)\n",
    "    model_epochs = [int(re.findall(r'model_epoch_(\\d+).pt', file)[0]) for file in model_files if file.endswith('.pt')]\n",
    "    \n",
    "    if len(model_epochs)>0:\n",
    "        latest_epoch = max(model_epochs)\n",
    "        model_save_file = os.path.join(model_save_path, f\"model_epoch_{latest_epoch}.pt\")\n",
    "        return latest_epoch, model_save_file\n",
    "    else:\n",
    "        return None, None\n",
    "    \n",
    "latest_epoch, model_save_file = get_latest_model_checkpoint(model_save_path)\n",
    "\n",
    "if model_save_file:\n",
    "    print(f\"Loading model from {model_save_file}\")\n",
    "    model.load_state_dict(torch.load(model_save_file))\n",
    "    current_epoch = latest_epoch + 1\n",
    "else:\n",
    "    print(\"No saved model found. Training from scratch.\")\n",
    "    current_epoch = 0"
   ]
  },
  {
   "cell_type": "markdown",
   "metadata": {},
   "source": [
    "##### Training\n"
   ]
  },
  {
   "cell_type": "code",
   "execution_count": 10,
   "metadata": {},
   "outputs": [],
   "source": [
    "# best_val_loss = float('inf')\n",
    "# total_epochs = 1\n",
    "\n",
    "# for epoch in range(current_epoch, total_epochs + 1):\n",
    "#     print(f\"Epoch -> {epoch}\")\n",
    "#     total_loss = 0\n",
    "#     train_data_loader = DataLoader(train_dataset, batch_size=batch_size, shuffle=True, pin_memory=True)\n",
    "#     train_data_iterator = iter(train_data_loader)\n",
    "\n",
    "#     for batch_num, batch in enumerate(tqdm(train_data_iterator, desc=f'Epoch {epoch}/{total_epochs}', unit='batch')):\n",
    "#         model.train()\n",
    "#         en_batch, hi_batch = batch\n",
    "#         en_batch = en_batch.to(device)\n",
    "#         hi_batch = hi_batch.to(device)\n",
    "\n",
    "#         ds_mask, es_mask, edc_mask = get_masks(dataset, en_batch, hi_batch)\n",
    "#         ds_mask, es_mask, edc_mask = ds_mask.to(device), es_mask.to(device), edc_mask.to(device)\n",
    "\n",
    "#         optim.zero_grad()\n",
    "\n",
    "#         en_batch_embedded, hi_batch_embedded = embeddings(en_batch, hi_batch)\n",
    "#         en_batch_embedded, hi_batch_embedded = en_batch_embedded.to(device), hi_batch_embedded.to(device)\n",
    "#         hi_prediction = model(en_batch_embedded, hi_batch_embedded, ds_mask, es_mask, edc_mask)\n",
    "\n",
    "#         # Prepare labels\n",
    "#         labels_untoken = [dataset.untokenize(hi_batch[index], dataset.index_to_hindi) for index in range(len(hi_batch))]\n",
    "#         labels = [dataset.tokenize(labels_untoken[index], dataset.hindi_to_index, start_token=False, end_token=True) for index in range(len(hi_batch))]\n",
    "#         labels = torch.stack(labels).to(device)\n",
    "#         print(labels_untoken[0])\n",
    "#         print(labels[0])\n",
    "#         break\n",
    "\n",
    "#         # Calculate loss\n",
    "#         loss = criterian(\n",
    "#             hi_prediction.view(-1, hi_vocab_size),\n",
    "#             labels.view(-1)\n",
    "#         )\n",
    "\n",
    "#         # Mask padding tokens\n",
    "#         valid_indices = (labels.view(-1) != dataset.hindi_to_index[dataset.PADDING_TOKEN])\n",
    "#         loss = loss[valid_indices].mean()  # Calculate the mean loss over valid indices\n",
    "\n",
    "#         total_loss += loss.item()\n",
    "\n",
    "#         loss.backward()\n",
    "        \n",
    "#         # Gradient clipping\n",
    "#         torch.nn.utils.clip_grad_norm_(model.parameters(), max_norm=1.0)\n",
    "\n",
    "#         optim.step()\n",
    "\n",
    "#         # Log loss periodically\n",
    "#         if batch_num % 300 == 0:\n",
    "#             writer.add_scalar('Loss/Batch', loss.item(), epoch * len(train_data_iterator) + batch_num)\n",
    "#     break\n",
    "#     avg_loss = total_loss / (batch_num + 1)\n",
    "#     writer.add_scalar('Loss/Epoch', avg_loss, epoch)\n",
    "#     print(f\"\\t\\tEpoch [{epoch + 1}/{total_epochs}], training Loss: {avg_loss:.4f}\")\n",
    " \n",
    "#     # Validation Loop\n",
    "#     model.eval()\n",
    "#     val_loss = 0\n",
    "#     val_data_loader = DataLoader(val_dataset, batch_size=batch_size,shuffle=False, pin_memory=True)\n",
    "#     val_data_iterator = iter(val_data_loader)\n",
    "#     with torch.no_grad():\n",
    "#         for val_batch_num, val_batch in enumerate(tqdm(val_data_iterator, desc=f'Validation Epoch {epoch }/{total_epochs}', unit='batch')):\n",
    "#             en_val_batch, hi_val_batch = val_batch\n",
    "#             en_val_batch = en_val_batch.to(device)\n",
    "#             hi_val_batch = hi_val_batch.to(device)\n",
    "            \n",
    "#             ds_val_mask, es_val_mask, edc_val_mask = get_masks(dataset, en_val_batch, hi_val_batch)\n",
    "#             ds_val_mask, es_val_mask, edc_val_mask = ds_val_mask.to(device), es_val_mask.to(device), edc_val_mask.to(device)\n",
    "            \n",
    "#             en_val_embedded, hi_val_embedded = embeddings(en_val_batch, hi_val_batch)\n",
    "#             en_val_embedded, hi_val_embedded = en_val_embedded.to(device), hi_val_embedded.to(device)\n",
    "            \n",
    "#             hi_val_prediction = model(en_val_embedded, hi_val_embedded, ds_val_mask, es_val_mask, edc_val_mask)\n",
    "            \n",
    "#             val_labels = [dataset.untokenize(hi_val_batch[index], dataset.index_to_hindi) for index in range(len(hi_val_batch))]\n",
    "#             val_labels = [dataset.tokenize(val_labels[index], dataset.hindi_to_index, start_token=False, end_token=True) for index in range(len(hi_val_batch))]\n",
    "#             val_labels = torch.stack(val_labels) \n",
    "            \n",
    "#             val_loss_batch = criterian(\n",
    "#                 hi_val_prediction.view(-1, hi_vocab_size).to(device),\n",
    "#                 val_labels.view(-1).to(device)\n",
    "#             ).to(device)\n",
    "            \n",
    "#             valid_val_indices = torch.where(val_labels.view(-1) == dataset.hindi_to_index[dataset.PADDING_TOKEN], False, True)\n",
    "#             val_loss_batch = val_loss_batch.sum() / valid_val_indices.sum()\n",
    "            \n",
    "#             val_loss += val_loss_batch.item()\n",
    "    \n",
    "#     avg_val_loss = val_loss / (val_batch_num + 1)  # Average validation loss for the epoch\n",
    "#     writer.add_scalar('Loss/Validation_Epoch', avg_val_loss, epoch)\n",
    "\n",
    "#     ####### Print Epoch Losses #######\n",
    "#     print(f\"\\t\\tEpoch [{epoch}/{total_epochs}], Validation Loss: {avg_val_loss:.4f}\")\n",
    "    \n",
    "    \n",
    "#     print('\\n')\n",
    "#     # Save Model\n",
    "#     model_save_file = os.path.join(model_save_path, f\"model_epoch_{epoch }.pt\")\n",
    "#     torch.save(model.state_dict(), model_save_file)\n",
    "\n",
    "# writer.close()"
   ]
  },
  {
   "cell_type": "markdown",
   "metadata": {},
   "source": [
    "##### Evaluation\n"
   ]
  },
  {
   "cell_type": "code",
   "execution_count": 16,
   "metadata": {},
   "outputs": [],
   "source": [
    "model.eval()\n",
    "def translate(en_sentence):\n",
    "    en_sentence = (en_sentence,)\n",
    "    hi_sentence = (\"\",)\n",
    "\n",
    "    en_token = dataset.tokenize(en_sentence[0], dataset.english_to_index, start_token=False, end_token=False).unsqueeze(0).to(device)\n",
    "    hi_token = dataset.tokenize(hi_sentence[0], dataset.hindi_to_index, start_token=True, end_token=False).unsqueeze(0).to(device)\n",
    "    \n",
    "    for word_counter in range(dataset.max_sequence_length):\n",
    "        print(f\"Processing for {word_counter + 1} token\")\n",
    "    \n",
    "        ds_mask, es_mask, edc_mask = get_masks(dataset, en_token, hi_token)\n",
    "        ds_mask, es_mask, edc_mask = ds_mask.to(device), es_mask.to(device), edc_mask.to(device)\n",
    "        \n",
    "        en_embedded, hi_embedded = embeddings(en_token, hi_token)\n",
    "        en_embedded, hi_embedded =  en_embedded.to(device), hi_embedded.to(device)\n",
    "        \n",
    "        predictions = model(en_embedded,\n",
    "                            hi_embedded,\n",
    "                            ds_mask, es_mask, edc_mask)\n",
    "        next_token_prob_distribution = predictions[0][word_counter]\n",
    "        next_token_index = torch.argmax(next_token_prob_distribution).item()\n",
    "        next_token = dataset.index_to_hindi[next_token_index]\n",
    "        \n",
    "        hi_sentence = (hi_sentence[0] + next_token, )\n",
    "        print(hi_sentence)\n",
    "        \n",
    "        if next_token == dataset.END_TOKEN:\n",
    "            break\n",
    "        hi_token = dataset.tokenize(hi_sentence[0], dataset.hindi_to_index, start_token=True, end_token=False).unsqueeze(0).to(device)\n",
    "        print(f\"\\t\\t\\t Predicted till now: {hi_sentence[0]}\")\n",
    "\n",
    "    return hi_sentence[0]\n",
    "    "
   ]
  },
  {
   "cell_type": "code",
   "execution_count": 18,
   "metadata": {},
   "outputs": [
    {
     "name": "stdout",
     "output_type": "stream",
     "text": [
      "Processing for 1 token\n",
      "('क',)\n",
      "\t\t\t Predicted till now: क\n",
      "Processing for 2 token\n",
      "('कक',)\n",
      "\t\t\t Predicted till now: कक\n",
      "Processing for 3 token\n",
      "('ककक',)\n",
      "\t\t\t Predicted till now: ककक\n",
      "Processing for 4 token\n",
      "('कककक',)\n",
      "\t\t\t Predicted till now: कककक\n",
      "Processing for 5 token\n",
      "('ककककक',)\n",
      "\t\t\t Predicted till now: ककककक\n",
      "Processing for 6 token\n",
      "('कककककग',)\n",
      "\t\t\t Predicted till now: कककककग\n",
      "Processing for 7 token\n",
      "('कककककग ',)\n",
      "\t\t\t Predicted till now: कककककग \n",
      "Processing for 8 token\n",
      "('कककककग  ',)\n",
      "\t\t\t Predicted till now: कककककग  \n",
      "Processing for 9 token\n",
      "('कककककग   ',)\n",
      "\t\t\t Predicted till now: कककककग   \n",
      "Processing for 10 token\n",
      "('कककककग    ',)\n",
      "\t\t\t Predicted till now: कककककग    \n",
      "Processing for 11 token\n",
      "('कककककग     ',)\n",
      "\t\t\t Predicted till now: कककककग     \n",
      "Processing for 12 token\n",
      "('कककककग      ',)\n",
      "\t\t\t Predicted till now: कककककग      \n",
      "Processing for 13 token\n",
      "('कककककग       ',)\n",
      "\t\t\t Predicted till now: कककककग       \n",
      "Processing for 14 token\n",
      "('कककककग        ',)\n",
      "\t\t\t Predicted till now: कककककग        \n",
      "Processing for 15 token\n",
      "('कककककग         ',)\n",
      "\t\t\t Predicted till now: कककककग         \n",
      "Processing for 16 token\n",
      "('कककककग          ',)\n",
      "\t\t\t Predicted till now: कककककग          \n",
      "Processing for 17 token\n",
      "('कककककग           ',)\n",
      "\t\t\t Predicted till now: कककककग           \n",
      "Processing for 18 token\n",
      "('कककककग            ',)\n",
      "\t\t\t Predicted till now: कककककग            \n",
      "Processing for 19 token\n",
      "('कककककग             ',)\n",
      "\t\t\t Predicted till now: कककककग             \n",
      "Processing for 20 token\n",
      "('कककककग              ',)\n",
      "\t\t\t Predicted till now: कककककग              \n",
      "Processing for 21 token\n",
      "('कककककग               ',)\n",
      "\t\t\t Predicted till now: कककककग               \n",
      "Processing for 22 token\n",
      "('कककककग                ',)\n",
      "\t\t\t Predicted till now: कककककग                \n",
      "Processing for 23 token\n",
      "('कककककग                 ',)\n",
      "\t\t\t Predicted till now: कककककग                 \n",
      "Processing for 24 token\n",
      "('कककककग                  ',)\n",
      "\t\t\t Predicted till now: कककककग                  \n",
      "Processing for 25 token\n",
      "('कककककग                   ',)\n",
      "\t\t\t Predicted till now: कककककग                   \n",
      "Processing for 26 token\n",
      "('कककककग                    ',)\n",
      "\t\t\t Predicted till now: कककककग                    \n",
      "Processing for 27 token\n",
      "('कककककग                     ',)\n",
      "\t\t\t Predicted till now: कककककग                     \n",
      "Processing for 28 token\n",
      "('कककककग                      ',)\n",
      "\t\t\t Predicted till now: कककककग                      \n",
      "Processing for 29 token\n",
      "('कककककग                      <END>',)\n"
     ]
    },
    {
     "data": {
      "text/plain": [
       "'कककककग                      <END>'"
      ]
     },
     "execution_count": 18,
     "metadata": {},
     "output_type": "execute_result"
    }
   ],
   "source": [
    "translation = translate(\"This is a beautiful day to go out.\")\n",
    "translation"
   ]
  },
  {
   "cell_type": "code",
   "execution_count": 19,
   "metadata": {},
   "outputs": [
    {
     "data": {
      "text/plain": [
       "(tensor([43, 80,  0, 84, 71, 82, 78, 91, 12,  0, 50, 67, 77, 75, 85, 86, 67, 80,\n",
       "          0, 73, 81, 86,  0, 81, 72, 72,  0, 86, 81,  0, 67,  0, 85, 81, 78, 75,\n",
       "         70,  0, 85, 86, 67, 84, 86, 14, 29, 29, 29, 29, 29, 29, 29, 29, 29, 29,\n",
       "         29, 29, 29, 29, 29, 29, 29, 29, 29, 29, 29, 29, 29, 29, 29, 29, 29, 29,\n",
       "         29, 29, 29, 29, 29, 29, 29, 29, 29, 29, 29, 29, 29, 29, 29, 29, 29, 29,\n",
       "         29, 29, 29, 29, 29, 29, 29, 29, 29, 29]),\n",
       " tensor([ 30,  73, 108, 101,  66, 116,   0,  73,  98, 107,  89,   0,  91, 116,\n",
       "          47,   0,  87, 107,  66,   0,  85, 116,   0,  50,  71, 122,  72, 109,\n",
       "           0,  99, 110,  93, 110,  51,  81,   0,  66, 109,   0,  82, 109,  14,\n",
       "          28,  29,  29,  29,  29,  29,  29,  29,  29,  29,  29,  29,  29,  29,\n",
       "          29,  29,  29,  29,  29,  29,  29,  29,  29,  29,  29,  29,  29,  29,\n",
       "          29,  29,  29,  29,  29,  29,  29,  29,  29,  29,  29,  29,  29,  29,\n",
       "          29,  29,  29,  29,  29,  29,  29,  29,  29,  29,  29,  29,  29,  29,\n",
       "          29,  29]))"
      ]
     },
     "execution_count": 19,
     "metadata": {},
     "output_type": "execute_result"
    }
   ],
   "source": [
    "dataset[0]"
   ]
  },
  {
   "cell_type": "code",
   "execution_count": 20,
   "metadata": {},
   "outputs": [
    {
     "data": {
      "text/plain": [
       "(tensor([54, 74, 71,  0, 37, 81, 80, 73, 84, 71, 85, 85,  0, 78, 71, 67, 70, 71,\n",
       "         84,  0, 84, 71, 82, 84, 71, 85, 71, 80, 86, 85,  0, 53, 75, 88, 67, 73,\n",
       "         67, 80, 73, 67,  0, 46, 81, 77,  0, 53, 67, 68, 74, 67,  0, 85, 71, 73,\n",
       "         79, 71, 80, 86,  0, 72, 84, 81, 79,  0, 54, 67, 79, 75, 78,  0, 48, 67,\n",
       "         70, 87, 14, 29, 29, 29, 29, 29, 29, 29, 29, 29, 29, 29, 29, 29, 29, 29,\n",
       "         29, 29, 29, 29, 29, 29, 29, 29, 29, 29]),\n",
       " tensor([ 30,  66, 107,  47,  68, 122,  93, 116, 101,   0,  85, 116,  81, 107,\n",
       "           0,  81,  91, 108,  95,  85, 107,  78, 110,   0, 101, 116,   0,  99,\n",
       "         108,  98,  68,  47,  68, 107,   0,  95, 120,  66, 101,  90, 107,   0,\n",
       "          66, 122, 100, 116,  81, 122,  93,   0,  66, 107,   0,  87, 122,  93,\n",
       "          81, 108,  85, 108,  84, 108,  81, 122,  98,   0,  66,  93,  81, 116,\n",
       "           0, 102, 117,  47,  14,  28,  29,  29,  29,  29,  29,  29,  29,  29,\n",
       "          29,  29,  29,  29,  29,  29,  29,  29,  29,  29,  29,  29,  29,  29,\n",
       "          29,  29]))"
      ]
     },
     "execution_count": 20,
     "metadata": {},
     "output_type": "execute_result"
    }
   ],
   "source": [
    "dataset[1]"
   ]
  },
  {
   "cell_type": "code",
   "execution_count": 21,
   "metadata": {},
   "outputs": [],
   "source": [
    "en = dataset.untokenize(dataset[0][0], dataset.index_to_english)\n",
    "hi = dataset.untokenize(dataset[0][1], dataset.index_to_hindi)"
   ]
  },
  {
   "cell_type": "code",
   "execution_count": 22,
   "metadata": {},
   "outputs": [
    {
     "data": {
      "text/plain": [
       "('In reply, Pakistan got off to a solid start.',\n",
       " 'जिसके जवाब में पाक ने अच्छी शुरुआत की थी.')"
      ]
     },
     "execution_count": 22,
     "metadata": {},
     "output_type": "execute_result"
    }
   ],
   "source": [
    "en, hi"
   ]
  },
  {
   "cell_type": "code",
   "execution_count": 23,
   "metadata": {},
   "outputs": [
    {
     "name": "stdout",
     "output_type": "stream",
     "text": [
      "Processing for 1 token\n",
      "('क',)\n",
      "\t\t\t Predicted till now: क\n",
      "Processing for 2 token\n",
      "('कग',)\n",
      "\t\t\t Predicted till now: कग\n",
      "Processing for 3 token\n",
      "('कगक',)\n",
      "\t\t\t Predicted till now: कगक\n",
      "Processing for 4 token\n",
      "('कगकग',)\n",
      "\t\t\t Predicted till now: कगकग\n",
      "Processing for 5 token\n",
      "('कगकग ',)\n",
      "\t\t\t Predicted till now: कगकग \n",
      "Processing for 6 token\n",
      "('कगकग  ',)\n",
      "\t\t\t Predicted till now: कगकग  \n",
      "Processing for 7 token\n",
      "('कगकग   ',)\n",
      "\t\t\t Predicted till now: कगकग   \n",
      "Processing for 8 token\n",
      "('कगकग    ',)\n",
      "\t\t\t Predicted till now: कगकग    \n",
      "Processing for 9 token\n",
      "('कगकग     ',)\n",
      "\t\t\t Predicted till now: कगकग     \n",
      "Processing for 10 token\n",
      "('कगकग      ',)\n",
      "\t\t\t Predicted till now: कगकग      \n",
      "Processing for 11 token\n",
      "('कगकग       ',)\n",
      "\t\t\t Predicted till now: कगकग       \n",
      "Processing for 12 token\n",
      "('कगकग        ',)\n",
      "\t\t\t Predicted till now: कगकग        \n",
      "Processing for 13 token\n",
      "('कगकग         ',)\n",
      "\t\t\t Predicted till now: कगकग         \n",
      "Processing for 14 token\n",
      "('कगकग          ',)\n",
      "\t\t\t Predicted till now: कगकग          \n",
      "Processing for 15 token\n",
      "('कगकग           ',)\n",
      "\t\t\t Predicted till now: कगकग           \n",
      "Processing for 16 token\n",
      "('कगकग            ',)\n",
      "\t\t\t Predicted till now: कगकग            \n",
      "Processing for 17 token\n",
      "('कगकग             ',)\n",
      "\t\t\t Predicted till now: कगकग             \n",
      "Processing for 18 token\n",
      "('कगकग              ',)\n",
      "\t\t\t Predicted till now: कगकग              \n",
      "Processing for 19 token\n",
      "('कगकग               ',)\n",
      "\t\t\t Predicted till now: कगकग               \n",
      "Processing for 20 token\n",
      "('कगकग                ',)\n",
      "\t\t\t Predicted till now: कगकग                \n",
      "Processing for 21 token\n",
      "('कगकग                 ',)\n",
      "\t\t\t Predicted till now: कगकग                 \n",
      "Processing for 22 token\n",
      "('कगकग                  ',)\n",
      "\t\t\t Predicted till now: कगकग                  \n",
      "Processing for 23 token\n",
      "('कगकग                   ',)\n",
      "\t\t\t Predicted till now: कगकग                   \n",
      "Processing for 24 token\n",
      "('कगकग                    ',)\n",
      "\t\t\t Predicted till now: कगकग                    \n",
      "Processing for 25 token\n",
      "('कगकग                     ',)\n",
      "\t\t\t Predicted till now: कगकग                     \n",
      "Processing for 26 token\n",
      "('कगकग                      ',)\n",
      "\t\t\t Predicted till now: कगकग                      \n",
      "Processing for 27 token\n",
      "('कगकग                       ',)\n",
      "\t\t\t Predicted till now: कगकग                       \n",
      "Processing for 28 token\n",
      "('कगकग                        ',)\n",
      "\t\t\t Predicted till now: कगकग                        \n",
      "Processing for 29 token\n",
      "('कगकग                         ',)\n",
      "\t\t\t Predicted till now: कगकग                         \n",
      "Processing for 30 token\n",
      "('कगकग                          ',)\n",
      "\t\t\t Predicted till now: कगकग                          \n",
      "Processing for 31 token\n",
      "('कगकग                           ',)\n",
      "\t\t\t Predicted till now: कगकग                           \n",
      "Processing for 32 token\n",
      "('कगकग                            ',)\n",
      "\t\t\t Predicted till now: कगकग                            \n",
      "Processing for 33 token\n",
      "('कगकग                             ',)\n",
      "\t\t\t Predicted till now: कगकग                             \n",
      "Processing for 34 token\n",
      "('कगकग                              ',)\n",
      "\t\t\t Predicted till now: कगकग                              \n",
      "Processing for 35 token\n",
      "('कगकग                               ',)\n",
      "\t\t\t Predicted till now: कगकग                               \n",
      "Processing for 36 token\n",
      "('कगकग                                ',)\n",
      "\t\t\t Predicted till now: कगकग                                \n",
      "Processing for 37 token\n",
      "('कगकग                                 ',)\n",
      "\t\t\t Predicted till now: कगकग                                 \n",
      "Processing for 38 token\n",
      "('कगकग                                  ',)\n",
      "\t\t\t Predicted till now: कगकग                                  \n",
      "Processing for 39 token\n",
      "('कगकग                                   ',)\n",
      "\t\t\t Predicted till now: कगकग                                   \n",
      "Processing for 40 token\n",
      "('कगकग                                    ',)\n",
      "\t\t\t Predicted till now: कगकग                                    \n",
      "Processing for 41 token\n",
      "('कगकग                                     ',)\n",
      "\t\t\t Predicted till now: कगकग                                     \n",
      "Processing for 42 token\n",
      "('कगकग                                      ',)\n",
      "\t\t\t Predicted till now: कगकग                                      \n",
      "Processing for 43 token\n",
      "('कगकग                                       ',)\n",
      "\t\t\t Predicted till now: कगकग                                       \n",
      "Processing for 44 token\n",
      "('कगकग                                        ',)\n",
      "\t\t\t Predicted till now: कगकग                                        \n",
      "Processing for 45 token\n",
      "('कगकग                                         ',)\n",
      "\t\t\t Predicted till now: कगकग                                         \n",
      "Processing for 46 token\n",
      "('कगकग                                         <END>',)\n"
     ]
    },
    {
     "data": {
      "text/plain": [
       "'कगकग                                         <END>'"
      ]
     },
     "execution_count": 23,
     "metadata": {},
     "output_type": "execute_result"
    }
   ],
   "source": [
    "translation = translate(en)\n",
    "translation"
   ]
  },
  {
   "cell_type": "code",
   "execution_count": null,
   "metadata": {},
   "outputs": [],
   "source": []
  }
 ],
 "metadata": {
  "kernelspec": {
   "display_name": "attention",
   "language": "python",
   "name": "python3"
  },
  "language_info": {
   "codemirror_mode": {
    "name": "ipython",
    "version": 3
   },
   "file_extension": ".py",
   "mimetype": "text/x-python",
   "name": "python",
   "nbconvert_exporter": "python",
   "pygments_lexer": "ipython3",
   "version": "3.9.19"
  }
 },
 "nbformat": 4,
 "nbformat_minor": 2
}
