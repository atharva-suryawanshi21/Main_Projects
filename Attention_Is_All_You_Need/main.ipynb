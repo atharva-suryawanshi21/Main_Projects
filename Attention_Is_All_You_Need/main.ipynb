{
 "cells": [
  {
   "cell_type": "markdown",
   "metadata": {},
   "source": [
    "### Relevant Imports\n"
   ]
  },
  {
   "cell_type": "code",
   "execution_count": 1,
   "metadata": {},
   "outputs": [
    {
     "name": "stderr",
     "output_type": "stream",
     "text": [
      "/home/ironman/anaconda3/envs/verti_att/lib/python3.7/site-packages/tqdm/auto.py:22: TqdmWarning: IProgress not found. Please update jupyter and ipywidgets. See https://ipywidgets.readthedocs.io/en/stable/user_install.html\n",
      "  from .autonotebook import tqdm as notebook_tqdm\n"
     ]
    }
   ],
   "source": [
    "import torch \n",
    "import torch.nn as nn\n",
    "import torch.optim as optim\n",
    "from torch.utils.data import DataLoader, random_split\n",
    "\n",
    "import os\n",
    "import numpy as np\n",
    "import matplotlib.pyplot as plt\n",
    "from tqdm import tqdm\n",
    "from torch.utils.tensorboard import SummaryWriter\n",
    "writer = SummaryWriter(log_dir = 'logs')\n",
    "import re\n",
    "\n",
    "from structure.transformer import Transformer\n",
    "from structure.Dataset import English_Hindi_Dataset\n",
    "\n",
    "from sub_modules.embedding import Language_Embedding\n",
    "from sub_modules.masks import get_masks"
   ]
  },
  {
   "cell_type": "markdown",
   "metadata": {},
   "source": [
    "### Initializations\n"
   ]
  },
  {
   "cell_type": "code",
   "execution_count": 2,
   "metadata": {},
   "outputs": [],
   "source": [
    "# Read data\n",
    "read_max = 7_00_000 ######\n",
    "\n",
    "# basics\n",
    "batch_size = 512\n",
    "sequence_length = 100\n",
    "d_model = 512\n",
    "num_of_sentences = 3_00_000\n",
    "# transfomer\n",
    "num_encoder_decoder_layers = 6\n",
    "num_heads = 8\n",
    "hidden_layers = 2048\n",
    "\n",
    "dropout_ff = 0.3\n",
    "dropout_attn = 0.2\n"
   ]
  },
  {
   "cell_type": "markdown",
   "metadata": {},
   "source": [
    "### Dataset\n"
   ]
  },
  {
   "cell_type": "code",
   "execution_count": 3,
   "metadata": {},
   "outputs": [
    {
     "name": "stdout",
     "output_type": "stream",
     "text": [
      "Total unique characters: English-> 97 Hindi-> 174\n",
      "\tDataset Cleaned\n",
      "\tDataset Tokenized and Pading is Done\n"
     ]
    }
   ],
   "source": [
    "dataset = English_Hindi_Dataset('Dataset/train.en/train.en', \n",
    "                                    'Dataset/train.hi/train.hi',\n",
    "                                    num_of_sentences = num_of_sentences,\n",
    "                                    max_sequence_length = sequence_length,\n",
    "                                    read_max = read_max)\n",
    "\n",
    "en_vocab_size = len(set(dataset.en_vocab))\n",
    "hi_vocab_size = len(set(dataset.hi_vocab))\n",
    "\n",
    "assert len(dataset) == num_of_sentences, f\"Dataset is of length: {len(dataset)} but required sample :{num_of_sentences}\"\n"
   ]
  },
  {
   "cell_type": "markdown",
   "metadata": {},
   "source": [
    "### Embeddings\n"
   ]
  },
  {
   "cell_type": "code",
   "execution_count": 4,
   "metadata": {},
   "outputs": [],
   "source": [
    "# embeddings\n",
    "embeddings = Language_Embedding(en_vocab_size, hi_vocab_size, d_model)"
   ]
  },
  {
   "cell_type": "markdown",
   "metadata": {},
   "source": [
    "### Data Loader\n"
   ]
  },
  {
   "cell_type": "code",
   "execution_count": 5,
   "metadata": {},
   "outputs": [],
   "source": [
    "dataset_size = len(dataset)\n",
    "train_size = int(0.8 * dataset_size)\n",
    "val_size = dataset_size - int(0.8 * dataset_size)\n",
    "\n",
    "train_dataset, val_dataset = random_split(dataset, [train_size,val_size])\n",
    "\n",
    "\n"
   ]
  },
  {
   "cell_type": "markdown",
   "metadata": {},
   "source": [
    "### Model Initializations\n"
   ]
  },
  {
   "cell_type": "code",
   "execution_count": 6,
   "metadata": {},
   "outputs": [
    {
     "name": "stdout",
     "output_type": "stream",
     "text": [
      " Using: cuda\n"
     ]
    }
   ],
   "source": [
    "# GPU for training\n",
    "device = torch.device('cuda') if torch.cuda.is_available() else torch.device('cpu')\n",
    "print(f\" Using: {device}\")\n",
    "\n",
    "model = Transformer(\n",
    "    num_encoder_decoder_layers=num_encoder_decoder_layers,\n",
    "    d_model=d_model,\n",
    "    sequence_length=sequence_length,\n",
    "    hidden_layers=hidden_layers,\n",
    "    num_heads=num_heads,\n",
    "    hi_voab_size=hi_vocab_size,\n",
    "    dropout_ff=dropout_ff,\n",
    "    dropout_attn=dropout_attn\n",
    ").to(device)\n",
    "\n",
    "\n",
    "# Loss\n",
    "criterian = nn.CrossEntropyLoss(ignore_index= dataset.hindi_to_index[dataset.PADDING_TOKEN], reduction ='none')\n",
    "\n",
    "# Parameter Initialization\n",
    "for param in model.parameters():\n",
    "    if param.dim()>1:\n",
    "        nn.init.xavier_uniform_(param)\n",
    "        \n",
    "# optimizer \n",
    "optim = torch.optim.Adam(model.parameters(), lr= 1e-4)\n"
   ]
  },
  {
   "cell_type": "markdown",
   "metadata": {},
   "source": [
    "### Model Training and Evaluation\n"
   ]
  },
  {
   "cell_type": "code",
   "execution_count": 7,
   "metadata": {},
   "outputs": [
    {
     "name": "stdout",
     "output_type": "stream",
     "text": [
      "No saved model found. Training from scratch.\n"
     ]
    }
   ],
   "source": [
    "model_save_path = \"saved_models\"  # Specify your directory to save models\n",
    "os.makedirs(model_save_path, exist_ok=True)  # Create directory if it doesn't exist\n",
    "\n",
    "\n",
    "def get_latest_model_checkpoint(model_save_path):\n",
    "    model_files = os.listdir(model_save_path)\n",
    "    model_epochs = [int(re.findall(r'model_epoch_(\\d+).pt', file)[0]) for file in model_files if file.endswith('.pt')]\n",
    "    \n",
    "    if len(model_epochs)>0:\n",
    "        latest_epoch = max(model_epochs)\n",
    "        model_save_file = os.path.join(model_save_path, f\"model_epoch_{latest_epoch}.pt\")\n",
    "        return latest_epoch, model_save_file\n",
    "    else:\n",
    "        return None, None\n",
    "    \n",
    "latest_epoch, model_save_file = get_latest_model_checkpoint(model_save_path)\n",
    "\n",
    "if model_save_file:\n",
    "    print(f\"Loading model from {model_save_file}\")\n",
    "    model.load_state_dict(torch.load(model_save_file))\n",
    "    current_epoch = latest_epoch + 1\n",
    "else:\n",
    "    print(\"No saved model found. Training from scratch.\")\n",
    "    current_epoch = 0"
   ]
  },
  {
   "cell_type": "markdown",
   "metadata": {},
   "source": [
    "##### Training\n"
   ]
  },
  {
   "cell_type": "code",
   "execution_count": 8,
   "metadata": {},
   "outputs": [
    {
     "name": "stdout",
     "output_type": "stream",
     "text": [
      "Epoch -> 0\n"
     ]
    },
    {
     "name": "stderr",
     "output_type": "stream",
     "text": [
      "Epoch 0/100: 100%|██████████| 469/469 [32:33<00:00,  4.17s/batch]\n"
     ]
    },
    {
     "name": "stdout",
     "output_type": "stream",
     "text": [
      "\t\tEpoch [1/100], training Loss: 2.5267\n"
     ]
    },
    {
     "name": "stderr",
     "output_type": "stream",
     "text": [
      "Validation Epoch 0/100: 100%|██████████| 118/118 [04:19<00:00,  2.20s/batch]\n"
     ]
    },
    {
     "name": "stdout",
     "output_type": "stream",
     "text": [
      "\t\tEpoch [0/100], Validation Loss: 2.0021\n",
      "\n",
      "\n",
      "Epoch -> 1\n"
     ]
    },
    {
     "name": "stderr",
     "output_type": "stream",
     "text": [
      "Epoch 1/100: 100%|██████████| 469/469 [27:01<00:00,  3.46s/batch]\n"
     ]
    },
    {
     "name": "stdout",
     "output_type": "stream",
     "text": [
      "\t\tEpoch [2/100], training Loss: 2.0047\n"
     ]
    },
    {
     "name": "stderr",
     "output_type": "stream",
     "text": [
      "Validation Epoch 1/100: 100%|██████████| 118/118 [04:32<00:00,  2.31s/batch]\n"
     ]
    },
    {
     "name": "stdout",
     "output_type": "stream",
     "text": [
      "\t\tEpoch [1/100], Validation Loss: 1.7467\n",
      "\n",
      "\n",
      "Epoch -> 2\n"
     ]
    },
    {
     "name": "stderr",
     "output_type": "stream",
     "text": [
      "Epoch 2/100: 100%|██████████| 469/469 [25:53<00:00,  3.31s/batch]\n"
     ]
    },
    {
     "name": "stdout",
     "output_type": "stream",
     "text": [
      "\t\tEpoch [3/100], training Loss: 1.8267\n"
     ]
    },
    {
     "name": "stderr",
     "output_type": "stream",
     "text": [
      "Validation Epoch 2/100: 100%|██████████| 118/118 [04:20<00:00,  2.21s/batch]\n"
     ]
    },
    {
     "name": "stdout",
     "output_type": "stream",
     "text": [
      "\t\tEpoch [2/100], Validation Loss: 1.6216\n",
      "\n",
      "\n",
      "Epoch -> 3\n"
     ]
    },
    {
     "name": "stderr",
     "output_type": "stream",
     "text": [
      "Epoch 3/100: 100%|██████████| 469/469 [25:40<00:00,  3.28s/batch]\n"
     ]
    },
    {
     "name": "stdout",
     "output_type": "stream",
     "text": [
      "\t\tEpoch [4/100], training Loss: 1.7205\n"
     ]
    },
    {
     "name": "stderr",
     "output_type": "stream",
     "text": [
      "Validation Epoch 3/100: 100%|██████████| 118/118 [04:21<00:00,  2.21s/batch]\n"
     ]
    },
    {
     "name": "stdout",
     "output_type": "stream",
     "text": [
      "\t\tEpoch [3/100], Validation Loss: 1.5443\n",
      "\n",
      "\n",
      "Epoch -> 4\n"
     ]
    },
    {
     "name": "stderr",
     "output_type": "stream",
     "text": [
      "Epoch 4/100: 100%|██████████| 469/469 [25:38<00:00,  3.28s/batch]\n"
     ]
    },
    {
     "name": "stdout",
     "output_type": "stream",
     "text": [
      "\t\tEpoch [5/100], training Loss: 1.6458\n"
     ]
    },
    {
     "name": "stderr",
     "output_type": "stream",
     "text": [
      "Validation Epoch 4/100: 100%|██████████| 118/118 [04:27<00:00,  2.27s/batch]\n"
     ]
    },
    {
     "name": "stdout",
     "output_type": "stream",
     "text": [
      "\t\tEpoch [4/100], Validation Loss: 1.4824\n",
      "\n",
      "\n",
      "Epoch -> 5\n"
     ]
    },
    {
     "name": "stderr",
     "output_type": "stream",
     "text": [
      "Epoch 5/100: 100%|██████████| 469/469 [25:53<00:00,  3.31s/batch]\n"
     ]
    },
    {
     "name": "stdout",
     "output_type": "stream",
     "text": [
      "\t\tEpoch [6/100], training Loss: 1.5884\n"
     ]
    },
    {
     "name": "stderr",
     "output_type": "stream",
     "text": [
      "Validation Epoch 5/100: 100%|██████████| 118/118 [04:23<00:00,  2.24s/batch]\n"
     ]
    },
    {
     "name": "stdout",
     "output_type": "stream",
     "text": [
      "\t\tEpoch [5/100], Validation Loss: 1.4423\n",
      "\n",
      "\n",
      "Epoch -> 6\n"
     ]
    },
    {
     "name": "stderr",
     "output_type": "stream",
     "text": [
      "Epoch 6/100: 100%|██████████| 469/469 [26:54<00:00,  3.44s/batch]\n"
     ]
    },
    {
     "name": "stdout",
     "output_type": "stream",
     "text": [
      "\t\tEpoch [7/100], training Loss: 1.5414\n"
     ]
    },
    {
     "name": "stderr",
     "output_type": "stream",
     "text": [
      "Validation Epoch 6/100: 100%|██████████| 118/118 [05:43<00:00,  2.91s/batch]\n"
     ]
    },
    {
     "name": "stdout",
     "output_type": "stream",
     "text": [
      "\t\tEpoch [6/100], Validation Loss: 1.4016\n",
      "\n",
      "\n",
      "Epoch -> 7\n"
     ]
    },
    {
     "name": "stderr",
     "output_type": "stream",
     "text": [
      "Epoch 7/100: 100%|██████████| 469/469 [29:41<00:00,  3.80s/batch]\n"
     ]
    },
    {
     "name": "stdout",
     "output_type": "stream",
     "text": [
      "\t\tEpoch [8/100], training Loss: 1.5024\n"
     ]
    },
    {
     "name": "stderr",
     "output_type": "stream",
     "text": [
      "Validation Epoch 7/100: 100%|██████████| 118/118 [05:05<00:00,  2.59s/batch]\n"
     ]
    },
    {
     "name": "stdout",
     "output_type": "stream",
     "text": [
      "\t\tEpoch [7/100], Validation Loss: 1.3700\n",
      "\n",
      "\n",
      "Epoch -> 8\n"
     ]
    },
    {
     "name": "stderr",
     "output_type": "stream",
     "text": [
      "Epoch 8/100: 100%|██████████| 469/469 [27:44<00:00,  3.55s/batch]\n"
     ]
    },
    {
     "name": "stdout",
     "output_type": "stream",
     "text": [
      "\t\tEpoch [9/100], training Loss: 1.4675\n"
     ]
    },
    {
     "name": "stderr",
     "output_type": "stream",
     "text": [
      "Validation Epoch 8/100: 100%|██████████| 118/118 [04:22<00:00,  2.22s/batch]\n"
     ]
    },
    {
     "name": "stdout",
     "output_type": "stream",
     "text": [
      "\t\tEpoch [8/100], Validation Loss: 1.3451\n",
      "\n",
      "\n",
      "Epoch -> 9\n"
     ]
    },
    {
     "name": "stderr",
     "output_type": "stream",
     "text": [
      "Epoch 9/100: 100%|██████████| 469/469 [28:29<00:00,  3.64s/batch]\n"
     ]
    },
    {
     "name": "stdout",
     "output_type": "stream",
     "text": [
      "\t\tEpoch [10/100], training Loss: 1.4343\n"
     ]
    },
    {
     "name": "stderr",
     "output_type": "stream",
     "text": [
      "Validation Epoch 9/100: 100%|██████████| 118/118 [06:08<00:00,  3.12s/batch]\n"
     ]
    },
    {
     "name": "stdout",
     "output_type": "stream",
     "text": [
      "\t\tEpoch [9/100], Validation Loss: 1.3210\n",
      "\n",
      "\n",
      "Epoch -> 10\n"
     ]
    },
    {
     "name": "stderr",
     "output_type": "stream",
     "text": [
      "Epoch 10/100: 100%|██████████| 469/469 [33:29<00:00,  4.29s/batch]\n"
     ]
    },
    {
     "name": "stdout",
     "output_type": "stream",
     "text": [
      "\t\tEpoch [11/100], training Loss: 1.4027\n"
     ]
    },
    {
     "name": "stderr",
     "output_type": "stream",
     "text": [
      "Validation Epoch 10/100: 100%|██████████| 118/118 [05:29<00:00,  2.79s/batch]\n"
     ]
    },
    {
     "name": "stdout",
     "output_type": "stream",
     "text": [
      "\t\tEpoch [10/100], Validation Loss: 1.2948\n",
      "\n",
      "\n",
      "Epoch -> 11\n"
     ]
    },
    {
     "name": "stderr",
     "output_type": "stream",
     "text": [
      "Epoch 11/100: 100%|██████████| 469/469 [27:48<00:00,  3.56s/batch]\n"
     ]
    },
    {
     "name": "stdout",
     "output_type": "stream",
     "text": [
      "\t\tEpoch [12/100], training Loss: 1.3714\n"
     ]
    },
    {
     "name": "stderr",
     "output_type": "stream",
     "text": [
      "Validation Epoch 11/100: 100%|██████████| 118/118 [04:20<00:00,  2.21s/batch]\n"
     ]
    },
    {
     "name": "stdout",
     "output_type": "stream",
     "text": [
      "\t\tEpoch [11/100], Validation Loss: 1.2618\n",
      "\n",
      "\n",
      "Epoch -> 12\n"
     ]
    },
    {
     "name": "stderr",
     "output_type": "stream",
     "text": [
      "Epoch 12/100: 100%|██████████| 469/469 [26:26<00:00,  3.38s/batch]\n"
     ]
    },
    {
     "name": "stdout",
     "output_type": "stream",
     "text": [
      "\t\tEpoch [13/100], training Loss: 1.3393\n"
     ]
    },
    {
     "name": "stderr",
     "output_type": "stream",
     "text": [
      "Validation Epoch 12/100: 100%|██████████| 118/118 [05:36<00:00,  2.85s/batch]\n"
     ]
    },
    {
     "name": "stdout",
     "output_type": "stream",
     "text": [
      "\t\tEpoch [12/100], Validation Loss: 1.2320\n",
      "\n",
      "\n",
      "Epoch -> 13\n"
     ]
    },
    {
     "name": "stderr",
     "output_type": "stream",
     "text": [
      "Epoch 13/100: 100%|██████████| 469/469 [25:57<00:00,  3.32s/batch]\n"
     ]
    },
    {
     "name": "stdout",
     "output_type": "stream",
     "text": [
      "\t\tEpoch [14/100], training Loss: 1.3073\n"
     ]
    },
    {
     "name": "stderr",
     "output_type": "stream",
     "text": [
      "Validation Epoch 13/100: 100%|██████████| 118/118 [04:33<00:00,  2.32s/batch]\n"
     ]
    },
    {
     "name": "stdout",
     "output_type": "stream",
     "text": [
      "\t\tEpoch [13/100], Validation Loss: 1.1985\n",
      "\n",
      "\n",
      "Epoch -> 14\n"
     ]
    },
    {
     "name": "stderr",
     "output_type": "stream",
     "text": [
      "Epoch 14/100: 100%|██████████| 469/469 [27:10<00:00,  3.48s/batch]\n"
     ]
    },
    {
     "name": "stdout",
     "output_type": "stream",
     "text": [
      "\t\tEpoch [15/100], training Loss: 1.2748\n"
     ]
    },
    {
     "name": "stderr",
     "output_type": "stream",
     "text": [
      "Validation Epoch 14/100: 100%|██████████| 118/118 [04:20<00:00,  2.21s/batch]\n"
     ]
    },
    {
     "name": "stdout",
     "output_type": "stream",
     "text": [
      "\t\tEpoch [14/100], Validation Loss: 1.1758\n",
      "\n",
      "\n",
      "Epoch -> 15\n"
     ]
    },
    {
     "name": "stderr",
     "output_type": "stream",
     "text": [
      "Epoch 15/100: 100%|██████████| 469/469 [25:37<00:00,  3.28s/batch]\n"
     ]
    },
    {
     "name": "stdout",
     "output_type": "stream",
     "text": [
      "\t\tEpoch [16/100], training Loss: 1.2408\n"
     ]
    },
    {
     "name": "stderr",
     "output_type": "stream",
     "text": [
      "Validation Epoch 15/100: 100%|██████████| 118/118 [04:19<00:00,  2.20s/batch]\n"
     ]
    },
    {
     "name": "stdout",
     "output_type": "stream",
     "text": [
      "\t\tEpoch [15/100], Validation Loss: 1.1326\n",
      "\n",
      "\n",
      "Epoch -> 16\n"
     ]
    },
    {
     "name": "stderr",
     "output_type": "stream",
     "text": [
      "Epoch 16/100: 100%|██████████| 469/469 [27:39<00:00,  3.54s/batch]\n"
     ]
    },
    {
     "name": "stdout",
     "output_type": "stream",
     "text": [
      "\t\tEpoch [17/100], training Loss: 1.2072\n"
     ]
    },
    {
     "name": "stderr",
     "output_type": "stream",
     "text": [
      "Validation Epoch 16/100: 100%|██████████| 118/118 [06:42<00:00,  3.41s/batch]\n"
     ]
    },
    {
     "name": "stdout",
     "output_type": "stream",
     "text": [
      "\t\tEpoch [16/100], Validation Loss: 1.1029\n",
      "\n",
      "\n",
      "Epoch -> 17\n"
     ]
    },
    {
     "name": "stderr",
     "output_type": "stream",
     "text": [
      "Epoch 17/100: 100%|██████████| 469/469 [29:38<00:00,  3.79s/batch]\n"
     ]
    },
    {
     "name": "stdout",
     "output_type": "stream",
     "text": [
      "\t\tEpoch [18/100], training Loss: 1.1738\n"
     ]
    },
    {
     "name": "stderr",
     "output_type": "stream",
     "text": [
      "Validation Epoch 17/100: 100%|██████████| 118/118 [06:45<00:00,  3.43s/batch]\n"
     ]
    },
    {
     "name": "stdout",
     "output_type": "stream",
     "text": [
      "\t\tEpoch [17/100], Validation Loss: 1.0785\n",
      "\n",
      "\n",
      "Epoch -> 18\n"
     ]
    },
    {
     "name": "stderr",
     "output_type": "stream",
     "text": [
      "Epoch 18/100: 100%|██████████| 469/469 [26:19<00:00,  3.37s/batch]\n"
     ]
    },
    {
     "name": "stdout",
     "output_type": "stream",
     "text": [
      "\t\tEpoch [19/100], training Loss: 1.1432\n"
     ]
    },
    {
     "name": "stderr",
     "output_type": "stream",
     "text": [
      "Validation Epoch 18/100: 100%|██████████| 118/118 [06:37<00:00,  3.37s/batch]\n"
     ]
    },
    {
     "name": "stdout",
     "output_type": "stream",
     "text": [
      "\t\tEpoch [18/100], Validation Loss: 1.0511\n",
      "\n",
      "\n",
      "Epoch -> 19\n"
     ]
    },
    {
     "name": "stderr",
     "output_type": "stream",
     "text": [
      "Epoch 19/100: 100%|██████████| 469/469 [27:19<00:00,  3.50s/batch]\n"
     ]
    },
    {
     "name": "stdout",
     "output_type": "stream",
     "text": [
      "\t\tEpoch [20/100], training Loss: 1.1135\n"
     ]
    },
    {
     "name": "stderr",
     "output_type": "stream",
     "text": [
      "Validation Epoch 19/100: 100%|██████████| 118/118 [05:06<00:00,  2.60s/batch]\n"
     ]
    },
    {
     "name": "stdout",
     "output_type": "stream",
     "text": [
      "\t\tEpoch [19/100], Validation Loss: 1.0217\n",
      "\n",
      "\n",
      "Epoch -> 20\n"
     ]
    },
    {
     "name": "stderr",
     "output_type": "stream",
     "text": [
      "Epoch 20/100: 100%|██████████| 469/469 [31:12<00:00,  3.99s/batch]\n"
     ]
    },
    {
     "name": "stdout",
     "output_type": "stream",
     "text": [
      "\t\tEpoch [21/100], training Loss: 1.0867\n"
     ]
    },
    {
     "name": "stderr",
     "output_type": "stream",
     "text": [
      "Validation Epoch 20/100: 100%|██████████| 118/118 [06:20<00:00,  3.22s/batch]\n"
     ]
    },
    {
     "name": "stdout",
     "output_type": "stream",
     "text": [
      "\t\tEpoch [20/100], Validation Loss: 1.0014\n",
      "\n",
      "\n",
      "Epoch -> 21\n"
     ]
    },
    {
     "name": "stderr",
     "output_type": "stream",
     "text": [
      "Epoch 21/100: 100%|██████████| 469/469 [33:11<00:00,  4.25s/batch]\n"
     ]
    },
    {
     "name": "stdout",
     "output_type": "stream",
     "text": [
      "\t\tEpoch [22/100], training Loss: 1.0617\n"
     ]
    },
    {
     "name": "stderr",
     "output_type": "stream",
     "text": [
      "Validation Epoch 21/100: 100%|██████████| 118/118 [06:16<00:00,  3.19s/batch]\n"
     ]
    },
    {
     "name": "stdout",
     "output_type": "stream",
     "text": [
      "\t\tEpoch [21/100], Validation Loss: 0.9797\n",
      "\n",
      "\n",
      "Epoch -> 22\n"
     ]
    },
    {
     "name": "stderr",
     "output_type": "stream",
     "text": [
      "Epoch 22/100: 100%|██████████| 469/469 [27:36<00:00,  3.53s/batch]\n"
     ]
    },
    {
     "name": "stdout",
     "output_type": "stream",
     "text": [
      "\t\tEpoch [23/100], training Loss: 1.0383\n"
     ]
    },
    {
     "name": "stderr",
     "output_type": "stream",
     "text": [
      "Validation Epoch 22/100: 100%|██████████| 118/118 [04:35<00:00,  2.33s/batch]\n"
     ]
    },
    {
     "name": "stdout",
     "output_type": "stream",
     "text": [
      "\t\tEpoch [22/100], Validation Loss: 0.9638\n",
      "\n",
      "\n",
      "Epoch -> 23\n"
     ]
    },
    {
     "name": "stderr",
     "output_type": "stream",
     "text": [
      "Epoch 23/100: 100%|██████████| 469/469 [31:23<00:00,  4.02s/batch]\n"
     ]
    },
    {
     "name": "stdout",
     "output_type": "stream",
     "text": [
      "\t\tEpoch [24/100], training Loss: 1.0168\n"
     ]
    },
    {
     "name": "stderr",
     "output_type": "stream",
     "text": [
      "Validation Epoch 23/100: 100%|██████████| 118/118 [04:21<00:00,  2.21s/batch]\n"
     ]
    },
    {
     "name": "stdout",
     "output_type": "stream",
     "text": [
      "\t\tEpoch [23/100], Validation Loss: 0.9481\n",
      "\n",
      "\n",
      "Epoch -> 24\n"
     ]
    },
    {
     "name": "stderr",
     "output_type": "stream",
     "text": [
      "Epoch 24/100: 100%|██████████| 469/469 [27:36<00:00,  3.53s/batch]\n"
     ]
    },
    {
     "name": "stdout",
     "output_type": "stream",
     "text": [
      "\t\tEpoch [25/100], training Loss: 0.9967\n"
     ]
    },
    {
     "name": "stderr",
     "output_type": "stream",
     "text": [
      "Validation Epoch 24/100: 100%|██████████| 118/118 [04:18<00:00,  2.19s/batch]\n"
     ]
    },
    {
     "name": "stdout",
     "output_type": "stream",
     "text": [
      "\t\tEpoch [24/100], Validation Loss: 0.9273\n",
      "\n",
      "\n",
      "Epoch -> 25\n"
     ]
    },
    {
     "name": "stderr",
     "output_type": "stream",
     "text": [
      "Epoch 25/100: 100%|██████████| 469/469 [27:53<00:00,  3.57s/batch]\n"
     ]
    },
    {
     "name": "stdout",
     "output_type": "stream",
     "text": [
      "\t\tEpoch [26/100], training Loss: 0.9782\n"
     ]
    },
    {
     "name": "stderr",
     "output_type": "stream",
     "text": [
      "Validation Epoch 25/100: 100%|██████████| 118/118 [04:13<00:00,  2.15s/batch]\n"
     ]
    },
    {
     "name": "stdout",
     "output_type": "stream",
     "text": [
      "\t\tEpoch [25/100], Validation Loss: 0.9166\n",
      "\n",
      "\n",
      "Epoch -> 26\n"
     ]
    },
    {
     "name": "stderr",
     "output_type": "stream",
     "text": [
      "Epoch 26/100: 100%|██████████| 469/469 [25:32<00:00,  3.27s/batch]\n"
     ]
    },
    {
     "name": "stdout",
     "output_type": "stream",
     "text": [
      "\t\tEpoch [27/100], training Loss: 0.9609\n"
     ]
    },
    {
     "name": "stderr",
     "output_type": "stream",
     "text": [
      "Validation Epoch 26/100: 100%|██████████| 118/118 [04:13<00:00,  2.14s/batch]\n"
     ]
    },
    {
     "name": "stdout",
     "output_type": "stream",
     "text": [
      "\t\tEpoch [26/100], Validation Loss: 0.9020\n",
      "\n",
      "\n",
      "Epoch -> 27\n"
     ]
    },
    {
     "name": "stderr",
     "output_type": "stream",
     "text": [
      "Epoch 27/100: 100%|██████████| 469/469 [25:33<00:00,  3.27s/batch]\n"
     ]
    },
    {
     "name": "stdout",
     "output_type": "stream",
     "text": [
      "\t\tEpoch [28/100], training Loss: 0.9448\n"
     ]
    },
    {
     "name": "stderr",
     "output_type": "stream",
     "text": [
      "Validation Epoch 27/100: 100%|██████████| 118/118 [04:14<00:00,  2.16s/batch]\n"
     ]
    },
    {
     "name": "stdout",
     "output_type": "stream",
     "text": [
      "\t\tEpoch [27/100], Validation Loss: 0.8953\n",
      "\n",
      "\n",
      "Epoch -> 28\n"
     ]
    },
    {
     "name": "stderr",
     "output_type": "stream",
     "text": [
      "Epoch 28/100: 100%|██████████| 469/469 [30:50<00:00,  3.95s/batch]\n"
     ]
    },
    {
     "name": "stdout",
     "output_type": "stream",
     "text": [
      "\t\tEpoch [29/100], training Loss: 0.9296\n"
     ]
    },
    {
     "name": "stderr",
     "output_type": "stream",
     "text": [
      "Validation Epoch 28/100: 100%|██████████| 118/118 [06:27<00:00,  3.29s/batch]\n"
     ]
    },
    {
     "name": "stdout",
     "output_type": "stream",
     "text": [
      "\t\tEpoch [28/100], Validation Loss: 0.8781\n",
      "\n",
      "\n",
      "Epoch -> 29\n"
     ]
    },
    {
     "name": "stderr",
     "output_type": "stream",
     "text": [
      "Epoch 29/100: 100%|██████████| 469/469 [29:52<00:00,  3.82s/batch]\n"
     ]
    },
    {
     "name": "stdout",
     "output_type": "stream",
     "text": [
      "\t\tEpoch [30/100], training Loss: 0.9152\n"
     ]
    },
    {
     "name": "stderr",
     "output_type": "stream",
     "text": [
      "Validation Epoch 29/100: 100%|██████████| 118/118 [04:16<00:00,  2.18s/batch]\n"
     ]
    },
    {
     "name": "stdout",
     "output_type": "stream",
     "text": [
      "\t\tEpoch [29/100], Validation Loss: 0.8684\n",
      "\n",
      "\n",
      "Epoch -> 30\n"
     ]
    },
    {
     "name": "stderr",
     "output_type": "stream",
     "text": [
      "Epoch 30/100: 100%|██████████| 469/469 [25:44<00:00,  3.29s/batch]\n"
     ]
    },
    {
     "name": "stdout",
     "output_type": "stream",
     "text": [
      "\t\tEpoch [31/100], training Loss: 0.9020\n"
     ]
    },
    {
     "name": "stderr",
     "output_type": "stream",
     "text": [
      "Validation Epoch 30/100: 100%|██████████| 118/118 [04:13<00:00,  2.15s/batch]\n"
     ]
    },
    {
     "name": "stdout",
     "output_type": "stream",
     "text": [
      "\t\tEpoch [30/100], Validation Loss: 0.8575\n",
      "\n",
      "\n",
      "Epoch -> 31\n"
     ]
    },
    {
     "name": "stderr",
     "output_type": "stream",
     "text": [
      "Epoch 31/100: 100%|██████████| 469/469 [26:04<00:00,  3.34s/batch]\n"
     ]
    },
    {
     "name": "stdout",
     "output_type": "stream",
     "text": [
      "\t\tEpoch [32/100], training Loss: 0.8897\n"
     ]
    },
    {
     "name": "stderr",
     "output_type": "stream",
     "text": [
      "Validation Epoch 31/100: 100%|██████████| 118/118 [06:28<00:00,  3.29s/batch]\n"
     ]
    },
    {
     "name": "stdout",
     "output_type": "stream",
     "text": [
      "\t\tEpoch [31/100], Validation Loss: 0.8479\n",
      "\n",
      "\n",
      "Epoch -> 32\n"
     ]
    },
    {
     "name": "stderr",
     "output_type": "stream",
     "text": [
      "Epoch 32/100: 100%|██████████| 469/469 [27:28<00:00,  3.52s/batch]\n"
     ]
    },
    {
     "name": "stdout",
     "output_type": "stream",
     "text": [
      "\t\tEpoch [33/100], training Loss: 0.8782\n"
     ]
    },
    {
     "name": "stderr",
     "output_type": "stream",
     "text": [
      "Validation Epoch 32/100: 100%|██████████| 118/118 [04:12<00:00,  2.14s/batch]\n"
     ]
    },
    {
     "name": "stdout",
     "output_type": "stream",
     "text": [
      "\t\tEpoch [32/100], Validation Loss: 0.8400\n",
      "\n",
      "\n",
      "Epoch -> 33\n"
     ]
    },
    {
     "name": "stderr",
     "output_type": "stream",
     "text": [
      "Epoch 33/100: 100%|██████████| 469/469 [26:20<00:00,  3.37s/batch]\n"
     ]
    },
    {
     "name": "stdout",
     "output_type": "stream",
     "text": [
      "\t\tEpoch [34/100], training Loss: 0.8671\n"
     ]
    },
    {
     "name": "stderr",
     "output_type": "stream",
     "text": [
      "Validation Epoch 33/100: 100%|██████████| 118/118 [06:28<00:00,  3.29s/batch]\n"
     ]
    },
    {
     "name": "stdout",
     "output_type": "stream",
     "text": [
      "\t\tEpoch [33/100], Validation Loss: 0.8306\n",
      "\n",
      "\n",
      "Epoch -> 34\n"
     ]
    },
    {
     "name": "stderr",
     "output_type": "stream",
     "text": [
      "Epoch 34/100: 100%|██████████| 469/469 [28:08<00:00,  3.60s/batch]\n"
     ]
    },
    {
     "name": "stdout",
     "output_type": "stream",
     "text": [
      "\t\tEpoch [35/100], training Loss: 0.8559\n"
     ]
    },
    {
     "name": "stderr",
     "output_type": "stream",
     "text": [
      "Validation Epoch 34/100: 100%|██████████| 118/118 [04:13<00:00,  2.14s/batch]\n"
     ]
    },
    {
     "name": "stdout",
     "output_type": "stream",
     "text": [
      "\t\tEpoch [34/100], Validation Loss: 0.8217\n",
      "\n",
      "\n",
      "Epoch -> 35\n"
     ]
    },
    {
     "name": "stderr",
     "output_type": "stream",
     "text": [
      "Epoch 35/100: 100%|██████████| 469/469 [25:34<00:00,  3.27s/batch]\n"
     ]
    },
    {
     "name": "stdout",
     "output_type": "stream",
     "text": [
      "\t\tEpoch [36/100], training Loss: 0.8456\n"
     ]
    },
    {
     "name": "stderr",
     "output_type": "stream",
     "text": [
      "Validation Epoch 35/100: 100%|██████████| 118/118 [04:48<00:00,  2.44s/batch]\n"
     ]
    },
    {
     "name": "stdout",
     "output_type": "stream",
     "text": [
      "\t\tEpoch [35/100], Validation Loss: 0.8137\n",
      "\n",
      "\n",
      "Epoch -> 36\n"
     ]
    },
    {
     "name": "stderr",
     "output_type": "stream",
     "text": [
      "Epoch 36/100: 100%|██████████| 469/469 [27:05<00:00,  3.47s/batch]\n"
     ]
    },
    {
     "name": "stdout",
     "output_type": "stream",
     "text": [
      "\t\tEpoch [37/100], training Loss: 0.8361\n"
     ]
    },
    {
     "name": "stderr",
     "output_type": "stream",
     "text": [
      "Validation Epoch 36/100: 100%|██████████| 118/118 [04:12<00:00,  2.14s/batch]\n"
     ]
    },
    {
     "name": "stdout",
     "output_type": "stream",
     "text": [
      "\t\tEpoch [36/100], Validation Loss: 0.8082\n",
      "\n",
      "\n",
      "Epoch -> 37\n"
     ]
    },
    {
     "name": "stderr",
     "output_type": "stream",
     "text": [
      "Epoch 37/100: 100%|██████████| 469/469 [26:33<00:00,  3.40s/batch]\n"
     ]
    },
    {
     "name": "stdout",
     "output_type": "stream",
     "text": [
      "\t\tEpoch [38/100], training Loss: 0.8278\n"
     ]
    },
    {
     "name": "stderr",
     "output_type": "stream",
     "text": [
      "Validation Epoch 37/100: 100%|██████████| 118/118 [06:29<00:00,  3.30s/batch]\n"
     ]
    },
    {
     "name": "stdout",
     "output_type": "stream",
     "text": [
      "\t\tEpoch [37/100], Validation Loss: 0.8013\n",
      "\n",
      "\n",
      "Epoch -> 38\n"
     ]
    },
    {
     "name": "stderr",
     "output_type": "stream",
     "text": [
      "Epoch 38/100: 100%|██████████| 469/469 [27:53<00:00,  3.57s/batch]\n"
     ]
    },
    {
     "name": "stdout",
     "output_type": "stream",
     "text": [
      "\t\tEpoch [39/100], training Loss: 0.8181\n"
     ]
    },
    {
     "name": "stderr",
     "output_type": "stream",
     "text": [
      "Validation Epoch 38/100: 100%|██████████| 118/118 [04:13<00:00,  2.15s/batch]\n"
     ]
    },
    {
     "name": "stdout",
     "output_type": "stream",
     "text": [
      "\t\tEpoch [38/100], Validation Loss: 0.7955\n",
      "\n",
      "\n",
      "Epoch -> 39\n"
     ]
    },
    {
     "name": "stderr",
     "output_type": "stream",
     "text": [
      "Epoch 39/100: 100%|██████████| 469/469 [29:19<00:00,  3.75s/batch]\n"
     ]
    },
    {
     "name": "stdout",
     "output_type": "stream",
     "text": [
      "\t\tEpoch [40/100], training Loss: 0.8103\n"
     ]
    },
    {
     "name": "stderr",
     "output_type": "stream",
     "text": [
      "Validation Epoch 39/100: 100%|██████████| 118/118 [06:27<00:00,  3.29s/batch]\n"
     ]
    },
    {
     "name": "stdout",
     "output_type": "stream",
     "text": [
      "\t\tEpoch [39/100], Validation Loss: 0.7937\n",
      "\n",
      "\n",
      "Epoch -> 40\n"
     ]
    },
    {
     "name": "stderr",
     "output_type": "stream",
     "text": [
      "Epoch 40/100: 100%|██████████| 469/469 [34:42<00:00,  4.44s/batch]\n"
     ]
    },
    {
     "name": "stdout",
     "output_type": "stream",
     "text": [
      "\t\tEpoch [41/100], training Loss: 0.8017\n"
     ]
    },
    {
     "name": "stderr",
     "output_type": "stream",
     "text": [
      "Validation Epoch 40/100: 100%|██████████| 118/118 [05:48<00:00,  2.95s/batch]\n"
     ]
    },
    {
     "name": "stdout",
     "output_type": "stream",
     "text": [
      "\t\tEpoch [40/100], Validation Loss: 0.7844\n",
      "\n",
      "\n",
      "Epoch -> 41\n"
     ]
    },
    {
     "name": "stderr",
     "output_type": "stream",
     "text": [
      "Epoch 41/100: 100%|██████████| 469/469 [25:38<00:00,  3.28s/batch]\n"
     ]
    },
    {
     "name": "stdout",
     "output_type": "stream",
     "text": [
      "\t\tEpoch [42/100], training Loss: 0.7949\n"
     ]
    },
    {
     "name": "stderr",
     "output_type": "stream",
     "text": [
      "Validation Epoch 41/100: 100%|██████████| 118/118 [04:13<00:00,  2.15s/batch]\n"
     ]
    },
    {
     "name": "stdout",
     "output_type": "stream",
     "text": [
      "\t\tEpoch [41/100], Validation Loss: 0.7819\n",
      "\n",
      "\n",
      "Epoch -> 42\n"
     ]
    },
    {
     "name": "stderr",
     "output_type": "stream",
     "text": [
      "Epoch 42/100: 100%|██████████| 469/469 [25:38<00:00,  3.28s/batch]\n"
     ]
    },
    {
     "name": "stdout",
     "output_type": "stream",
     "text": [
      "\t\tEpoch [43/100], training Loss: 0.7872\n"
     ]
    },
    {
     "name": "stderr",
     "output_type": "stream",
     "text": [
      "Validation Epoch 42/100: 100%|██████████| 118/118 [04:13<00:00,  2.15s/batch]\n"
     ]
    },
    {
     "name": "stdout",
     "output_type": "stream",
     "text": [
      "\t\tEpoch [42/100], Validation Loss: 0.7734\n",
      "\n",
      "\n",
      "Epoch -> 43\n"
     ]
    },
    {
     "name": "stderr",
     "output_type": "stream",
     "text": [
      "Epoch 43/100: 100%|██████████| 469/469 [30:17<00:00,  3.88s/batch]\n"
     ]
    },
    {
     "name": "stdout",
     "output_type": "stream",
     "text": [
      "\t\tEpoch [44/100], training Loss: 0.7798\n"
     ]
    },
    {
     "name": "stderr",
     "output_type": "stream",
     "text": [
      "Validation Epoch 43/100: 100%|██████████| 118/118 [05:17<00:00,  2.69s/batch]\n"
     ]
    },
    {
     "name": "stdout",
     "output_type": "stream",
     "text": [
      "\t\tEpoch [43/100], Validation Loss: 0.7679\n",
      "\n",
      "\n",
      "Epoch -> 44\n"
     ]
    },
    {
     "name": "stderr",
     "output_type": "stream",
     "text": [
      "Epoch 44/100: 100%|██████████| 469/469 [25:46<00:00,  3.30s/batch]\n"
     ]
    },
    {
     "name": "stdout",
     "output_type": "stream",
     "text": [
      "\t\tEpoch [45/100], training Loss: 0.7731\n"
     ]
    },
    {
     "name": "stderr",
     "output_type": "stream",
     "text": [
      "Validation Epoch 44/100: 100%|██████████| 118/118 [04:13<00:00,  2.14s/batch]\n"
     ]
    },
    {
     "name": "stdout",
     "output_type": "stream",
     "text": [
      "\t\tEpoch [44/100], Validation Loss: 0.7650\n",
      "\n",
      "\n",
      "Epoch -> 45\n"
     ]
    },
    {
     "name": "stderr",
     "output_type": "stream",
     "text": [
      "Epoch 45/100: 100%|██████████| 469/469 [25:39<00:00,  3.28s/batch]\n"
     ]
    },
    {
     "name": "stdout",
     "output_type": "stream",
     "text": [
      "\t\tEpoch [46/100], training Loss: 0.7668\n"
     ]
    },
    {
     "name": "stderr",
     "output_type": "stream",
     "text": [
      "Validation Epoch 45/100: 100%|██████████| 118/118 [04:13<00:00,  2.15s/batch]\n"
     ]
    },
    {
     "name": "stdout",
     "output_type": "stream",
     "text": [
      "\t\tEpoch [45/100], Validation Loss: 0.7604\n",
      "\n",
      "\n",
      "Epoch -> 46\n"
     ]
    },
    {
     "name": "stderr",
     "output_type": "stream",
     "text": [
      "Epoch 46/100: 100%|██████████| 469/469 [25:39<00:00,  3.28s/batch]\n"
     ]
    },
    {
     "name": "stdout",
     "output_type": "stream",
     "text": [
      "\t\tEpoch [47/100], training Loss: 0.7602\n"
     ]
    },
    {
     "name": "stderr",
     "output_type": "stream",
     "text": [
      "Validation Epoch 46/100: 100%|██████████| 118/118 [04:13<00:00,  2.15s/batch]\n"
     ]
    },
    {
     "name": "stdout",
     "output_type": "stream",
     "text": [
      "\t\tEpoch [46/100], Validation Loss: 0.7538\n",
      "\n",
      "\n",
      "Epoch -> 47\n"
     ]
    },
    {
     "name": "stderr",
     "output_type": "stream",
     "text": [
      "Epoch 47/100: 100%|██████████| 469/469 [25:45<00:00,  3.30s/batch]\n"
     ]
    },
    {
     "name": "stdout",
     "output_type": "stream",
     "text": [
      "\t\tEpoch [48/100], training Loss: 0.7551\n"
     ]
    },
    {
     "name": "stderr",
     "output_type": "stream",
     "text": [
      "Validation Epoch 47/100: 100%|██████████| 118/118 [04:17<00:00,  2.18s/batch]\n"
     ]
    },
    {
     "name": "stdout",
     "output_type": "stream",
     "text": [
      "\t\tEpoch [47/100], Validation Loss: 0.7529\n",
      "\n",
      "\n",
      "Epoch -> 48\n"
     ]
    },
    {
     "name": "stderr",
     "output_type": "stream",
     "text": [
      "Epoch 48/100: 100%|██████████| 469/469 [25:41<00:00,  3.29s/batch]\n"
     ]
    },
    {
     "name": "stdout",
     "output_type": "stream",
     "text": [
      "\t\tEpoch [49/100], training Loss: 0.7483\n"
     ]
    },
    {
     "name": "stderr",
     "output_type": "stream",
     "text": [
      "Validation Epoch 48/100: 100%|██████████| 118/118 [04:13<00:00,  2.15s/batch]\n"
     ]
    },
    {
     "name": "stdout",
     "output_type": "stream",
     "text": [
      "\t\tEpoch [48/100], Validation Loss: 0.7495\n",
      "\n",
      "\n",
      "Epoch -> 49\n"
     ]
    },
    {
     "name": "stderr",
     "output_type": "stream",
     "text": [
      "Epoch 49/100: 100%|██████████| 469/469 [30:17<00:00,  3.88s/batch]\n"
     ]
    },
    {
     "name": "stdout",
     "output_type": "stream",
     "text": [
      "\t\tEpoch [50/100], training Loss: 0.7428\n"
     ]
    },
    {
     "name": "stderr",
     "output_type": "stream",
     "text": [
      "Validation Epoch 49/100: 100%|██████████| 118/118 [06:29<00:00,  3.30s/batch]\n"
     ]
    },
    {
     "name": "stdout",
     "output_type": "stream",
     "text": [
      "\t\tEpoch [49/100], Validation Loss: 0.7473\n",
      "\n",
      "\n",
      "Epoch -> 50\n"
     ]
    },
    {
     "name": "stderr",
     "output_type": "stream",
     "text": [
      "Epoch 50/100: 100%|██████████| 469/469 [34:30<00:00,  4.41s/batch]\n"
     ]
    },
    {
     "name": "stdout",
     "output_type": "stream",
     "text": [
      "\t\tEpoch [51/100], training Loss: 0.7373\n"
     ]
    },
    {
     "name": "stderr",
     "output_type": "stream",
     "text": [
      "Validation Epoch 50/100: 100%|██████████| 118/118 [06:28<00:00,  3.30s/batch]\n"
     ]
    },
    {
     "name": "stdout",
     "output_type": "stream",
     "text": [
      "\t\tEpoch [50/100], Validation Loss: 0.7424\n",
      "\n",
      "\n",
      "Epoch -> 51\n"
     ]
    },
    {
     "name": "stderr",
     "output_type": "stream",
     "text": [
      "Epoch 51/100: 100%|██████████| 469/469 [28:01<00:00,  3.58s/batch]\n"
     ]
    },
    {
     "name": "stdout",
     "output_type": "stream",
     "text": [
      "\t\tEpoch [52/100], training Loss: 0.7325\n"
     ]
    },
    {
     "name": "stderr",
     "output_type": "stream",
     "text": [
      "Validation Epoch 51/100: 100%|██████████| 118/118 [04:21<00:00,  2.21s/batch]\n"
     ]
    },
    {
     "name": "stdout",
     "output_type": "stream",
     "text": [
      "\t\tEpoch [51/100], Validation Loss: 0.7396\n",
      "\n",
      "\n",
      "Epoch -> 52\n"
     ]
    },
    {
     "name": "stderr",
     "output_type": "stream",
     "text": [
      "Epoch 52/100: 100%|██████████| 469/469 [32:38<00:00,  4.18s/batch]\n"
     ]
    },
    {
     "name": "stdout",
     "output_type": "stream",
     "text": [
      "\t\tEpoch [53/100], training Loss: 0.7275\n"
     ]
    },
    {
     "name": "stderr",
     "output_type": "stream",
     "text": [
      "Validation Epoch 52/100: 100%|██████████| 118/118 [04:15<00:00,  2.17s/batch]\n"
     ]
    },
    {
     "name": "stdout",
     "output_type": "stream",
     "text": [
      "\t\tEpoch [52/100], Validation Loss: 0.7400\n",
      "\n",
      "\n",
      "Epoch -> 53\n"
     ]
    },
    {
     "name": "stderr",
     "output_type": "stream",
     "text": [
      "Epoch 53/100: 100%|██████████| 469/469 [34:24<00:00,  4.40s/batch]\n"
     ]
    },
    {
     "name": "stdout",
     "output_type": "stream",
     "text": [
      "\t\tEpoch [54/100], training Loss: 0.7232\n"
     ]
    },
    {
     "name": "stderr",
     "output_type": "stream",
     "text": [
      "Validation Epoch 53/100: 100%|██████████| 118/118 [04:36<00:00,  2.34s/batch]\n"
     ]
    },
    {
     "name": "stdout",
     "output_type": "stream",
     "text": [
      "\t\tEpoch [53/100], Validation Loss: 0.7302\n",
      "\n",
      "\n",
      "Epoch -> 54\n"
     ]
    },
    {
     "name": "stderr",
     "output_type": "stream",
     "text": [
      "Epoch 54/100: 100%|██████████| 469/469 [34:45<00:00,  4.45s/batch]\n"
     ]
    },
    {
     "name": "stdout",
     "output_type": "stream",
     "text": [
      "\t\tEpoch [55/100], training Loss: 0.7186\n"
     ]
    },
    {
     "name": "stderr",
     "output_type": "stream",
     "text": [
      "Validation Epoch 54/100: 100%|██████████| 118/118 [06:28<00:00,  3.29s/batch]\n"
     ]
    },
    {
     "name": "stdout",
     "output_type": "stream",
     "text": [
      "\t\tEpoch [54/100], Validation Loss: 0.7337\n",
      "\n",
      "\n",
      "Epoch -> 55\n"
     ]
    },
    {
     "name": "stderr",
     "output_type": "stream",
     "text": [
      "Epoch 55/100: 100%|██████████| 469/469 [34:42<00:00,  4.44s/batch]\n"
     ]
    },
    {
     "name": "stdout",
     "output_type": "stream",
     "text": [
      "\t\tEpoch [56/100], training Loss: 0.7147\n"
     ]
    },
    {
     "name": "stderr",
     "output_type": "stream",
     "text": [
      "Validation Epoch 55/100: 100%|██████████| 118/118 [06:28<00:00,  3.29s/batch]\n"
     ]
    },
    {
     "name": "stdout",
     "output_type": "stream",
     "text": [
      "\t\tEpoch [55/100], Validation Loss: 0.7314\n",
      "\n",
      "\n",
      "Epoch -> 56\n"
     ]
    },
    {
     "name": "stderr",
     "output_type": "stream",
     "text": [
      "Epoch 56/100: 100%|██████████| 469/469 [34:43<00:00,  4.44s/batch]\n"
     ]
    },
    {
     "name": "stdout",
     "output_type": "stream",
     "text": [
      "\t\tEpoch [57/100], training Loss: 0.7085\n"
     ]
    },
    {
     "name": "stderr",
     "output_type": "stream",
     "text": [
      "Validation Epoch 56/100: 100%|██████████| 118/118 [06:28<00:00,  3.30s/batch]\n"
     ]
    },
    {
     "name": "stdout",
     "output_type": "stream",
     "text": [
      "\t\tEpoch [56/100], Validation Loss: 0.7258\n",
      "\n",
      "\n",
      "Epoch -> 57\n"
     ]
    },
    {
     "name": "stderr",
     "output_type": "stream",
     "text": [
      "Epoch 57/100: 100%|██████████| 469/469 [34:39<00:00,  4.43s/batch]\n"
     ]
    },
    {
     "name": "stdout",
     "output_type": "stream",
     "text": [
      "\t\tEpoch [58/100], training Loss: 0.7030\n"
     ]
    },
    {
     "name": "stderr",
     "output_type": "stream",
     "text": [
      "Validation Epoch 57/100: 100%|██████████| 118/118 [06:28<00:00,  3.29s/batch]\n"
     ]
    },
    {
     "name": "stdout",
     "output_type": "stream",
     "text": [
      "\t\tEpoch [57/100], Validation Loss: 0.7232\n",
      "\n",
      "\n",
      "Epoch -> 58\n"
     ]
    },
    {
     "name": "stderr",
     "output_type": "stream",
     "text": [
      "Epoch 58/100: 100%|██████████| 469/469 [34:34<00:00,  4.42s/batch]\n"
     ]
    },
    {
     "name": "stdout",
     "output_type": "stream",
     "text": [
      "\t\tEpoch [59/100], training Loss: 0.6991\n"
     ]
    },
    {
     "name": "stderr",
     "output_type": "stream",
     "text": [
      "Validation Epoch 58/100: 100%|██████████| 118/118 [06:29<00:00,  3.30s/batch]\n"
     ]
    },
    {
     "name": "stdout",
     "output_type": "stream",
     "text": [
      "\t\tEpoch [58/100], Validation Loss: 0.7192\n",
      "\n",
      "\n",
      "Epoch -> 59\n"
     ]
    },
    {
     "name": "stderr",
     "output_type": "stream",
     "text": [
      "Epoch 59/100: 100%|██████████| 469/469 [26:15<00:00,  3.36s/batch]\n"
     ]
    },
    {
     "name": "stdout",
     "output_type": "stream",
     "text": [
      "\t\tEpoch [60/100], training Loss: 0.6955\n"
     ]
    },
    {
     "name": "stderr",
     "output_type": "stream",
     "text": [
      "Validation Epoch 59/100: 100%|██████████| 118/118 [04:14<00:00,  2.15s/batch]\n"
     ]
    },
    {
     "name": "stdout",
     "output_type": "stream",
     "text": [
      "\t\tEpoch [59/100], Validation Loss: 0.7156\n",
      "\n",
      "\n",
      "Epoch -> 60\n"
     ]
    },
    {
     "name": "stderr",
     "output_type": "stream",
     "text": [
      "Epoch 60/100: 100%|██████████| 469/469 [26:35<00:00,  3.40s/batch]\n"
     ]
    },
    {
     "name": "stdout",
     "output_type": "stream",
     "text": [
      "\t\tEpoch [61/100], training Loss: 0.6915\n"
     ]
    },
    {
     "name": "stderr",
     "output_type": "stream",
     "text": [
      "Validation Epoch 60/100: 100%|██████████| 118/118 [06:29<00:00,  3.30s/batch]\n"
     ]
    },
    {
     "name": "stdout",
     "output_type": "stream",
     "text": [
      "\t\tEpoch [60/100], Validation Loss: 0.7126\n",
      "\n",
      "\n",
      "Epoch -> 61\n"
     ]
    },
    {
     "name": "stderr",
     "output_type": "stream",
     "text": [
      "Epoch 61/100: 100%|██████████| 469/469 [25:56<00:00,  3.32s/batch]\n"
     ]
    },
    {
     "name": "stdout",
     "output_type": "stream",
     "text": [
      "\t\tEpoch [62/100], training Loss: 0.6874\n"
     ]
    },
    {
     "name": "stderr",
     "output_type": "stream",
     "text": [
      "Validation Epoch 61/100: 100%|██████████| 118/118 [04:13<00:00,  2.15s/batch]\n"
     ]
    },
    {
     "name": "stdout",
     "output_type": "stream",
     "text": [
      "\t\tEpoch [61/100], Validation Loss: 0.7077\n",
      "\n",
      "\n",
      "Epoch -> 62\n"
     ]
    },
    {
     "name": "stderr",
     "output_type": "stream",
     "text": [
      "Epoch 62/100: 100%|██████████| 469/469 [25:41<00:00,  3.29s/batch]\n"
     ]
    },
    {
     "name": "stdout",
     "output_type": "stream",
     "text": [
      "\t\tEpoch [63/100], training Loss: 0.6837\n"
     ]
    },
    {
     "name": "stderr",
     "output_type": "stream",
     "text": [
      "Validation Epoch 62/100: 100%|██████████| 118/118 [04:14<00:00,  2.16s/batch]\n"
     ]
    },
    {
     "name": "stdout",
     "output_type": "stream",
     "text": [
      "\t\tEpoch [62/100], Validation Loss: 0.7136\n",
      "\n",
      "\n",
      "Epoch -> 63\n"
     ]
    },
    {
     "name": "stderr",
     "output_type": "stream",
     "text": [
      "Epoch 63/100: 100%|██████████| 469/469 [25:41<00:00,  3.29s/batch]\n"
     ]
    },
    {
     "name": "stdout",
     "output_type": "stream",
     "text": [
      "\t\tEpoch [64/100], training Loss: 0.6797\n"
     ]
    },
    {
     "name": "stderr",
     "output_type": "stream",
     "text": [
      "Validation Epoch 63/100: 100%|██████████| 118/118 [04:14<00:00,  2.16s/batch]\n"
     ]
    },
    {
     "name": "stdout",
     "output_type": "stream",
     "text": [
      "\t\tEpoch [63/100], Validation Loss: 0.7089\n",
      "\n",
      "\n",
      "Epoch -> 64\n"
     ]
    },
    {
     "name": "stderr",
     "output_type": "stream",
     "text": [
      "Epoch 64/100: 100%|██████████| 469/469 [25:45<00:00,  3.30s/batch]\n"
     ]
    },
    {
     "name": "stdout",
     "output_type": "stream",
     "text": [
      "\t\tEpoch [65/100], training Loss: 0.6762\n"
     ]
    },
    {
     "name": "stderr",
     "output_type": "stream",
     "text": [
      "Validation Epoch 64/100: 100%|██████████| 118/118 [04:15<00:00,  2.17s/batch]\n"
     ]
    },
    {
     "name": "stdout",
     "output_type": "stream",
     "text": [
      "\t\tEpoch [64/100], Validation Loss: 0.7088\n",
      "\n",
      "\n",
      "Epoch -> 65\n"
     ]
    },
    {
     "name": "stderr",
     "output_type": "stream",
     "text": [
      "Epoch 65/100: 100%|██████████| 469/469 [29:52<00:00,  3.82s/batch]\n"
     ]
    },
    {
     "name": "stdout",
     "output_type": "stream",
     "text": [
      "\t\tEpoch [66/100], training Loss: 0.6726\n"
     ]
    },
    {
     "name": "stderr",
     "output_type": "stream",
     "text": [
      "Validation Epoch 65/100: 100%|██████████| 118/118 [06:27<00:00,  3.28s/batch]\n"
     ]
    },
    {
     "name": "stdout",
     "output_type": "stream",
     "text": [
      "\t\tEpoch [65/100], Validation Loss: 0.7069\n",
      "\n",
      "\n",
      "Epoch -> 66\n"
     ]
    },
    {
     "name": "stderr",
     "output_type": "stream",
     "text": [
      "Epoch 66/100: 100%|██████████| 469/469 [33:49<00:00,  4.33s/batch]\n"
     ]
    },
    {
     "name": "stdout",
     "output_type": "stream",
     "text": [
      "\t\tEpoch [67/100], training Loss: 0.6691\n"
     ]
    },
    {
     "name": "stderr",
     "output_type": "stream",
     "text": [
      "Validation Epoch 66/100: 100%|██████████| 118/118 [06:26<00:00,  3.28s/batch]\n"
     ]
    },
    {
     "name": "stdout",
     "output_type": "stream",
     "text": [
      "\t\tEpoch [66/100], Validation Loss: 0.7052\n",
      "\n",
      "\n",
      "Epoch -> 67\n"
     ]
    },
    {
     "name": "stderr",
     "output_type": "stream",
     "text": [
      "Epoch 67/100: 100%|██████████| 469/469 [28:16<00:00,  3.62s/batch]\n"
     ]
    },
    {
     "name": "stdout",
     "output_type": "stream",
     "text": [
      "\t\tEpoch [68/100], training Loss: 0.6658\n"
     ]
    },
    {
     "name": "stderr",
     "output_type": "stream",
     "text": [
      "Validation Epoch 67/100: 100%|██████████| 118/118 [06:28<00:00,  3.29s/batch]\n"
     ]
    },
    {
     "name": "stdout",
     "output_type": "stream",
     "text": [
      "\t\tEpoch [67/100], Validation Loss: 0.7009\n",
      "\n",
      "\n",
      "Epoch -> 68\n"
     ]
    },
    {
     "name": "stderr",
     "output_type": "stream",
     "text": [
      "Epoch 68/100: 100%|██████████| 469/469 [27:01<00:00,  3.46s/batch]\n"
     ]
    },
    {
     "name": "stdout",
     "output_type": "stream",
     "text": [
      "\t\tEpoch [69/100], training Loss: 0.6626\n"
     ]
    },
    {
     "name": "stderr",
     "output_type": "stream",
     "text": [
      "Validation Epoch 68/100: 100%|██████████| 118/118 [04:12<00:00,  2.14s/batch]\n"
     ]
    },
    {
     "name": "stdout",
     "output_type": "stream",
     "text": [
      "\t\tEpoch [68/100], Validation Loss: 0.7042\n",
      "\n",
      "\n",
      "Epoch -> 69\n"
     ]
    },
    {
     "name": "stderr",
     "output_type": "stream",
     "text": [
      "Epoch 69/100: 100%|██████████| 469/469 [29:26<00:00,  3.77s/batch]\n"
     ]
    },
    {
     "name": "stdout",
     "output_type": "stream",
     "text": [
      "\t\tEpoch [70/100], training Loss: 0.6603\n"
     ]
    },
    {
     "name": "stderr",
     "output_type": "stream",
     "text": [
      "Validation Epoch 69/100: 100%|██████████| 118/118 [04:13<00:00,  2.15s/batch]\n"
     ]
    },
    {
     "name": "stdout",
     "output_type": "stream",
     "text": [
      "\t\tEpoch [69/100], Validation Loss: 0.6994\n",
      "\n",
      "\n",
      "Epoch -> 70\n"
     ]
    },
    {
     "name": "stderr",
     "output_type": "stream",
     "text": [
      "Epoch 70/100: 100%|██████████| 469/469 [25:36<00:00,  3.28s/batch]\n"
     ]
    },
    {
     "name": "stdout",
     "output_type": "stream",
     "text": [
      "\t\tEpoch [71/100], training Loss: 0.6580\n"
     ]
    },
    {
     "name": "stderr",
     "output_type": "stream",
     "text": [
      "Validation Epoch 70/100: 100%|██████████| 118/118 [04:12<00:00,  2.14s/batch]\n"
     ]
    },
    {
     "name": "stdout",
     "output_type": "stream",
     "text": [
      "\t\tEpoch [70/100], Validation Loss: 0.6987\n",
      "\n",
      "\n",
      "Epoch -> 71\n"
     ]
    },
    {
     "name": "stderr",
     "output_type": "stream",
     "text": [
      "Epoch 71/100: 100%|██████████| 469/469 [25:13<00:00,  3.23s/batch]\n"
     ]
    },
    {
     "name": "stdout",
     "output_type": "stream",
     "text": [
      "\t\tEpoch [72/100], training Loss: 0.6548\n"
     ]
    },
    {
     "name": "stderr",
     "output_type": "stream",
     "text": [
      "Validation Epoch 71/100: 100%|██████████| 118/118 [04:12<00:00,  2.14s/batch]\n"
     ]
    },
    {
     "name": "stdout",
     "output_type": "stream",
     "text": [
      "\t\tEpoch [71/100], Validation Loss: 0.7066\n",
      "\n",
      "\n",
      "Epoch -> 72\n"
     ]
    },
    {
     "name": "stderr",
     "output_type": "stream",
     "text": [
      "Epoch 72/100: 100%|██████████| 469/469 [25:31<00:00,  3.27s/batch]\n"
     ]
    },
    {
     "name": "stdout",
     "output_type": "stream",
     "text": [
      "\t\tEpoch [73/100], training Loss: 0.6513\n"
     ]
    },
    {
     "name": "stderr",
     "output_type": "stream",
     "text": [
      "Validation Epoch 72/100: 100%|██████████| 118/118 [04:13<00:00,  2.15s/batch]\n"
     ]
    },
    {
     "name": "stdout",
     "output_type": "stream",
     "text": [
      "\t\tEpoch [72/100], Validation Loss: 0.6973\n",
      "\n",
      "\n",
      "Epoch -> 73\n"
     ]
    },
    {
     "name": "stderr",
     "output_type": "stream",
     "text": [
      "Epoch 73/100: 100%|██████████| 469/469 [25:38<00:00,  3.28s/batch]\n"
     ]
    },
    {
     "name": "stdout",
     "output_type": "stream",
     "text": [
      "\t\tEpoch [74/100], training Loss: 0.6468\n"
     ]
    },
    {
     "name": "stderr",
     "output_type": "stream",
     "text": [
      "Validation Epoch 73/100: 100%|██████████| 118/118 [04:12<00:00,  2.14s/batch]\n"
     ]
    },
    {
     "name": "stdout",
     "output_type": "stream",
     "text": [
      "\t\tEpoch [73/100], Validation Loss: 0.6923\n",
      "\n",
      "\n",
      "Epoch -> 74\n"
     ]
    },
    {
     "name": "stderr",
     "output_type": "stream",
     "text": [
      "Epoch 74/100: 100%|██████████| 469/469 [25:34<00:00,  3.27s/batch]\n"
     ]
    },
    {
     "name": "stdout",
     "output_type": "stream",
     "text": [
      "\t\tEpoch [75/100], training Loss: 0.6443\n"
     ]
    },
    {
     "name": "stderr",
     "output_type": "stream",
     "text": [
      "Validation Epoch 74/100: 100%|██████████| 118/118 [04:13<00:00,  2.15s/batch]\n"
     ]
    },
    {
     "name": "stdout",
     "output_type": "stream",
     "text": [
      "\t\tEpoch [74/100], Validation Loss: 0.6929\n",
      "\n",
      "\n",
      "Epoch -> 75\n"
     ]
    },
    {
     "name": "stderr",
     "output_type": "stream",
     "text": [
      "Epoch 75/100: 100%|██████████| 469/469 [25:47<00:00,  3.30s/batch]\n"
     ]
    },
    {
     "name": "stdout",
     "output_type": "stream",
     "text": [
      "\t\tEpoch [76/100], training Loss: 0.6420\n"
     ]
    },
    {
     "name": "stderr",
     "output_type": "stream",
     "text": [
      "Validation Epoch 75/100: 100%|██████████| 118/118 [04:14<00:00,  2.16s/batch]\n"
     ]
    },
    {
     "name": "stdout",
     "output_type": "stream",
     "text": [
      "\t\tEpoch [75/100], Validation Loss: 0.6938\n",
      "\n",
      "\n",
      "Epoch -> 76\n"
     ]
    },
    {
     "name": "stderr",
     "output_type": "stream",
     "text": [
      "Epoch 76/100: 100%|██████████| 469/469 [25:57<00:00,  3.32s/batch]\n"
     ]
    },
    {
     "name": "stdout",
     "output_type": "stream",
     "text": [
      "\t\tEpoch [77/100], training Loss: 0.6393\n"
     ]
    },
    {
     "name": "stderr",
     "output_type": "stream",
     "text": [
      "Validation Epoch 76/100: 100%|██████████| 118/118 [06:28<00:00,  3.29s/batch]\n"
     ]
    },
    {
     "name": "stdout",
     "output_type": "stream",
     "text": [
      "\t\tEpoch [76/100], Validation Loss: 0.6940\n",
      "\n",
      "\n",
      "Epoch -> 77\n"
     ]
    },
    {
     "name": "stderr",
     "output_type": "stream",
     "text": [
      "Epoch 77/100: 100%|██████████| 469/469 [34:27<00:00,  4.41s/batch]\n"
     ]
    },
    {
     "name": "stdout",
     "output_type": "stream",
     "text": [
      "\t\tEpoch [78/100], training Loss: 0.6351\n"
     ]
    },
    {
     "name": "stderr",
     "output_type": "stream",
     "text": [
      "Validation Epoch 77/100: 100%|██████████| 118/118 [05:47<00:00,  2.94s/batch]\n"
     ]
    },
    {
     "name": "stdout",
     "output_type": "stream",
     "text": [
      "\t\tEpoch [77/100], Validation Loss: 0.6887\n",
      "\n",
      "\n",
      "Epoch -> 78\n"
     ]
    },
    {
     "name": "stderr",
     "output_type": "stream",
     "text": [
      "Epoch 78/100: 100%|██████████| 469/469 [29:07<00:00,  3.73s/batch]\n"
     ]
    },
    {
     "name": "stdout",
     "output_type": "stream",
     "text": [
      "\t\tEpoch [79/100], training Loss: 0.6318\n"
     ]
    },
    {
     "name": "stderr",
     "output_type": "stream",
     "text": [
      "Validation Epoch 78/100: 100%|██████████| 118/118 [06:37<00:00,  3.37s/batch]\n"
     ]
    },
    {
     "name": "stdout",
     "output_type": "stream",
     "text": [
      "\t\tEpoch [78/100], Validation Loss: 0.6871\n",
      "\n",
      "\n",
      "Epoch -> 79\n"
     ]
    },
    {
     "name": "stderr",
     "output_type": "stream",
     "text": [
      "Epoch 79/100: 100%|██████████| 469/469 [31:06<00:00,  3.98s/batch]\n"
     ]
    },
    {
     "name": "stdout",
     "output_type": "stream",
     "text": [
      "\t\tEpoch [80/100], training Loss: 0.6320\n"
     ]
    },
    {
     "name": "stderr",
     "output_type": "stream",
     "text": [
      "Validation Epoch 79/100: 100%|██████████| 118/118 [04:12<00:00,  2.14s/batch]\n"
     ]
    },
    {
     "name": "stdout",
     "output_type": "stream",
     "text": [
      "\t\tEpoch [79/100], Validation Loss: 0.6950\n",
      "\n",
      "\n",
      "Epoch -> 80\n"
     ]
    },
    {
     "name": "stderr",
     "output_type": "stream",
     "text": [
      "Epoch 80/100: 100%|██████████| 469/469 [31:00<00:00,  3.97s/batch]\n"
     ]
    },
    {
     "name": "stdout",
     "output_type": "stream",
     "text": [
      "\t\tEpoch [81/100], training Loss: 0.6275\n"
     ]
    },
    {
     "name": "stderr",
     "output_type": "stream",
     "text": [
      "Validation Epoch 80/100: 100%|██████████| 118/118 [04:11<00:00,  2.13s/batch]\n"
     ]
    },
    {
     "name": "stdout",
     "output_type": "stream",
     "text": [
      "\t\tEpoch [80/100], Validation Loss: 0.6896\n",
      "\n",
      "\n",
      "Epoch -> 81\n"
     ]
    },
    {
     "name": "stderr",
     "output_type": "stream",
     "text": [
      "Epoch 81/100: 100%|██████████| 469/469 [25:29<00:00,  3.26s/batch]\n"
     ]
    },
    {
     "name": "stdout",
     "output_type": "stream",
     "text": [
      "\t\tEpoch [82/100], training Loss: 0.6253\n"
     ]
    },
    {
     "name": "stderr",
     "output_type": "stream",
     "text": [
      "Validation Epoch 81/100: 100%|██████████| 118/118 [04:22<00:00,  2.23s/batch]\n"
     ]
    },
    {
     "name": "stdout",
     "output_type": "stream",
     "text": [
      "\t\tEpoch [81/100], Validation Loss: 0.6891\n",
      "\n",
      "\n",
      "Epoch -> 82\n"
     ]
    },
    {
     "name": "stderr",
     "output_type": "stream",
     "text": [
      "Epoch 82/100: 100%|██████████| 469/469 [25:45<00:00,  3.29s/batch]\n"
     ]
    },
    {
     "name": "stdout",
     "output_type": "stream",
     "text": [
      "\t\tEpoch [83/100], training Loss: 0.6220\n"
     ]
    },
    {
     "name": "stderr",
     "output_type": "stream",
     "text": [
      "Validation Epoch 82/100: 100%|██████████| 118/118 [04:12<00:00,  2.14s/batch]\n"
     ]
    },
    {
     "name": "stdout",
     "output_type": "stream",
     "text": [
      "\t\tEpoch [82/100], Validation Loss: 0.6835\n",
      "\n",
      "\n",
      "Epoch -> 83\n"
     ]
    },
    {
     "name": "stderr",
     "output_type": "stream",
     "text": [
      "Epoch 83/100: 100%|██████████| 469/469 [25:59<00:00,  3.33s/batch]\n"
     ]
    },
    {
     "name": "stdout",
     "output_type": "stream",
     "text": [
      "\t\tEpoch [84/100], training Loss: 0.6204\n"
     ]
    },
    {
     "name": "stderr",
     "output_type": "stream",
     "text": [
      "Validation Epoch 83/100: 100%|██████████| 118/118 [06:06<00:00,  3.10s/batch]\n"
     ]
    },
    {
     "name": "stdout",
     "output_type": "stream",
     "text": [
      "\t\tEpoch [83/100], Validation Loss: 0.6838\n",
      "\n",
      "\n",
      "Epoch -> 84\n"
     ]
    },
    {
     "name": "stderr",
     "output_type": "stream",
     "text": [
      "Epoch 84/100: 100%|██████████| 469/469 [26:59<00:00,  3.45s/batch]\n"
     ]
    },
    {
     "name": "stdout",
     "output_type": "stream",
     "text": [
      "\t\tEpoch [85/100], training Loss: 0.6169\n"
     ]
    },
    {
     "name": "stderr",
     "output_type": "stream",
     "text": [
      "Validation Epoch 84/100: 100%|██████████| 118/118 [04:18<00:00,  2.19s/batch]\n"
     ]
    },
    {
     "name": "stdout",
     "output_type": "stream",
     "text": [
      "\t\tEpoch [84/100], Validation Loss: 0.6850\n",
      "\n",
      "\n",
      "Epoch -> 85\n"
     ]
    },
    {
     "name": "stderr",
     "output_type": "stream",
     "text": [
      "Epoch 85/100: 100%|██████████| 469/469 [25:47<00:00,  3.30s/batch]\n"
     ]
    },
    {
     "name": "stdout",
     "output_type": "stream",
     "text": [
      "\t\tEpoch [86/100], training Loss: 0.6180\n"
     ]
    },
    {
     "name": "stderr",
     "output_type": "stream",
     "text": [
      "Validation Epoch 85/100: 100%|██████████| 118/118 [04:26<00:00,  2.26s/batch]\n"
     ]
    },
    {
     "name": "stdout",
     "output_type": "stream",
     "text": [
      "\t\tEpoch [85/100], Validation Loss: 0.6848\n",
      "\n",
      "\n",
      "Epoch -> 86\n"
     ]
    },
    {
     "name": "stderr",
     "output_type": "stream",
     "text": [
      "Epoch 86/100: 100%|██████████| 469/469 [26:24<00:00,  3.38s/batch]\n"
     ]
    },
    {
     "name": "stdout",
     "output_type": "stream",
     "text": [
      "\t\tEpoch [87/100], training Loss: 0.6138\n"
     ]
    },
    {
     "name": "stderr",
     "output_type": "stream",
     "text": [
      "Validation Epoch 86/100: 100%|██████████| 118/118 [04:13<00:00,  2.15s/batch]\n"
     ]
    },
    {
     "name": "stdout",
     "output_type": "stream",
     "text": [
      "\t\tEpoch [86/100], Validation Loss: 0.6845\n",
      "\n",
      "\n",
      "Epoch -> 87\n"
     ]
    },
    {
     "name": "stderr",
     "output_type": "stream",
     "text": [
      "Epoch 87/100: 100%|██████████| 469/469 [24:57<00:00,  3.19s/batch]\n"
     ]
    },
    {
     "name": "stdout",
     "output_type": "stream",
     "text": [
      "\t\tEpoch [88/100], training Loss: 0.6098\n"
     ]
    },
    {
     "name": "stderr",
     "output_type": "stream",
     "text": [
      "Validation Epoch 87/100: 100%|██████████| 118/118 [04:12<00:00,  2.14s/batch]\n"
     ]
    },
    {
     "name": "stdout",
     "output_type": "stream",
     "text": [
      "\t\tEpoch [87/100], Validation Loss: 0.6862\n",
      "\n",
      "\n",
      "Epoch -> 88\n"
     ]
    },
    {
     "name": "stderr",
     "output_type": "stream",
     "text": [
      "Epoch 88/100: 100%|██████████| 469/469 [31:41<00:00,  4.05s/batch]\n"
     ]
    },
    {
     "name": "stdout",
     "output_type": "stream",
     "text": [
      "\t\tEpoch [89/100], training Loss: 0.6080\n"
     ]
    },
    {
     "name": "stderr",
     "output_type": "stream",
     "text": [
      "Validation Epoch 88/100: 100%|██████████| 118/118 [06:27<00:00,  3.28s/batch]\n"
     ]
    },
    {
     "name": "stdout",
     "output_type": "stream",
     "text": [
      "\t\tEpoch [88/100], Validation Loss: 0.6806\n",
      "\n",
      "\n",
      "Epoch -> 89\n"
     ]
    },
    {
     "name": "stderr",
     "output_type": "stream",
     "text": [
      "Epoch 89/100: 100%|██████████| 469/469 [32:28<00:00,  4.16s/batch]\n"
     ]
    },
    {
     "name": "stdout",
     "output_type": "stream",
     "text": [
      "\t\tEpoch [90/100], training Loss: 0.6068\n"
     ]
    },
    {
     "name": "stderr",
     "output_type": "stream",
     "text": [
      "Validation Epoch 89/100: 100%|██████████| 118/118 [04:12<00:00,  2.14s/batch]\n"
     ]
    },
    {
     "name": "stdout",
     "output_type": "stream",
     "text": [
      "\t\tEpoch [89/100], Validation Loss: 0.6816\n",
      "\n",
      "\n",
      "Epoch -> 90\n"
     ]
    },
    {
     "name": "stderr",
     "output_type": "stream",
     "text": [
      "Epoch 90/100: 100%|██████████| 469/469 [32:15<00:00,  4.13s/batch]\n"
     ]
    },
    {
     "name": "stdout",
     "output_type": "stream",
     "text": [
      "\t\tEpoch [91/100], training Loss: 0.6036\n"
     ]
    },
    {
     "name": "stderr",
     "output_type": "stream",
     "text": [
      "Validation Epoch 90/100: 100%|██████████| 118/118 [06:26<00:00,  3.28s/batch]\n"
     ]
    },
    {
     "name": "stdout",
     "output_type": "stream",
     "text": [
      "\t\tEpoch [90/100], Validation Loss: 0.6798\n",
      "\n",
      "\n",
      "Epoch -> 91\n"
     ]
    },
    {
     "name": "stderr",
     "output_type": "stream",
     "text": [
      "Epoch 91/100: 100%|██████████| 469/469 [31:14<00:00,  4.00s/batch]\n"
     ]
    },
    {
     "name": "stdout",
     "output_type": "stream",
     "text": [
      "\t\tEpoch [92/100], training Loss: 0.5998\n"
     ]
    },
    {
     "name": "stderr",
     "output_type": "stream",
     "text": [
      "Validation Epoch 91/100: 100%|██████████| 118/118 [04:11<00:00,  2.14s/batch]\n"
     ]
    },
    {
     "name": "stdout",
     "output_type": "stream",
     "text": [
      "\t\tEpoch [91/100], Validation Loss: 0.6805\n",
      "\n",
      "\n",
      "Epoch -> 92\n"
     ]
    },
    {
     "name": "stderr",
     "output_type": "stream",
     "text": [
      "Epoch 92/100: 100%|██████████| 469/469 [29:07<00:00,  3.73s/batch]\n"
     ]
    },
    {
     "name": "stdout",
     "output_type": "stream",
     "text": [
      "\t\tEpoch [93/100], training Loss: 0.5978\n"
     ]
    },
    {
     "name": "stderr",
     "output_type": "stream",
     "text": [
      "Validation Epoch 92/100: 100%|██████████| 118/118 [04:13<00:00,  2.15s/batch]\n"
     ]
    },
    {
     "name": "stdout",
     "output_type": "stream",
     "text": [
      "\t\tEpoch [92/100], Validation Loss: 0.6801\n",
      "\n",
      "\n",
      "Epoch -> 93\n"
     ]
    },
    {
     "name": "stderr",
     "output_type": "stream",
     "text": [
      "Epoch 93/100: 100%|██████████| 469/469 [25:43<00:00,  3.29s/batch]\n"
     ]
    },
    {
     "name": "stdout",
     "output_type": "stream",
     "text": [
      "\t\tEpoch [94/100], training Loss: 0.5968\n"
     ]
    },
    {
     "name": "stderr",
     "output_type": "stream",
     "text": [
      "Validation Epoch 93/100: 100%|██████████| 118/118 [04:12<00:00,  2.14s/batch]\n"
     ]
    },
    {
     "name": "stdout",
     "output_type": "stream",
     "text": [
      "\t\tEpoch [93/100], Validation Loss: 0.6788\n",
      "\n",
      "\n",
      "Epoch -> 94\n"
     ]
    },
    {
     "name": "stderr",
     "output_type": "stream",
     "text": [
      "Epoch 94/100: 100%|██████████| 469/469 [24:53<00:00,  3.18s/batch]\n"
     ]
    },
    {
     "name": "stdout",
     "output_type": "stream",
     "text": [
      "\t\tEpoch [95/100], training Loss: 0.5958\n"
     ]
    },
    {
     "name": "stderr",
     "output_type": "stream",
     "text": [
      "Validation Epoch 94/100: 100%|██████████| 118/118 [04:12<00:00,  2.14s/batch]\n"
     ]
    },
    {
     "name": "stdout",
     "output_type": "stream",
     "text": [
      "\t\tEpoch [94/100], Validation Loss: 0.6824\n",
      "\n",
      "\n",
      "Epoch -> 95\n"
     ]
    },
    {
     "name": "stderr",
     "output_type": "stream",
     "text": [
      "Epoch 95/100: 100%|██████████| 469/469 [32:07<00:00,  4.11s/batch]\n"
     ]
    },
    {
     "name": "stdout",
     "output_type": "stream",
     "text": [
      "\t\tEpoch [96/100], training Loss: 0.5921\n"
     ]
    },
    {
     "name": "stderr",
     "output_type": "stream",
     "text": [
      "Validation Epoch 95/100: 100%|██████████| 118/118 [06:26<00:00,  3.28s/batch]\n"
     ]
    },
    {
     "name": "stdout",
     "output_type": "stream",
     "text": [
      "\t\tEpoch [95/100], Validation Loss: 0.6804\n",
      "\n",
      "\n",
      "Epoch -> 96\n"
     ]
    },
    {
     "name": "stderr",
     "output_type": "stream",
     "text": [
      "Epoch 96/100: 100%|██████████| 469/469 [32:03<00:00,  4.10s/batch]\n"
     ]
    },
    {
     "name": "stdout",
     "output_type": "stream",
     "text": [
      "\t\tEpoch [97/100], training Loss: 0.5900\n"
     ]
    },
    {
     "name": "stderr",
     "output_type": "stream",
     "text": [
      "Validation Epoch 96/100: 100%|██████████| 118/118 [04:11<00:00,  2.13s/batch]\n"
     ]
    },
    {
     "name": "stdout",
     "output_type": "stream",
     "text": [
      "\t\tEpoch [96/100], Validation Loss: 0.6831\n",
      "\n",
      "\n",
      "Epoch -> 97\n"
     ]
    },
    {
     "name": "stderr",
     "output_type": "stream",
     "text": [
      "Epoch 97/100: 100%|██████████| 469/469 [24:55<00:00,  3.19s/batch]\n"
     ]
    },
    {
     "name": "stdout",
     "output_type": "stream",
     "text": [
      "\t\tEpoch [98/100], training Loss: 0.5883\n"
     ]
    },
    {
     "name": "stderr",
     "output_type": "stream",
     "text": [
      "Validation Epoch 97/100: 100%|██████████| 118/118 [04:12<00:00,  2.14s/batch]\n"
     ]
    },
    {
     "name": "stdout",
     "output_type": "stream",
     "text": [
      "\t\tEpoch [97/100], Validation Loss: 0.6759\n",
      "\n",
      "\n",
      "Epoch -> 98\n"
     ]
    },
    {
     "name": "stderr",
     "output_type": "stream",
     "text": [
      "Epoch 98/100: 100%|██████████| 469/469 [27:39<00:00,  3.54s/batch]\n"
     ]
    },
    {
     "name": "stdout",
     "output_type": "stream",
     "text": [
      "\t\tEpoch [99/100], training Loss: 0.5866\n"
     ]
    },
    {
     "name": "stderr",
     "output_type": "stream",
     "text": [
      "Validation Epoch 98/100: 100%|██████████| 118/118 [04:11<00:00,  2.13s/batch]\n"
     ]
    },
    {
     "name": "stdout",
     "output_type": "stream",
     "text": [
      "\t\tEpoch [98/100], Validation Loss: 0.6758\n",
      "\n",
      "\n",
      "Epoch -> 99\n"
     ]
    },
    {
     "name": "stderr",
     "output_type": "stream",
     "text": [
      "Epoch 99/100: 100%|██████████| 469/469 [24:53<00:00,  3.18s/batch]\n"
     ]
    },
    {
     "name": "stdout",
     "output_type": "stream",
     "text": [
      "\t\tEpoch [100/100], training Loss: 0.5851\n"
     ]
    },
    {
     "name": "stderr",
     "output_type": "stream",
     "text": [
      "Validation Epoch 99/100: 100%|██████████| 118/118 [04:12<00:00,  2.14s/batch]\n"
     ]
    },
    {
     "name": "stdout",
     "output_type": "stream",
     "text": [
      "\t\tEpoch [99/100], Validation Loss: 0.6784\n",
      "\n",
      "\n",
      "Epoch -> 100\n"
     ]
    },
    {
     "name": "stderr",
     "output_type": "stream",
     "text": [
      "Epoch 100/100: 100%|██████████| 469/469 [28:58<00:00,  3.71s/batch]\n"
     ]
    },
    {
     "name": "stdout",
     "output_type": "stream",
     "text": [
      "\t\tEpoch [101/100], training Loss: 0.5825\n"
     ]
    },
    {
     "name": "stderr",
     "output_type": "stream",
     "text": [
      "Validation Epoch 100/100: 100%|██████████| 118/118 [04:15<00:00,  2.17s/batch]\n"
     ]
    },
    {
     "name": "stdout",
     "output_type": "stream",
     "text": [
      "\t\tEpoch [100/100], Validation Loss: 0.6771\n",
      "\n",
      "\n"
     ]
    }
   ],
   "source": [
    "best_val_loss = float('inf')\n",
    "total_epochs = 100\n",
    "\n",
    "for epoch in range(current_epoch, total_epochs + 1):\n",
    "    print(f\"Epoch -> {epoch}\")\n",
    "    total_loss = 0\n",
    "    train_data_loader = DataLoader(train_dataset, batch_size=batch_size, shuffle=True, pin_memory=True)\n",
    "    train_data_iterator = iter(train_data_loader)\n",
    "\n",
    "    for batch_num, batch in enumerate(tqdm(train_data_iterator, desc=f'Epoch {epoch}/{total_epochs}', unit='batch')):\n",
    "        model.train()\n",
    "        en_batch, hi_batch = batch\n",
    "        en_batch = en_batch.to(device)\n",
    "        hi_batch = hi_batch.to(device)\n",
    "\n",
    "        ds_mask, es_mask, edc_mask = get_masks(dataset, en_batch, hi_batch)\n",
    "        ds_mask, es_mask, edc_mask = ds_mask.to(device), es_mask.to(device), edc_mask.to(device)\n",
    "\n",
    "        optim.zero_grad()\n",
    "\n",
    "        en_batch_embedded, hi_batch_embedded = embeddings(en_batch, hi_batch)\n",
    "        en_batch_embedded, hi_batch_embedded = en_batch_embedded.to(device), hi_batch_embedded.to(device)\n",
    "        hi_prediction = model(en_batch_embedded, hi_batch_embedded, ds_mask, es_mask, edc_mask)\n",
    "\n",
    "        # Prepare labels\n",
    "        labels_untoken = [dataset.untokenize(hi_batch[index], dataset.index_to_hindi) for index in range(len(hi_batch))]\n",
    "        labels = [dataset.tokenize(labels_untoken[index], dataset.hindi_to_index, start_token=False, end_token=True) for index in range(len(hi_batch))]\n",
    "        labels = torch.stack(labels).to(device)\n",
    "\n",
    "        # Calculate loss\n",
    "        loss = criterian(\n",
    "            hi_prediction.view(-1, hi_vocab_size),\n",
    "            labels.view(-1)\n",
    "        )\n",
    "\n",
    "        # Mask padding tokens\n",
    "        valid_indices = (labels.view(-1) != dataset.hindi_to_index[dataset.PADDING_TOKEN])\n",
    "        loss = loss[valid_indices].mean()  # Calculate the mean loss over valid indices\n",
    "\n",
    "        total_loss += loss.item()\n",
    "\n",
    "        loss.backward()\n",
    "        \n",
    "        # Gradient clipping\n",
    "        torch.nn.utils.clip_grad_norm_(model.parameters(), max_norm=1.0)\n",
    "\n",
    "        optim.step()\n",
    "\n",
    "        # Log loss periodically\n",
    "        if batch_num % 300 == 0:\n",
    "            writer.add_scalar('Loss/Batch', loss.item(), epoch * len(train_data_iterator) + batch_num)\n",
    "    \n",
    "    avg_loss = total_loss / (batch_num + 1)\n",
    "    writer.add_scalar('Loss/Epoch', avg_loss, epoch)\n",
    "    print(f\"\\t\\tEpoch [{epoch + 1}/{total_epochs}], training Loss: {avg_loss:.4f}\")\n",
    " \n",
    "    # Validation Loop\n",
    "    model.eval()\n",
    "    val_loss = 0\n",
    "    val_data_loader = DataLoader(val_dataset, batch_size=batch_size,shuffle=False, pin_memory=True)\n",
    "    val_data_iterator = iter(val_data_loader)\n",
    "    with torch.no_grad():\n",
    "        for val_batch_num, val_batch in enumerate(tqdm(val_data_iterator, desc=f'Validation Epoch {epoch }/{total_epochs}', unit='batch')):\n",
    "            en_val_batch, hi_val_batch = val_batch\n",
    "            en_val_batch = en_val_batch.to(device)\n",
    "            hi_val_batch = hi_val_batch.to(device)\n",
    "            \n",
    "            ds_val_mask, es_val_mask, edc_val_mask = get_masks(dataset, en_val_batch, hi_val_batch)\n",
    "            ds_val_mask, es_val_mask, edc_val_mask = ds_val_mask.to(device), es_val_mask.to(device), edc_val_mask.to(device)\n",
    "            \n",
    "            en_val_embedded, hi_val_embedded = embeddings(en_val_batch, hi_val_batch)\n",
    "            en_val_embedded, hi_val_embedded = en_val_embedded.to(device), hi_val_embedded.to(device)\n",
    "            \n",
    "            hi_val_prediction = model(en_val_embedded, hi_val_embedded, ds_val_mask, es_val_mask, edc_val_mask)\n",
    "            \n",
    "            val_labels = [dataset.untokenize(hi_val_batch[index], dataset.index_to_hindi) for index in range(len(hi_val_batch))]\n",
    "            val_labels = [dataset.tokenize(val_labels[index], dataset.hindi_to_index, start_token=False, end_token=True) for index in range(len(hi_val_batch))]\n",
    "            val_labels = torch.stack(val_labels) \n",
    "            \n",
    "            val_loss_batch = criterian(\n",
    "                hi_val_prediction.view(-1, hi_vocab_size).to(device),\n",
    "                val_labels.view(-1).to(device)\n",
    "            ).to(device)\n",
    "            \n",
    "            valid_val_indices = torch.where(val_labels.view(-1) == dataset.hindi_to_index[dataset.PADDING_TOKEN], False, True)\n",
    "            val_loss_batch = val_loss_batch.sum() / valid_val_indices.sum()\n",
    "            \n",
    "            val_loss += val_loss_batch.item()\n",
    "    \n",
    "    avg_val_loss = val_loss / (val_batch_num + 1)  # Average validation loss for the epoch\n",
    "    writer.add_scalar('Loss/Validation_Epoch', avg_val_loss, epoch)\n",
    "\n",
    "\n",
    "    ####### Print Epoch Losses #######\n",
    "    print(f\"\\t\\tEpoch [{epoch}/{total_epochs}], Validation Loss: {avg_val_loss:.4f}\")\n",
    "    \n",
    "    print('\\n')\n",
    "    # Save Model\n",
    "    model_save_file = os.path.join(model_save_path, f\"model_epoch_{epoch }.pt\")\n",
    "    torch.save(model.state_dict(), model_save_file)\n",
    "\n",
    "writer.close()"
   ]
  },
  {
   "cell_type": "markdown",
   "metadata": {},
   "source": [
    "##### Evaluation\n"
   ]
  },
  {
   "cell_type": "code",
   "execution_count": 9,
   "metadata": {},
   "outputs": [],
   "source": [
    "def translate(en_sentence):\n",
    "    model.eval()\n",
    "    en_sentence = (en_sentence,)\n",
    "    hi_sentence = (\"\",)\n",
    "\n",
    "    en_token = dataset.tokenize(en_sentence[0], dataset.english_to_index, start_token=False, end_token=False).unsqueeze(0).to(device)\n",
    "    hi_token = dataset.tokenize(hi_sentence[0], dataset.hindi_to_index, start_token=True, end_token=False).unsqueeze(0).to(device)\n",
    "    \n",
    "    for word_counter in range(dataset.max_sequence_length):\n",
    "        # print(f\"Processing for {word_counter + 1} token\")\n",
    "    \n",
    "        ds_mask, es_mask, edc_mask = get_masks(dataset, en_token, hi_token)\n",
    "        ds_mask, es_mask, edc_mask = ds_mask.to(device), es_mask.to(device), edc_mask.to(device)\n",
    "        \n",
    "        en_embedded, hi_embedded = embeddings(en_token, hi_token)\n",
    "        en_embedded, hi_embedded =  en_embedded.to(device), hi_embedded.to(device)\n",
    "        \n",
    "        predictions = model(en_embedded,\n",
    "                            hi_embedded,\n",
    "                            ds_mask, es_mask, edc_mask)\n",
    "        next_token_prob_distribution = predictions[0][word_counter]\n",
    "        next_token_index = torch.argmax(next_token_prob_distribution).item()\n",
    "        next_token = dataset.index_to_hindi[next_token_index]\n",
    "        \n",
    "        if next_token == dataset.END_TOKEN:\n",
    "            break\n",
    "        hi_sentence = (hi_sentence[0] + next_token, )\n",
    "        hi_token = dataset.tokenize(hi_sentence[0], dataset.hindi_to_index, start_token=True, end_token=False).unsqueeze(0).to(device)\n",
    "        # print(f\"\\t\\t\\t Predicted till now: {hi_sentence[0]}\")\n",
    "    \n",
    "    return hi_sentence[0]\n",
    "    "
   ]
  },
  {
   "cell_type": "code",
   "execution_count": 10,
   "metadata": {},
   "outputs": [],
   "source": [
    "en = dataset.untokenize(dataset[0][0], dataset.index_to_english)\n",
    "hi = dataset.untokenize(dataset[0][1], dataset.index_to_hindi)\n",
    "translation = translate(en)\n"
   ]
  },
  {
   "cell_type": "code",
   "execution_count": 11,
   "metadata": {},
   "outputs": [
    {
     "name": "stdout",
     "output_type": "stream",
     "text": [
      "en sentence : In reply, Pakistan got off to a solid start.\n",
      "actual translation : जिसके जवाब में पाक ने अच्छी शुरुआत की थी.\n",
      "predicted translation : जवाब में पाकिस्तान ने एक ठोस शुरुआत की है।\n"
     ]
    }
   ],
   "source": [
    "print(f\"en sentence : {en}\")\n",
    "print(f\"actual translation : {hi}\")\n",
    "print(f\"predicted translation : {translation}\")"
   ]
  },
  {
   "cell_type": "code",
   "execution_count": 12,
   "metadata": {},
   "outputs": [],
   "source": [
    "line1 = \"Hello, How are you?\"\n",
    "line2 = \"This is a beautiful day to go out.\"\n",
    "line3 = \"India is situated on the right side of pakistan\"\n",
    "lines = [line1, line2, line3]"
   ]
  },
  {
   "cell_type": "code",
   "execution_count": 13,
   "metadata": {},
   "outputs": [],
   "source": [
    "translations = []\n",
    "for line in lines:\n",
    "    translations.append(translate(line))"
   ]
  },
  {
   "cell_type": "code",
   "execution_count": 14,
   "metadata": {},
   "outputs": [
    {
     "name": "stdout",
     "output_type": "stream",
     "text": [
      "Hello, How are you? -> हैलो, तुम कैसे हो?\n",
      "This is a beautiful day to go out. -> यह दिन बाहर जाने का बहुत खूबसूरत है।\n",
      "India is situated on the right side of pakistan -> भारत पाकिस्तान के दाहिने तरफ से स्थित है।\n"
     ]
    }
   ],
   "source": [
    "for index, (en, hi) in enumerate(zip(lines, translations)):\n",
    "    print(f\"{en} -> {hi}\")"
   ]
  },
  {
   "cell_type": "markdown",
   "metadata": {},
   "source": [
    "#### Save dictionaries"
   ]
  },
  {
   "cell_type": "code",
   "execution_count": 15,
   "metadata": {},
   "outputs": [],
   "source": [
    "import json\n",
    "\n",
    "dict = {\n",
    "    'en_vocab' : dataset.en_vocab,\n",
    "    'hi_vocab' : dataset.hi_vocab,\n",
    "\n",
    "    'en_to_index' : dataset.english_to_index,\n",
    "    'index_to_en' : dataset.index_to_english,\n",
    "\n",
    "    'hi_to_index' : dataset.hindi_to_index,\n",
    "    'index_to_hi' : dataset.index_to_hindi,\n",
    "\n",
    "}\n",
    "\n",
    "\n",
    "# Save to a pickle file\n",
    "with open('dicts.json', 'w') as f:\n",
    "    json.dump(dict, f)\n"
   ]
  },
  {
   "cell_type": "code",
   "execution_count": null,
   "metadata": {},
   "outputs": [],
   "source": []
  }
 ],
 "metadata": {
  "kernelspec": {
   "display_name": "attention",
   "language": "python",
   "name": "python3"
  },
  "language_info": {
   "codemirror_mode": {
    "name": "ipython",
    "version": 3
   },
   "file_extension": ".py",
   "mimetype": "text/x-python",
   "name": "python",
   "nbconvert_exporter": "python",
   "pygments_lexer": "ipython3",
   "version": "3.7.12"
  }
 },
 "nbformat": 4,
 "nbformat_minor": 2
}
