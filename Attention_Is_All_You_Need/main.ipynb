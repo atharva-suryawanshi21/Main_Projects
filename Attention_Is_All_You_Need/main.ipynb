{
 "cells": [
  {
   "cell_type": "markdown",
   "metadata": {},
   "source": [
    "### Relevant Imports\n"
   ]
  },
  {
   "cell_type": "code",
   "execution_count": 1,
   "metadata": {},
   "outputs": [],
   "source": [
    "import torch \n",
    "import torch.nn as nn\n",
    "import torch.optim as optim\n",
    "from torch.utils.data import DataLoader, random_split\n",
    "\n",
    "import os\n",
    "import numpy as np\n",
    "import matplotlib.pyplot as plt\n",
    "from tqdm import tqdm\n",
    "from torch.utils.tensorboard import SummaryWriter\n",
    "writer = SummaryWriter(log_dir = 'logs')\n",
    "import re\n",
    "\n",
    "from structure.transformer import Transformer\n",
    "from structure.Dataset import English_Hindi_Dataset\n",
    "\n",
    "from sub_modules.embedding import Language_Embedding\n",
    "from sub_modules.masks import get_masks"
   ]
  },
  {
   "cell_type": "markdown",
   "metadata": {},
   "source": [
    "### Initializations\n"
   ]
  },
  {
   "cell_type": "code",
   "execution_count": 2,
   "metadata": {},
   "outputs": [],
   "source": [
    "# Read data\n",
    "read_max = 2_00_000 ######\n",
    "\n",
    "# basics\n",
    "batch_size = 256\n",
    "sequence_length = 200\n",
    "d_model = 512\n",
    "num_of_sentences = 1_00_000\n",
    "# transfomer\n",
    "num_encoder_decoder_layers = 1\n",
    "num_heads = 8\n",
    "hidden_layers = 2048\n",
    "num_encoder_decoder_layers = 1\n",
    "dropout_ff = 0.1\n",
    "dropout_attn = 0.1\n"
   ]
  },
  {
   "cell_type": "markdown",
   "metadata": {},
   "source": [
    "### Dataset\n"
   ]
  },
  {
   "cell_type": "code",
   "execution_count": 3,
   "metadata": {},
   "outputs": [
    {
     "name": "stdout",
     "output_type": "stream",
     "text": [
      "Total unique characters: English-> 97 Hindi-> 174\n",
      "\tDataset Cleaned\n",
      "\tDataset Tokenized and Pading is Done\n"
     ]
    }
   ],
   "source": [
    "dataset = English_Hindi_Dataset('Dataset/train.en/train.en', \n",
    "                                    'Dataset/train.hi/train.hi',\n",
    "                                    num_of_sentences = num_of_sentences,\n",
    "                                    max_sequence_length = sequence_length,\n",
    "                                    read_max = read_max)\n",
    "\n",
    "en_vocab_size = len(set(dataset.en_vocab))\n",
    "hi_vocab_size = len(set(dataset.hi_vocab))\n"
   ]
  },
  {
   "cell_type": "markdown",
   "metadata": {},
   "source": [
    "### Embeddings\n"
   ]
  },
  {
   "cell_type": "code",
   "execution_count": 4,
   "metadata": {},
   "outputs": [],
   "source": [
    "# embeddings\n",
    "embeddings = Language_Embedding(en_vocab_size, hi_vocab_size, d_model)"
   ]
  },
  {
   "cell_type": "markdown",
   "metadata": {},
   "source": [
    "### Data Loader\n"
   ]
  },
  {
   "cell_type": "code",
   "execution_count": 5,
   "metadata": {},
   "outputs": [],
   "source": [
    "dataset_size = len(dataset)\n",
    "train_size = int(0.8 * dataset_size)\n",
    "val_size = dataset_size - int(0.8 * dataset_size)\n",
    "\n",
    "train_dataset, val_dataset = random_split(dataset, [train_size,val_size])\n",
    "\n",
    "train_data_loader = DataLoader(train_dataset, batch_size=batch_size,shuffle=True, pin_memory=True)\n",
    "val_data_loader = DataLoader(val_dataset, batch_size=batch_size,shuffle=False, pin_memory=True)"
   ]
  },
  {
   "cell_type": "markdown",
   "metadata": {},
   "source": [
    "### Model Initializations\n"
   ]
  },
  {
   "cell_type": "code",
   "execution_count": 6,
   "metadata": {},
   "outputs": [
    {
     "name": "stdout",
     "output_type": "stream",
     "text": [
      " Using: cuda\n"
     ]
    }
   ],
   "source": [
    "# GPU for training\n",
    "device = torch.device('cuda') if torch.cuda.is_available() else torch.device('cpu')\n",
    "print(f\" Using: {device}\")\n",
    "\n",
    "model = Transformer(\n",
    "    num_encoder_decoder_layers=num_encoder_decoder_layers,\n",
    "    d_model=d_model,\n",
    "    sequence_length=sequence_length,\n",
    "    hidden_layers=hidden_layers,\n",
    "    num_heads=num_heads,\n",
    "    hi_voab_size=hi_vocab_size,\n",
    "    dropout_ff=dropout_ff,\n",
    "    dropout_attn=dropout_attn\n",
    ").to(device)\n",
    "\n",
    "\n",
    "# Loss\n",
    "criterian = nn.CrossEntropyLoss(ignore_index= dataset.hindi_to_index[dataset.PADDING_TOKEN], reduction ='none')\n",
    "\n",
    "# Parameter Initialization\n",
    "for param in model.parameters():\n",
    "    if param.dim()>1:\n",
    "        nn.init.xavier_uniform_(param)\n",
    "        \n",
    "# optimizer \n",
    "optim = torch.optim.Adam(model.parameters(), lr= 1e-4)\n"
   ]
  },
  {
   "cell_type": "markdown",
   "metadata": {},
   "source": [
    "### Training\n"
   ]
  },
  {
   "cell_type": "code",
   "execution_count": 7,
   "metadata": {},
   "outputs": [
    {
     "name": "stdout",
     "output_type": "stream",
     "text": [
      "Loading model from saved_models\\model_epoch_1.pt\n"
     ]
    },
    {
     "name": "stderr",
     "output_type": "stream",
     "text": [
      "C:\\Users\\Atharva\\AppData\\Local\\Temp\\ipykernel_44484\\827564847.py:20: FutureWarning: You are using `torch.load` with `weights_only=False` (the current default value), which uses the default pickle module implicitly. It is possible to construct malicious pickle data which will execute arbitrary code during unpickling (See https://github.com/pytorch/pytorch/blob/main/SECURITY.md#untrusted-models for more details). In a future release, the default value for `weights_only` will be flipped to `True`. This limits the functions that could be executed during unpickling. Arbitrary objects will no longer be allowed to be loaded via this mode unless they are explicitly allowlisted by the user via `torch.serialization.add_safe_globals`. We recommend you start setting `weights_only=True` for any use case where you don't have full control of the loaded file. Please open an issue on GitHub for any issues related to this experimental feature.\n",
      "  model.load_state_dict(torch.load(model_save_file))\n"
     ]
    }
   ],
   "source": [
    "model_save_path = \"saved_models\"  # Specify your directory to save models\n",
    "os.makedirs(model_save_path, exist_ok=True)  # Create directory if it doesn't exist\n",
    "\n",
    "\n",
    "def get_latest_model_checkpoint(model_save_path):\n",
    "    model_files = os.listdir(model_save_path)\n",
    "    model_epochs = [int(re.findall(r'model_epoch_(\\d+).pt', file)[0]) for file in model_files if file.endswith('.pt')]\n",
    "    \n",
    "    if len(model_epochs)>0:\n",
    "        latest_epoch = max(model_epochs)\n",
    "        model_save_file = os.path.join(model_save_path, f\"model_epoch_{latest_epoch}.pt\")\n",
    "        return latest_epoch, model_save_file\n",
    "    else:\n",
    "        return None, None\n",
    "    \n",
    "latest_epoch, model_save_file = get_latest_model_checkpoint(model_save_path)\n",
    "\n",
    "if model_save_file:\n",
    "    print(f\"Loading model from {model_save_file}\")\n",
    "    model.load_state_dict(torch.load(model_save_file))\n",
    "    current_epoch = latest_epoch + 1\n",
    "else:\n",
    "    print(\"No saved model found. Training from scratch.\")\n",
    "    current_epoch = 0"
   ]
  },
  {
   "cell_type": "code",
   "execution_count": 7,
   "metadata": {},
   "outputs": [
    {
     "name": "stdout",
     "output_type": "stream",
     "text": [
      "Epoch -> 2\n"
     ]
    },
    {
     "name": "stderr",
     "output_type": "stream",
     "text": [
      "Epoch 3/10:  25%|██▌       | 1/4 [00:06<00:20,  6.81s/batch]"
     ]
    }
   ],
   "source": [
    "best_val_loss = float('inf')\n",
    "total_epochs = 10\n",
    "\n",
    "for epoch in range(current_epoch, total_epochs + 1, 1):\n",
    "    print(f\"Epoch -> {epoch}\")\n",
    "    total_loss = 0\n",
    "    \n",
    "    train_data_iterator = iter(train_data_loader)\n",
    "    for batch_num, batch in enumerate(tqdm(train_data_iterator, desc=f'Epoch {epoch + 1}/{total_epochs}', unit='batch')):\n",
    "        model.train()\n",
    "        en_batch, hi_batch = batch\n",
    "        en_batch = en_batch.to(device)\n",
    "        hi_batch = hi_batch.to(device)\n",
    "        \n",
    "        ds_mask, es_mask, edc_mask = get_masks(dataset, en_batch, hi_batch)\n",
    "        ds_mask, es_mask, edc_mask = ds_mask.to(device), es_mask.to(device), edc_mask.to(device)\n",
    "        optim.zero_grad()\n",
    "        \n",
    "        en_batch_embedded, hi_batch_embedded = embeddings(en_batch, hi_batch)\n",
    "        en_batch_embedded, hi_batch_embedded = en_batch_embedded.to(device), hi_batch_embedded.to(device)\n",
    "        hi_prediction = model(en_batch_embedded, hi_batch_embedded, ds_mask, es_mask, edc_mask)\n",
    "        \n",
    "        labels = [dataset.untokenize(hi_batch[index], dataset.index_to_hindi) for index in range(len(hi_batch))]\n",
    "        labels = [dataset.tokenize(labels[index], dataset.hindi_to_index, start_token=False, end_token=True) for index in range(len(hi_batch))]\n",
    "        labels = torch.stack(labels) \n",
    "        loss = criterian(\n",
    "            hi_prediction.view(-1, hi_vocab_size).to(device),\n",
    "            labels.view(-1).to(device)\n",
    "        ).to(device)\n",
    "        \n",
    "        valid_indices = torch.where(labels.view(-1) == dataset.hindi_to_index[dataset.PADDING_TOKEN], False, True)\n",
    "        loss = loss.sum() / valid_indices.sum()\n",
    "        \n",
    "        total_loss += loss.item()\n",
    "        \n",
    "        loss.backward()\n",
    "        optim.step()\n",
    "        \n",
    "        per_batch = 300\n",
    "        if batch_num % per_batch == 0:\n",
    "            writer.add_scalar(f'Loss/Batch', loss.item(), epoch * len(train_data_iterator) + batch_num)\n",
    "    \n",
    "    writer.add_scalar('Loss/Epoch', total_loss/(batch_num + 1), epoch)\n",
    "    print(f\"\\t\\tEpoch [{epoch+1}/{total_epochs}], training Loss: {total_loss/(batch_num + 1):.4f}\")\n",
    "    \n",
    "    # Validation Loop\n",
    "    model.eval()\n",
    "    val_loss = 0\n",
    "    val_data_iterator = iter(val_data_loader)\n",
    "    with torch.no_grad():\n",
    "        for val_batch_num, val_batch in enumerate(tqdm(val_data_iterator, desc=f'Validation Epoch {epoch + 1}/{total_epochs}', unit='batch')):\n",
    "            en_val_batch, hi_val_batch = val_batch\n",
    "            en_val_batch = en_val_batch.to(device)\n",
    "            hi_val_batch = hi_val_batch.to(device)\n",
    "            \n",
    "            ds_val_mask, es_val_mask, edc_val_mask = get_masks(dataset, en_val_batch, hi_val_batch)\n",
    "            ds_val_mask, es_val_mask, edc_val_mask = ds_val_mask.to(device), es_val_mask.to(device), edc_val_mask.to(device)\n",
    "            \n",
    "            en_val_embedded, hi_val_embedded = embeddings(en_val_batch, hi_val_batch)\n",
    "            en_val_embedded, hi_val_embedded = en_val_embedded.to(device), hi_val_embedded.to(device)\n",
    "            \n",
    "            hi_val_prediction = model(en_val_embedded, hi_val_embedded, ds_val_mask, es_val_mask, edc_val_mask)\n",
    "            \n",
    "            val_labels = [dataset.untokenize(hi_val_batch[index], dataset.index_to_hindi) for index in range(len(hi_val_batch))]\n",
    "            val_labels = [dataset.tokenize(val_labels[index], dataset.hindi_to_index, start_token=False, end_token=True) for index in range(len(hi_val_batch))]\n",
    "            val_labels = torch.stack(val_labels) \n",
    "            \n",
    "            val_loss_batch = criterian(\n",
    "                hi_val_prediction.view(-1, hi_vocab_size).to(device),\n",
    "                val_labels.view(-1).to(device)\n",
    "            ).to(device)\n",
    "            \n",
    "            valid_val_indices = torch.where(val_labels.view(-1) == dataset.hindi_to_index[dataset.PADDING_TOKEN], False, True)\n",
    "            val_loss_batch = val_loss_batch.sum() / valid_val_indices.sum()\n",
    "            \n",
    "            val_loss += val_loss_batch.item()\n",
    "    \n",
    "    avg_val_loss = val_loss / (val_batch_num + 1)  # Average validation loss for the epoch\n",
    "    writer.add_scalar('Loss/Validation_Epoch', avg_val_loss, epoch)\n",
    "\n",
    "    ####### Print Epoch Losses #######\n",
    "    print(f\"\\t\\tEpoch [{epoch+1}/{total_epochs}], Validation Loss: {avg_val_loss:.4f}\")\n",
    "    \n",
    "    \n",
    "    print('\\n')\n",
    "    # Save Model\n",
    "    model_save_file = os.path.join(model_save_path, f\"model_epoch_{epoch + 1}.pt\")\n",
    "    torch.save(model.state_dict(), model_save_file)\n",
    "\n",
    "writer.close()"
   ]
  },
  {
   "cell_type": "code",
   "execution_count": null,
   "metadata": {},
   "outputs": [],
   "source": []
  }
 ],
 "metadata": {
  "kernelspec": {
   "display_name": "attention",
   "language": "python",
   "name": "python3"
  },
  "language_info": {
   "codemirror_mode": {
    "name": "ipython",
    "version": 3
   },
   "file_extension": ".py",
   "mimetype": "text/x-python",
   "name": "python",
   "nbconvert_exporter": "python",
   "pygments_lexer": "ipython3",
   "version": "3.9.19"
  }
 },
 "nbformat": 4,
 "nbformat_minor": 2
}
