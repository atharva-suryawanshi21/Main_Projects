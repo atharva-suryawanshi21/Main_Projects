{
 "cells": [
  {
   "cell_type": "markdown",
   "metadata": {},
   "source": [
    "## Multi-Headed Attention\n"
   ]
  },
  {
   "cell_type": "markdown",
   "metadata": {},
   "source": [
    "### Imports\n"
   ]
  },
  {
   "cell_type": "code",
   "execution_count": 1,
   "metadata": {},
   "outputs": [],
   "source": [
    "import torch\n",
    "import torch.nn as nn\n",
    "import torch.nn.functional as F\n",
    "\n",
    "import numpy as np\n",
    "import math"
   ]
  },
  {
   "cell_type": "markdown",
   "metadata": {},
   "source": [
    "### Initials\n"
   ]
  },
  {
   "cell_type": "code",
   "execution_count": 2,
   "metadata": {},
   "outputs": [
    {
     "data": {
      "text/plain": [
       "torch.Size([30, 50, 512])"
      ]
     },
     "execution_count": 2,
     "metadata": {},
     "output_type": "execute_result"
    }
   ],
   "source": [
    "sentence_length = 50\n",
    "batch_size = 30\n",
    "input_dim = 512\n",
    "output_dim = input_dim\n",
    "\n",
    "x = torch.randn( (batch_size, sentence_length, input_dim) )\n",
    "x.shape"
   ]
  },
  {
   "cell_type": "code",
   "execution_count": 3,
   "metadata": {},
   "outputs": [
    {
     "data": {
      "text/plain": [
       "torch.Size([30, 50, 1536])"
      ]
     },
     "execution_count": 3,
     "metadata": {},
     "output_type": "execute_result"
    }
   ],
   "source": [
    "qkv_layer = nn.Linear(input_dim, 3*output_dim)\n",
    "qkv = qkv_layer(x)\n",
    "\n",
    "#qkv now contains q, k and v\n",
    "qkv.shape"
   ]
  },
  {
   "cell_type": "code",
   "execution_count": 4,
   "metadata": {},
   "outputs": [
    {
     "data": {
      "text/plain": [
       "torch.Size([30, 50, 8, 192])"
      ]
     },
     "execution_count": 4,
     "metadata": {},
     "output_type": "execute_result"
    }
   ],
   "source": [
    "n_heads = 8\n",
    "head_dim = output_dim // n_heads\n",
    "# Size of vector for each split of (q, k, or v)\n",
    "# Each head will have its own dimension (head_dim)\n",
    "\n",
    "qkv = qkv.reshape(batch_size, sentence_length, n_heads, 3 * head_dim)\n",
    "# Reshaped qkv: for each batch and each sentence, 'qkv' is divided into 8 parts (n_heads).\n",
    "# Each nth part corresponds to the nth part of query (q), key (k), and value (v).\n",
    "qkv.shape"
   ]
  },
  {
   "cell_type": "code",
   "execution_count": 5,
   "metadata": {},
   "outputs": [
    {
     "data": {
      "text/plain": [
       "torch.Size([30, 8, 50, 192])"
      ]
     },
     "execution_count": 5,
     "metadata": {},
     "output_type": "execute_result"
    }
   ],
   "source": [
    "# for easier parallel operations we switch the positions of sentence_length and n_heads\n",
    "# so for each batch for each head, we will work on sentence with its corresponding vector representation(192 elements)\n",
    "qkv = qkv.permute(0, 2, 1, 3)\n",
    "qkv.shape\n"
   ]
  },
  {
   "cell_type": "code",
   "execution_count": 6,
   "metadata": {},
   "outputs": [
    {
     "data": {
      "text/plain": [
       "(torch.Size([30, 8, 50, 64]),\n",
       " torch.Size([30, 8, 50, 64]),\n",
       " torch.Size([30, 8, 50, 64]))"
      ]
     },
     "execution_count": 6,
     "metadata": {},
     "output_type": "execute_result"
    }
   ],
   "source": [
    "# the sentence representation will be now divided into q, k and v\n",
    "q, k, v = qkv.chunk(3, dim = -1)\n",
    "q.shape, k.shape, v.shape"
   ]
  },
  {
   "cell_type": "markdown",
   "metadata": {},
   "source": [
    "### Attention Mechanism for single thread\n"
   ]
  },
  {
   "cell_type": "code",
   "execution_count": 7,
   "metadata": {},
   "outputs": [
    {
     "data": {
      "text/plain": [
       "torch.Size([30, 8, 64, 50])"
      ]
     },
     "execution_count": 7,
     "metadata": {},
     "output_type": "execute_result"
    }
   ],
   "source": [
    "k_t = k.transpose(-2,-1)\n",
    "k_t.shape"
   ]
  },
  {
   "cell_type": "code",
   "execution_count": 8,
   "metadata": {},
   "outputs": [
    {
     "data": {
      "text/plain": [
       "torch.Size([30, 8, 50, 50])"
      ]
     },
     "execution_count": 8,
     "metadata": {},
     "output_type": "execute_result"
    }
   ],
   "source": [
    "d_k = q.shape[-1]\n",
    "\n",
    "product = torch.matmul(q,k_t) / math.sqrt(d_k)\n",
    "product.shape"
   ]
  },
  {
   "cell_type": "code",
   "execution_count": 9,
   "metadata": {},
   "outputs": [
    {
     "data": {
      "text/plain": [
       "torch.Size([30, 8, 50, 50])"
      ]
     },
     "execution_count": 9,
     "metadata": {},
     "output_type": "execute_result"
    }
   ],
   "source": [
    "# Masking\n",
    "mask = torch.full(product.size(), float('-inf'))\n",
    "mask = torch.triu(mask, diagonal =1)\n",
    "mask[0][0]\n",
    "mask.shape"
   ]
  },
  {
   "cell_type": "code",
   "execution_count": 10,
   "metadata": {},
   "outputs": [
    {
     "data": {
      "text/plain": [
       "tensor([[-0.1269,    -inf,    -inf,  ...,    -inf,    -inf,    -inf],\n",
       "        [-0.2754,  0.6308,    -inf,  ...,    -inf,    -inf,    -inf],\n",
       "        [-0.1359,  0.5563, -0.4251,  ...,    -inf,    -inf,    -inf],\n",
       "        ...,\n",
       "        [-0.5237,  0.0218, -0.2747,  ..., -0.1744,    -inf,    -inf],\n",
       "        [-0.6314,  0.0886, -0.0256,  ...,  0.0645, -0.0662,    -inf],\n",
       "        [-0.1783, -0.1951,  0.0603,  ..., -0.0255, -0.3918,  0.2879]],\n",
       "       grad_fn=<SelectBackward0>)"
      ]
     },
     "execution_count": 10,
     "metadata": {},
     "output_type": "execute_result"
    }
   ],
   "source": [
    "to_mask = 1\n",
    "\n",
    "if to_mask is not None:\n",
    "    product = product + mask\n",
    "    \n",
    "(product+mask)[0][0]"
   ]
  },
  {
   "cell_type": "code",
   "execution_count": 11,
   "metadata": {},
   "outputs": [
    {
     "name": "stdout",
     "output_type": "stream",
     "text": [
      "torch.Size([30, 8, 50, 50])\n"
     ]
    },
    {
     "data": {
      "text/plain": [
       "tensor([[1.0000, 0.0000, 0.0000,  ..., 0.0000, 0.0000, 0.0000],\n",
       "        [0.2878, 0.7122, 0.0000,  ..., 0.0000, 0.0000, 0.0000],\n",
       "        [0.2669, 0.5333, 0.1999,  ..., 0.0000, 0.0000, 0.0000],\n",
       "        ...,\n",
       "        [0.0112, 0.0193, 0.0144,  ..., 0.0159, 0.0000, 0.0000],\n",
       "        [0.0106, 0.0217, 0.0193,  ..., 0.0212, 0.0186, 0.0000],\n",
       "        [0.0165, 0.0162, 0.0209,  ..., 0.0192, 0.0133, 0.0262]],\n",
       "       grad_fn=<SelectBackward0>)"
      ]
     },
     "execution_count": 11,
     "metadata": {},
     "output_type": "execute_result"
    }
   ],
   "source": [
    "attention = F.softmax(product, dim = -1)\n",
    "print(attention.shape)\n",
    "attention[0][0]"
   ]
  },
  {
   "cell_type": "code",
   "execution_count": 12,
   "metadata": {},
   "outputs": [
    {
     "data": {
      "text/plain": [
       "torch.Size([30, 8, 50, 64])"
      ]
     },
     "execution_count": 12,
     "metadata": {},
     "output_type": "execute_result"
    }
   ],
   "source": [
    "values = torch.matmul(attention, v)\n",
    "values.shape"
   ]
  },
  {
   "cell_type": "code",
   "execution_count": 13,
   "metadata": {},
   "outputs": [
    {
     "data": {
      "text/plain": [
       "torch.Size([30, 50, 8, 64])"
      ]
     },
     "execution_count": 13,
     "metadata": {},
     "output_type": "execute_result"
    }
   ],
   "source": [
    "# now we reshape the values to concatenate each head\n",
    "# note that previously 'values' was for each head, now we reshape to get 'values' or each sentence (i.e. vector representation of each sentence)\n",
    "# for that we need to permute to appropriate format\n",
    "values = values.permute(0,2,1,3)\n",
    "values.shape"
   ]
  },
  {
   "cell_type": "code",
   "execution_count": 14,
   "metadata": {},
   "outputs": [
    {
     "data": {
      "text/plain": [
       "torch.Size([30, 50, 512])"
      ]
     },
     "execution_count": 14,
     "metadata": {},
     "output_type": "execute_result"
    }
   ],
   "source": [
    "values = values.reshape(30, 50, 8*64)\n",
    "values.shape"
   ]
  },
  {
   "cell_type": "code",
   "execution_count": 15,
   "metadata": {},
   "outputs": [],
   "source": [
    "linear_layer = nn.Linear(output_dim, output_dim)\n",
    "out = linear_layer(values)"
   ]
  },
  {
   "cell_type": "code",
   "execution_count": 16,
   "metadata": {},
   "outputs": [
    {
     "data": {
      "text/plain": [
       "torch.Size([30, 50, 512])"
      ]
     },
     "execution_count": 16,
     "metadata": {},
     "output_type": "execute_result"
    }
   ],
   "source": [
    "out.shape"
   ]
  },
  {
   "cell_type": "code",
   "execution_count": 17,
   "metadata": {},
   "outputs": [],
   "source": [
    "%reset -f"
   ]
  },
  {
   "cell_type": "markdown",
   "metadata": {},
   "source": [
    "## Positional Encoding\n"
   ]
  },
  {
   "cell_type": "code",
   "execution_count": 18,
   "metadata": {},
   "outputs": [],
   "source": [
    "import torch \n",
    "import torch.nn as nn\n"
   ]
  },
  {
   "cell_type": "code",
   "execution_count": 19,
   "metadata": {},
   "outputs": [],
   "source": [
    "# the below code is inefficient and there are better ways to write\n",
    "# I came up with the following logic by understanding the concept\n",
    "# to respect i will include this code in my final code inspite of inefficiency"
   ]
  },
  {
   "cell_type": "code",
   "execution_count": 20,
   "metadata": {},
   "outputs": [
    {
     "data": {
      "text/plain": [
       "tensor([[ 0.0000,  1.0000,  0.0000,  1.0000,  0.0000,  1.0000],\n",
       "        [ 0.8415,  0.5403,  0.0464,  0.9989,  0.0022,  1.0000],\n",
       "        [ 0.9093, -0.4161,  0.0927,  0.9957,  0.0043,  1.0000],\n",
       "        [ 0.1411, -0.9900,  0.1388,  0.9903,  0.0065,  1.0000],\n",
       "        [-0.7568, -0.6536,  0.1846,  0.9828,  0.0086,  1.0000],\n",
       "        [-0.9589,  0.2837,  0.2300,  0.9732,  0.0108,  0.9999],\n",
       "        [-0.2794,  0.9602,  0.2749,  0.9615,  0.0129,  0.9999],\n",
       "        [ 0.6570,  0.7539,  0.3192,  0.9477,  0.0151,  0.9999],\n",
       "        [ 0.9894, -0.1455,  0.3629,  0.9318,  0.0172,  0.9999],\n",
       "        [ 0.4121, -0.9111,  0.4057,  0.9140,  0.0194,  0.9998]])"
      ]
     },
     "execution_count": 20,
     "metadata": {},
     "output_type": "execute_result"
    }
   ],
   "source": [
    "d_model = 6 #embeddings\n",
    "sequence_length = 10\n",
    "\n",
    "position = torch.arange(0, sequence_length, 1, dtype=torch.float32).unsqueeze(1)\n",
    "\n",
    "# in paper they have given that in denominator 2*i ,i.e even numbers to be filled in place of 2*i\n",
    "even_numbers = torch.arange(0,d_model, 2, dtype=torch.float32)\n",
    "denominator = torch.pow(10_000, even_numbers/d_model)\n",
    "\n",
    "position_embedding = torch.zeros(sequence_length, d_model)\n",
    "for index, pos in enumerate(position):\n",
    "    for i in range(d_model):\n",
    "        if i % 2 == 0:\n",
    "            position_embedding[index][i] = torch.sin((pos/denominator[i // 2]))\n",
    "\n",
    "        else:\n",
    "            position_embedding[index][i] = torch.cos((pos/denominator[i // 2]))\n",
    "\n",
    "position_embedding"
   ]
  },
  {
   "cell_type": "code",
   "execution_count": 21,
   "metadata": {},
   "outputs": [],
   "source": [
    "# below is the efficient code"
   ]
  },
  {
   "cell_type": "code",
   "execution_count": 22,
   "metadata": {},
   "outputs": [
    {
     "name": "stdout",
     "output_type": "stream",
     "text": [
      "tensor([  1.0000,  21.5443, 464.1590])\n",
      "tensor([[ 0.0000,  1.0000,  0.0000,  1.0000,  0.0000,  1.0000],\n",
      "        [ 0.8415,  0.5403,  0.0464,  0.9989,  0.0022,  1.0000],\n",
      "        [ 0.9093, -0.4161,  0.0927,  0.9957,  0.0043,  1.0000],\n",
      "        [ 0.1411, -0.9900,  0.1388,  0.9903,  0.0065,  1.0000],\n",
      "        [-0.7568, -0.6536,  0.1846,  0.9828,  0.0086,  1.0000],\n",
      "        [-0.9589,  0.2837,  0.2300,  0.9732,  0.0108,  0.9999],\n",
      "        [-0.2794,  0.9602,  0.2749,  0.9615,  0.0129,  0.9999],\n",
      "        [ 0.6570,  0.7539,  0.3192,  0.9477,  0.0151,  0.9999],\n",
      "        [ 0.9894, -0.1455,  0.3629,  0.9318,  0.0172,  0.9999],\n",
      "        [ 0.4121, -0.9111,  0.4057,  0.9140,  0.0194,  0.9998]])\n"
     ]
    }
   ],
   "source": [
    "import torch\n",
    "\n",
    "def positional_encoding(sequence_length, d_model):\n",
    "    # Create position tensor with shape (sequence_length, 1)\n",
    "    position = torch.arange(0, sequence_length, 1, dtype=torch.float32).unsqueeze(1)\n",
    "    \n",
    "    # Create the denominator term based on powers of 10_000\n",
    "    denominator = torch.pow(10_000, torch.arange(0, d_model, 2, dtype=torch.float32) / d_model)\n",
    "    print(denominator)\n",
    "    # Calculate the positional encoding matrix\n",
    "    pe = torch.zeros(sequence_length, d_model)\n",
    "    pe[:, 0::2] = torch.sin(position / denominator)  # Apply sine to even indices\n",
    "    pe[:, 1::2] = torch.cos(position / denominator)  # Apply cosine to odd indices\n",
    "    \n",
    "    return pe\n",
    "\n",
    "# Example usage\n",
    "sequence_length = 10  # Number of tokens in the sequence\n",
    "d_model = 6         # Embedding dimension\n",
    "position_embedding = positional_encoding(sequence_length, d_model)\n",
    "\n",
    "print(position_embedding)  # Expected output: torch.Size([50, 512])\n"
   ]
  },
  {
   "cell_type": "code",
   "execution_count": 23,
   "metadata": {},
   "outputs": [],
   "source": [
    "%reset -f"
   ]
  },
  {
   "cell_type": "markdown",
   "metadata": {},
   "source": [
    "## Layer Normalization\n"
   ]
  },
  {
   "cell_type": "code",
   "execution_count": 24,
   "metadata": {},
   "outputs": [],
   "source": [
    "import torch\n",
    "import torch.nn as nn"
   ]
  },
  {
   "cell_type": "code",
   "execution_count": 25,
   "metadata": {},
   "outputs": [
    {
     "data": {
      "text/plain": [
       "torch.Size([2, 1, 3])"
      ]
     },
     "execution_count": 25,
     "metadata": {},
     "output_type": "execute_result"
    }
   ],
   "source": [
    "inputs = torch.rand(1,2,3)\n",
    "\n",
    "batch, words, embeddings = inputs.shape\n",
    "inputs_per_word = inputs.permute(1,0,2)\n",
    "inputs_per_word.shape"
   ]
  },
  {
   "cell_type": "code",
   "execution_count": 26,
   "metadata": {},
   "outputs": [
    {
     "data": {
      "text/plain": [
       "torch.Size([1, 3])"
      ]
     },
     "execution_count": 26,
     "metadata": {},
     "output_type": "execute_result"
    }
   ],
   "source": [
    "# we introduce gamma, beta, cauz if not then the outputs will always be in a fixed length\n",
    "# by introducing these, we have varied ranges(of cource learned from data), increasing the representation power\n",
    "\n",
    "parameter_shape = inputs_per_word.size()[-2:]\n",
    "gamma = nn.Parameter(torch.ones(parameter_shape))\n",
    "beta = nn.Parameter(torch.zeros(parameter_shape))\n",
    "parameter_shape"
   ]
  },
  {
   "cell_type": "code",
   "execution_count": 27,
   "metadata": {},
   "outputs": [
    {
     "data": {
      "text/plain": [
       "(tensor([[[0.5155]],\n",
       " \n",
       "         [[0.5518]]]),\n",
       " torch.Size([2, 1, 1]))"
      ]
     },
     "execution_count": 27,
     "metadata": {},
     "output_type": "execute_result"
    }
   ],
   "source": [
    "mean = inputs_per_word.mean(dim = [-2,-1], keepdim=True)\n",
    "mean, mean.shape"
   ]
  },
  {
   "cell_type": "code",
   "execution_count": 28,
   "metadata": {},
   "outputs": [
    {
     "data": {
      "text/plain": [
       "tensor([[[0.3074]],\n",
       "\n",
       "        [[0.1467]]])"
      ]
     },
     "execution_count": 28,
     "metadata": {},
     "output_type": "execute_result"
    }
   ],
   "source": [
    "var, mean = torch.var_mean(inputs_per_word, dim = [-2,-1], unbiased=False, keepdim=True)\n",
    "epsilon = 1e-5\n",
    "\n",
    "std = (var + epsilon).sqrt()\n",
    "std"
   ]
  },
  {
   "cell_type": "code",
   "execution_count": 29,
   "metadata": {},
   "outputs": [
    {
     "data": {
      "text/plain": [
       "tensor([[[ 1.2248e+00, -2.2416e-04, -1.2246e+00]],\n",
       "\n",
       "        [[-9.0923e-01,  1.3923e+00, -4.8308e-01]]])"
      ]
     },
     "execution_count": 29,
     "metadata": {},
     "output_type": "execute_result"
    }
   ],
   "source": [
    "y =(inputs_per_word-mean)/std\n",
    "y"
   ]
  },
  {
   "cell_type": "code",
   "execution_count": 30,
   "metadata": {},
   "outputs": [
    {
     "data": {
      "text/plain": [
       "tensor([[[ 1.2248e+00, -2.2416e-04, -1.2246e+00]],\n",
       "\n",
       "        [[-9.0923e-01,  1.3923e+00, -4.8308e-01]]], grad_fn=<AddBackward0>)"
      ]
     },
     "execution_count": 30,
     "metadata": {},
     "output_type": "execute_result"
    }
   ],
   "source": [
    "out = gamma*y + beta\n",
    "out"
   ]
  },
  {
   "cell_type": "code",
   "execution_count": 31,
   "metadata": {},
   "outputs": [],
   "source": [
    "%reset -f"
   ]
  },
  {
   "cell_type": "markdown",
   "metadata": {},
   "source": [
    "## Encoder\n"
   ]
  },
  {
   "cell_type": "code",
   "execution_count": 32,
   "metadata": {},
   "outputs": [],
   "source": [
    "sequence_length = 50\n",
    "batch_size = 30\n",
    "d_model = 512 # embeddings\n",
    "num_heads = 8  # number of attention heads\n",
    "dropout = 0.1\n",
    "to_mask = False\n",
    "feed_forward_hidden = 2048\n",
    "num_encoder_layers = 5"
   ]
  },
  {
   "cell_type": "code",
   "execution_count": null,
   "metadata": {},
   "outputs": [],
   "source": []
  },
  {
   "cell_type": "code",
   "execution_count": null,
   "metadata": {},
   "outputs": [],
   "source": []
  }
 ],
 "metadata": {
  "kernelspec": {
   "display_name": "attention",
   "language": "python",
   "name": "python3"
  },
  "language_info": {
   "codemirror_mode": {
    "name": "ipython",
    "version": 3
   },
   "file_extension": ".py",
   "mimetype": "text/x-python",
   "name": "python",
   "nbconvert_exporter": "python",
   "pygments_lexer": "ipython3",
   "version": "3.9.19"
  }
 },
 "nbformat": 4,
 "nbformat_minor": 2
}
